{
 "cells": [
  {
   "cell_type": "markdown",
   "id": "9a26d59e-e65d-4171-8370-25a558a7b84d",
   "metadata": {},
   "source": [
    "## Happy Customers"
   ]
  },
  {
   "cell_type": "markdown",
   "id": "f689e77c-8fbe-4a32-80d6-c5c9ec689927",
   "metadata": {},
   "source": [
    "---"
   ]
  },
  {
   "cell_type": "markdown",
   "id": "671c8bea-caa6-49e2-bbe9-cdc813eb8a0d",
   "metadata": {},
   "source": [
    "**Background:**\n",
    "We are one of the fastest growing startups in the logistics and delivery domain. We work with several partners and make on-demand delivery to our customers. From operational standpoint we have been facing several different challenges and everyday we are trying to address these challenges.\n",
    "We thrive on making our customers happy. As a growing startup, with a global expansion strategy we know that we need to make our customers happy and the only way to do that is to measure how happy each customer is. If we can predict what makes our customers happy or unhappy, we can then take necessary actions.\n",
    "Getting feedback from customers is not easy either, but we do our best to get constant feedback from our customers. This is a crucial function to improve our operations across all levels.\n",
    "We recently did a survey to a select customer cohort. You are presented with a subset of this data. We will be using the remaining data as a private test set.\n",
    "\n",
    "**Data Description:**\n",
    "\n",
    "    Y = target attribute (Y) with values indicating 0 (unhappy) and 1 (happy) customers\n",
    "    X1 = my order was delivered on time\n",
    "    X2 = contents of my order was as I expected\n",
    "    X3 = I ordered everything I wanted to order\n",
    "    X4 = I paid a good price for my order\n",
    "    X5 = I am satisfied with my courier\n",
    "    X6 = the app makes ordering easy for me\n",
    "\n",
    "Attributes X1 to X6 indicate the responses for each question and have values from 1 to 5 where the smaller number indicates less and the higher number indicates more towards the answer.\n",
    "\n",
    "**Goal(s):**\n",
    "\n",
    "Predict if a customer is happy or not based on the answers they give to questions asked.\n",
    "Success Metrics:\n",
    "\n",
    "Reach 73% accuracy score or above, or convince us why your solution is superior. We are definitely interested in every solution and insight you can provide us.\n",
    "Try to submit your working solution as soon as possible. The sooner the better.\n",
    "\n",
    "**Bonus(es):**\n",
    "\n",
    "We are very interested in finding which questions/features are more important when predicting a customer’s happiness. Using a feature selection approach show us understand what is the minimal set of attributes/features that would preserve the most information about the problem while increasing predictability of the data we have. Is there any question that we can remove in our next survey? "
   ]
  },
  {
   "cell_type": "markdown",
   "id": "436512b0-0191-488b-a3ee-0f38731e8d7d",
   "metadata": {},
   "source": [
    "----"
   ]
  },
  {
   "cell_type": "markdown",
   "id": "0dcee871-cafa-4df7-a21c-5be1bdbc1fd5",
   "metadata": {},
   "source": [
    "### Let's begin with Exploratory Data Analysis"
   ]
  },
  {
   "cell_type": "code",
   "execution_count": 6,
   "id": "9c4a4531-f3cb-42a5-b522-8d87bd1e918a",
   "metadata": {},
   "outputs": [],
   "source": [
    "import pandas as pd"
   ]
  },
  {
   "cell_type": "code",
   "execution_count": 8,
   "id": "c8643d31-f522-41c4-8213-a4d5889b977d",
   "metadata": {},
   "outputs": [],
   "source": [
    "df = pd.read_csv('ACME-HappinessSurvey2020.csv')"
   ]
  },
  {
   "cell_type": "code",
   "execution_count": 10,
   "id": "8546762f-e4a1-43aa-8294-b038e00e6007",
   "metadata": {},
   "outputs": [
    {
     "name": "stdout",
     "output_type": "stream",
     "text": [
      "<class 'pandas.core.frame.DataFrame'>\n",
      "RangeIndex: 126 entries, 0 to 125\n",
      "Data columns (total 7 columns):\n",
      " #   Column  Non-Null Count  Dtype\n",
      "---  ------  --------------  -----\n",
      " 0   Y       126 non-null    int64\n",
      " 1   X1      126 non-null    int64\n",
      " 2   X2      126 non-null    int64\n",
      " 3   X3      126 non-null    int64\n",
      " 4   X4      126 non-null    int64\n",
      " 5   X5      126 non-null    int64\n",
      " 6   X6      126 non-null    int64\n",
      "dtypes: int64(7)\n",
      "memory usage: 7.0 KB\n"
     ]
    }
   ],
   "source": [
    "df.info()"
   ]
  },
  {
   "cell_type": "code",
   "execution_count": 12,
   "id": "4fee53bc-cc9f-41da-bf55-5a1637e2afa0",
   "metadata": {},
   "outputs": [
    {
     "data": {
      "text/html": [
       "<div>\n",
       "<style scoped>\n",
       "    .dataframe tbody tr th:only-of-type {\n",
       "        vertical-align: middle;\n",
       "    }\n",
       "\n",
       "    .dataframe tbody tr th {\n",
       "        vertical-align: top;\n",
       "    }\n",
       "\n",
       "    .dataframe thead th {\n",
       "        text-align: right;\n",
       "    }\n",
       "</style>\n",
       "<table border=\"1\" class=\"dataframe\">\n",
       "  <thead>\n",
       "    <tr style=\"text-align: right;\">\n",
       "      <th></th>\n",
       "      <th>Y</th>\n",
       "      <th>X1</th>\n",
       "      <th>X2</th>\n",
       "      <th>X3</th>\n",
       "      <th>X4</th>\n",
       "      <th>X5</th>\n",
       "      <th>X6</th>\n",
       "    </tr>\n",
       "  </thead>\n",
       "  <tbody>\n",
       "    <tr>\n",
       "      <th>count</th>\n",
       "      <td>126.000000</td>\n",
       "      <td>126.000000</td>\n",
       "      <td>126.000000</td>\n",
       "      <td>126.000000</td>\n",
       "      <td>126.000000</td>\n",
       "      <td>126.000000</td>\n",
       "      <td>126.000000</td>\n",
       "    </tr>\n",
       "    <tr>\n",
       "      <th>mean</th>\n",
       "      <td>0.547619</td>\n",
       "      <td>4.333333</td>\n",
       "      <td>2.531746</td>\n",
       "      <td>3.309524</td>\n",
       "      <td>3.746032</td>\n",
       "      <td>3.650794</td>\n",
       "      <td>4.253968</td>\n",
       "    </tr>\n",
       "    <tr>\n",
       "      <th>std</th>\n",
       "      <td>0.499714</td>\n",
       "      <td>0.800000</td>\n",
       "      <td>1.114892</td>\n",
       "      <td>1.023440</td>\n",
       "      <td>0.875776</td>\n",
       "      <td>1.147641</td>\n",
       "      <td>0.809311</td>\n",
       "    </tr>\n",
       "    <tr>\n",
       "      <th>min</th>\n",
       "      <td>0.000000</td>\n",
       "      <td>1.000000</td>\n",
       "      <td>1.000000</td>\n",
       "      <td>1.000000</td>\n",
       "      <td>1.000000</td>\n",
       "      <td>1.000000</td>\n",
       "      <td>1.000000</td>\n",
       "    </tr>\n",
       "    <tr>\n",
       "      <th>25%</th>\n",
       "      <td>0.000000</td>\n",
       "      <td>4.000000</td>\n",
       "      <td>2.000000</td>\n",
       "      <td>3.000000</td>\n",
       "      <td>3.000000</td>\n",
       "      <td>3.000000</td>\n",
       "      <td>4.000000</td>\n",
       "    </tr>\n",
       "    <tr>\n",
       "      <th>50%</th>\n",
       "      <td>1.000000</td>\n",
       "      <td>5.000000</td>\n",
       "      <td>3.000000</td>\n",
       "      <td>3.000000</td>\n",
       "      <td>4.000000</td>\n",
       "      <td>4.000000</td>\n",
       "      <td>4.000000</td>\n",
       "    </tr>\n",
       "    <tr>\n",
       "      <th>75%</th>\n",
       "      <td>1.000000</td>\n",
       "      <td>5.000000</td>\n",
       "      <td>3.000000</td>\n",
       "      <td>4.000000</td>\n",
       "      <td>4.000000</td>\n",
       "      <td>4.000000</td>\n",
       "      <td>5.000000</td>\n",
       "    </tr>\n",
       "    <tr>\n",
       "      <th>max</th>\n",
       "      <td>1.000000</td>\n",
       "      <td>5.000000</td>\n",
       "      <td>5.000000</td>\n",
       "      <td>5.000000</td>\n",
       "      <td>5.000000</td>\n",
       "      <td>5.000000</td>\n",
       "      <td>5.000000</td>\n",
       "    </tr>\n",
       "  </tbody>\n",
       "</table>\n",
       "</div>"
      ],
      "text/plain": [
       "                Y          X1          X2          X3          X4          X5  \\\n",
       "count  126.000000  126.000000  126.000000  126.000000  126.000000  126.000000   \n",
       "mean     0.547619    4.333333    2.531746    3.309524    3.746032    3.650794   \n",
       "std      0.499714    0.800000    1.114892    1.023440    0.875776    1.147641   \n",
       "min      0.000000    1.000000    1.000000    1.000000    1.000000    1.000000   \n",
       "25%      0.000000    4.000000    2.000000    3.000000    3.000000    3.000000   \n",
       "50%      1.000000    5.000000    3.000000    3.000000    4.000000    4.000000   \n",
       "75%      1.000000    5.000000    3.000000    4.000000    4.000000    4.000000   \n",
       "max      1.000000    5.000000    5.000000    5.000000    5.000000    5.000000   \n",
       "\n",
       "               X6  \n",
       "count  126.000000  \n",
       "mean     4.253968  \n",
       "std      0.809311  \n",
       "min      1.000000  \n",
       "25%      4.000000  \n",
       "50%      4.000000  \n",
       "75%      5.000000  \n",
       "max      5.000000  "
      ]
     },
     "execution_count": 12,
     "metadata": {},
     "output_type": "execute_result"
    }
   ],
   "source": [
    "df.describe()"
   ]
  },
  {
   "cell_type": "code",
   "execution_count": 14,
   "id": "f4751c65-6a1c-4ba4-9944-be9b7fcdb4f1",
   "metadata": {},
   "outputs": [
    {
     "name": "stdout",
     "output_type": "stream",
     "text": [
      "16\n"
     ]
    }
   ],
   "source": [
    "print(df.duplicated().sum())"
   ]
  },
  {
   "cell_type": "code",
   "execution_count": 16,
   "id": "e4f40e09-1619-44f2-b49b-d8fd6860c947",
   "metadata": {},
   "outputs": [
    {
     "data": {
      "text/plain": [
       "(31, 7)"
      ]
     },
     "execution_count": 16,
     "metadata": {},
     "output_type": "execute_result"
    }
   ],
   "source": [
    "duplicates = df[df.duplicated(keep=False)].sort_values(by=df.columns.tolist())\n",
    "duplicates.shape"
   ]
  },
  {
   "cell_type": "markdown",
   "id": "be5731df-1d93-4dbc-8492-bee67c01c987",
   "metadata": {},
   "source": [
    "#### The number of duplicates is significant: 31 rows in the dataset are repeated instances, corresponding to 15 unique duplicated rows (=31-16)."
   ]
  },
  {
   "cell_type": "code",
   "execution_count": 19,
   "id": "7fd1c7d5-a363-428d-bb60-f19ff7d4ff7a",
   "metadata": {},
   "outputs": [
    {
     "data": {
      "text/html": [
       "<div>\n",
       "<style scoped>\n",
       "    .dataframe tbody tr th:only-of-type {\n",
       "        vertical-align: middle;\n",
       "    }\n",
       "\n",
       "    .dataframe tbody tr th {\n",
       "        vertical-align: top;\n",
       "    }\n",
       "\n",
       "    .dataframe thead th {\n",
       "        text-align: right;\n",
       "    }\n",
       "</style>\n",
       "<table border=\"1\" class=\"dataframe\">\n",
       "  <thead>\n",
       "    <tr style=\"text-align: right;\">\n",
       "      <th></th>\n",
       "      <th>Y</th>\n",
       "      <th>X1</th>\n",
       "      <th>X2</th>\n",
       "      <th>X3</th>\n",
       "      <th>X4</th>\n",
       "      <th>X5</th>\n",
       "      <th>X6</th>\n",
       "      <th>count</th>\n",
       "    </tr>\n",
       "  </thead>\n",
       "  <tbody>\n",
       "    <tr>\n",
       "      <th>0</th>\n",
       "      <td>1</td>\n",
       "      <td>5</td>\n",
       "      <td>1</td>\n",
       "      <td>3</td>\n",
       "      <td>3</td>\n",
       "      <td>4</td>\n",
       "      <td>4</td>\n",
       "      <td>3</td>\n",
       "    </tr>\n",
       "    <tr>\n",
       "      <th>1</th>\n",
       "      <td>0</td>\n",
       "      <td>4</td>\n",
       "      <td>3</td>\n",
       "      <td>5</td>\n",
       "      <td>5</td>\n",
       "      <td>5</td>\n",
       "      <td>4</td>\n",
       "      <td>2</td>\n",
       "    </tr>\n",
       "    <tr>\n",
       "      <th>2</th>\n",
       "      <td>1</td>\n",
       "      <td>5</td>\n",
       "      <td>4</td>\n",
       "      <td>4</td>\n",
       "      <td>4</td>\n",
       "      <td>4</td>\n",
       "      <td>5</td>\n",
       "      <td>2</td>\n",
       "    </tr>\n",
       "    <tr>\n",
       "      <th>3</th>\n",
       "      <td>1</td>\n",
       "      <td>5</td>\n",
       "      <td>5</td>\n",
       "      <td>5</td>\n",
       "      <td>5</td>\n",
       "      <td>5</td>\n",
       "      <td>5</td>\n",
       "      <td>2</td>\n",
       "    </tr>\n",
       "    <tr>\n",
       "      <th>4</th>\n",
       "      <td>1</td>\n",
       "      <td>5</td>\n",
       "      <td>3</td>\n",
       "      <td>4</td>\n",
       "      <td>3</td>\n",
       "      <td>4</td>\n",
       "      <td>5</td>\n",
       "      <td>2</td>\n",
       "    </tr>\n",
       "    <tr>\n",
       "      <th>5</th>\n",
       "      <td>0</td>\n",
       "      <td>4</td>\n",
       "      <td>2</td>\n",
       "      <td>4</td>\n",
       "      <td>4</td>\n",
       "      <td>4</td>\n",
       "      <td>4</td>\n",
       "      <td>2</td>\n",
       "    </tr>\n",
       "    <tr>\n",
       "      <th>6</th>\n",
       "      <td>1</td>\n",
       "      <td>5</td>\n",
       "      <td>1</td>\n",
       "      <td>5</td>\n",
       "      <td>5</td>\n",
       "      <td>5</td>\n",
       "      <td>5</td>\n",
       "      <td>2</td>\n",
       "    </tr>\n",
       "    <tr>\n",
       "      <th>7</th>\n",
       "      <td>1</td>\n",
       "      <td>5</td>\n",
       "      <td>2</td>\n",
       "      <td>4</td>\n",
       "      <td>4</td>\n",
       "      <td>5</td>\n",
       "      <td>5</td>\n",
       "      <td>2</td>\n",
       "    </tr>\n",
       "    <tr>\n",
       "      <th>8</th>\n",
       "      <td>1</td>\n",
       "      <td>3</td>\n",
       "      <td>3</td>\n",
       "      <td>1</td>\n",
       "      <td>3</td>\n",
       "      <td>3</td>\n",
       "      <td>4</td>\n",
       "      <td>2</td>\n",
       "    </tr>\n",
       "    <tr>\n",
       "      <th>9</th>\n",
       "      <td>1</td>\n",
       "      <td>4</td>\n",
       "      <td>3</td>\n",
       "      <td>2</td>\n",
       "      <td>4</td>\n",
       "      <td>3</td>\n",
       "      <td>4</td>\n",
       "      <td>2</td>\n",
       "    </tr>\n",
       "    <tr>\n",
       "      <th>10</th>\n",
       "      <td>1</td>\n",
       "      <td>4</td>\n",
       "      <td>1</td>\n",
       "      <td>3</td>\n",
       "      <td>4</td>\n",
       "      <td>4</td>\n",
       "      <td>4</td>\n",
       "      <td>2</td>\n",
       "    </tr>\n",
       "    <tr>\n",
       "      <th>11</th>\n",
       "      <td>1</td>\n",
       "      <td>3</td>\n",
       "      <td>2</td>\n",
       "      <td>4</td>\n",
       "      <td>4</td>\n",
       "      <td>4</td>\n",
       "      <td>5</td>\n",
       "      <td>2</td>\n",
       "    </tr>\n",
       "    <tr>\n",
       "      <th>12</th>\n",
       "      <td>0</td>\n",
       "      <td>5</td>\n",
       "      <td>4</td>\n",
       "      <td>3</td>\n",
       "      <td>3</td>\n",
       "      <td>3</td>\n",
       "      <td>5</td>\n",
       "      <td>2</td>\n",
       "    </tr>\n",
       "    <tr>\n",
       "      <th>13</th>\n",
       "      <td>1</td>\n",
       "      <td>5</td>\n",
       "      <td>3</td>\n",
       "      <td>3</td>\n",
       "      <td>4</td>\n",
       "      <td>4</td>\n",
       "      <td>5</td>\n",
       "      <td>2</td>\n",
       "    </tr>\n",
       "    <tr>\n",
       "      <th>14</th>\n",
       "      <td>1</td>\n",
       "      <td>5</td>\n",
       "      <td>2</td>\n",
       "      <td>4</td>\n",
       "      <td>3</td>\n",
       "      <td>4</td>\n",
       "      <td>5</td>\n",
       "      <td>2</td>\n",
       "    </tr>\n",
       "  </tbody>\n",
       "</table>\n",
       "</div>"
      ],
      "text/plain": [
       "    Y  X1  X2  X3  X4  X5  X6  count\n",
       "0   1   5   1   3   3   4   4      3\n",
       "1   0   4   3   5   5   5   4      2\n",
       "2   1   5   4   4   4   4   5      2\n",
       "3   1   5   5   5   5   5   5      2\n",
       "4   1   5   3   4   3   4   5      2\n",
       "5   0   4   2   4   4   4   4      2\n",
       "6   1   5   1   5   5   5   5      2\n",
       "7   1   5   2   4   4   5   5      2\n",
       "8   1   3   3   1   3   3   4      2\n",
       "9   1   4   3   2   4   3   4      2\n",
       "10  1   4   1   3   4   4   4      2\n",
       "11  1   3   2   4   4   4   5      2\n",
       "12  0   5   4   3   3   3   5      2\n",
       "13  1   5   3   3   4   4   5      2\n",
       "14  1   5   2   4   3   4   5      2"
      ]
     },
     "execution_count": 19,
     "metadata": {},
     "output_type": "execute_result"
    }
   ],
   "source": [
    "df.value_counts().loc[lambda x: x > 1].reset_index()"
   ]
  },
  {
   "cell_type": "markdown",
   "id": "2812dab6-8a83-47fe-9e7e-4e2334c68602",
   "metadata": {},
   "source": [
    "Although the number of duplicates is significant, I chose to keep them, as the problem statement makes no mention of handling duplicates. Therefore, I consider them representative of the dataset and reflective of the original data distribution."
   ]
  },
  {
   "cell_type": "code",
   "execution_count": 24,
   "id": "65745489-059b-4236-9393-40f44774842a",
   "metadata": {},
   "outputs": [
    {
     "name": "stdout",
     "output_type": "stream",
     "text": [
      "Y     0\n",
      "X1    0\n",
      "X2    0\n",
      "X3    0\n",
      "X4    0\n",
      "X5    0\n",
      "X6    0\n",
      "dtype: int64\n"
     ]
    }
   ],
   "source": [
    "print(df.isnull().sum())"
   ]
  },
  {
   "cell_type": "code",
   "execution_count": 28,
   "id": "77da15a3-c1ff-4b4d-bd99-804534001d83",
   "metadata": {},
   "outputs": [
    {
     "data": {
      "image/png": "[encoded data removed]",
      "text/plain": [
       "<Figure size 640x480 with 1 Axes>"
      ]
     },
     "metadata": {},
     "output_type": "display_data"
    }
   ],
   "source": [
    "import seaborn as sns\n",
    "import matplotlib.pyplot as plt\n",
    "\n",
    "sns.countplot(x='Y', data=df)\n",
    "plt.title(\"target balance\")\n",
    "plt.xlabel(\"Customer Happiness (0= Unhappy, 1= Happy)\")\n",
    "plt.ylabel(\"Count\")\n",
    "plt.show()"
   ]
  },
  {
   "cell_type": "code",
   "execution_count": 30,
   "id": "b466f942-7b7d-4b6b-b526-06a68de72f41",
   "metadata": {},
   "outputs": [
    {
     "name": "stdout",
     "output_type": "stream",
     "text": [
      "Class\t\t\trows\t%\n",
      "Possitive(1 = Happy)  \t69 \t54.8\n",
      "Negative(0 = Unhappy)\t57 \t45.2\n"
     ]
    }
   ],
   "source": [
    "rows = df.shape[0]\n",
    "print(f'Class\\t\\t\\trows\\t%\\nPossitive(1 = Happy)  \\t{df[df['Y']==1].shape[0]} \\t{(100*df[df['Y']==1].shape[0]/rows):.1f}')\n",
    "print(f'Negative(0 = Unhappy)\\t{df[df['Y']==0].shape[0]} \\t{(100*df[df['Y']==0].shape[0]/rows):.1f}')"
   ]
  },
  {
   "cell_type": "code",
   "execution_count": 32,
   "id": "08dddcab-5dd1-430d-81bf-278f75794d20",
   "metadata": {},
   "outputs": [],
   "source": [
    "features = [ 'X' + str(i) for i in range(1,7,1)]\n"
   ]
  },
  {
   "cell_type": "code",
   "execution_count": 34,
   "id": "e3858aef-0b34-465a-891b-2ab61384413a",
   "metadata": {},
   "outputs": [
    {
     "data": {
      "image/png": "[encoded data removed]",
      "text/plain": [
       "<Figure size 1000x600 with 1 Axes>"
      ]
     },
     "metadata": {},
     "output_type": "display_data"
    }
   ],
   "source": [
    "import seaborn as sns\n",
    "import matplotlib.pyplot as plt\n",
    "\n",
    "means = df.groupby('Y')[features].mean().T\n",
    "means.plot(kind='bar', figsize=(10, 6), colormap='viridis')\n",
    "plt.title('Average Feature Ratings by Customer Happiness')\n",
    "plt.ylabel('Mean Score')\n",
    "plt.xlabel('Feature')\n",
    "plt.xticks(rotation=0)\n",
    "plt.legend(title='Y', labels=['Unhappy', 'Happy'])\n",
    "plt.tight_layout()\n",
    "plt.show()"
   ]
  },
  {
   "cell_type": "markdown",
   "id": "ea7ec3db-9e0d-4f2d-832d-24454f28b024",
   "metadata": {},
   "source": [
    "##### X1 = my order was delivered on time\n",
    "##### X2 = contents of my order was as I expected\n",
    "##### X3 = I ordered everything I wanted to order\n",
    "##### X4 = I paid a good price for my order\n",
    "##### X5 = I am satisfied with my courier\n",
    "##### X6 = the app makes ordering easy for me"
   ]
  },
  {
   "cell_type": "code",
   "execution_count": 37,
   "id": "000227e7-1198-4d9c-b9e5-d8a2734b3c21",
   "metadata": {},
   "outputs": [
    {
     "data": {
      "text/html": [
       "<div>\n",
       "<style scoped>\n",
       "    .dataframe tbody tr th:only-of-type {\n",
       "        vertical-align: middle;\n",
       "    }\n",
       "\n",
       "    .dataframe tbody tr th {\n",
       "        vertical-align: top;\n",
       "    }\n",
       "\n",
       "    .dataframe thead th {\n",
       "        text-align: right;\n",
       "    }\n",
       "</style>\n",
       "<table border=\"1\" class=\"dataframe\">\n",
       "  <thead>\n",
       "    <tr style=\"text-align: right;\">\n",
       "      <th></th>\n",
       "      <th>X1</th>\n",
       "      <th>X2</th>\n",
       "      <th>X3</th>\n",
       "      <th>X4</th>\n",
       "      <th>X5</th>\n",
       "      <th>X6</th>\n",
       "    </tr>\n",
       "    <tr>\n",
       "      <th>Y</th>\n",
       "      <th></th>\n",
       "      <th></th>\n",
       "      <th></th>\n",
       "      <th></th>\n",
       "      <th></th>\n",
       "      <th></th>\n",
       "    </tr>\n",
       "  </thead>\n",
       "  <tbody>\n",
       "    <tr>\n",
       "      <th>0</th>\n",
       "      <td>4.087719</td>\n",
       "      <td>2.561404</td>\n",
       "      <td>3.140351</td>\n",
       "      <td>3.684211</td>\n",
       "      <td>3.368421</td>\n",
       "      <td>4.105263</td>\n",
       "    </tr>\n",
       "    <tr>\n",
       "      <th>1</th>\n",
       "      <td>4.536232</td>\n",
       "      <td>2.507246</td>\n",
       "      <td>3.449275</td>\n",
       "      <td>3.797101</td>\n",
       "      <td>3.884058</td>\n",
       "      <td>4.376812</td>\n",
       "    </tr>\n",
       "  </tbody>\n",
       "</table>\n",
       "</div>"
      ],
      "text/plain": [
       "         X1        X2        X3        X4        X5        X6\n",
       "Y                                                            \n",
       "0  4.087719  2.561404  3.140351  3.684211  3.368421  4.105263\n",
       "1  4.536232  2.507246  3.449275  3.797101  3.884058  4.376812"
      ]
     },
     "execution_count": 37,
     "metadata": {},
     "output_type": "execute_result"
    }
   ],
   "source": [
    "df.groupby('Y').mean()"
   ]
  },
  {
   "cell_type": "code",
   "execution_count": 39,
   "id": "beb84b84-8c71-47d5-a13a-e5b632ec2dab",
   "metadata": {},
   "outputs": [
    {
     "data": {
      "text/html": [
       "<div>\n",
       "<style scoped>\n",
       "    .dataframe tbody tr th:only-of-type {\n",
       "        vertical-align: middle;\n",
       "    }\n",
       "\n",
       "    .dataframe tbody tr th {\n",
       "        vertical-align: top;\n",
       "    }\n",
       "\n",
       "    .dataframe thead th {\n",
       "        text-align: right;\n",
       "    }\n",
       "</style>\n",
       "<table border=\"1\" class=\"dataframe\">\n",
       "  <thead>\n",
       "    <tr style=\"text-align: right;\">\n",
       "      <th></th>\n",
       "      <th>X1</th>\n",
       "      <th>X2</th>\n",
       "      <th>X3</th>\n",
       "      <th>X4</th>\n",
       "      <th>X5</th>\n",
       "      <th>X6</th>\n",
       "    </tr>\n",
       "    <tr>\n",
       "      <th>Y</th>\n",
       "      <th></th>\n",
       "      <th></th>\n",
       "      <th></th>\n",
       "      <th></th>\n",
       "      <th></th>\n",
       "      <th></th>\n",
       "    </tr>\n",
       "  </thead>\n",
       "  <tbody>\n",
       "    <tr>\n",
       "      <th>0</th>\n",
       "      <td>0.851064</td>\n",
       "      <td>1.134170</td>\n",
       "      <td>1.007802</td>\n",
       "      <td>0.848484</td>\n",
       "      <td>1.189712</td>\n",
       "      <td>0.838455</td>\n",
       "    </tr>\n",
       "    <tr>\n",
       "      <th>1</th>\n",
       "      <td>0.698311</td>\n",
       "      <td>1.106441</td>\n",
       "      <td>1.022342</td>\n",
       "      <td>0.900649</td>\n",
       "      <td>1.064621</td>\n",
       "      <td>0.768908</td>\n",
       "    </tr>\n",
       "  </tbody>\n",
       "</table>\n",
       "</div>"
      ],
      "text/plain": [
       "         X1        X2        X3        X4        X5        X6\n",
       "Y                                                            \n",
       "0  0.851064  1.134170  1.007802  0.848484  1.189712  0.838455\n",
       "1  0.698311  1.106441  1.022342  0.900649  1.064621  0.768908"
      ]
     },
     "execution_count": 39,
     "metadata": {},
     "output_type": "execute_result"
    }
   ],
   "source": [
    "df.groupby('Y').std()"
   ]
  },
  {
   "cell_type": "code",
   "execution_count": 41,
   "id": "0d011cb1-5f9a-481c-9614-849116280d92",
   "metadata": {},
   "outputs": [
    {
     "data": {
      "image/png": "[encoded data removed]",
      "text/plain": [
       "<Figure size 1100x600 with 6 Axes>"
      ]
     },
     "metadata": {},
     "output_type": "display_data"
    }
   ],
   "source": [
    "fig, axes = plt.subplots(nrows=2, ncols=3, figsize=(11, 6))\n",
    "axes = axes.flatten()\n",
    "\n",
    "for i, col in enumerate(features):\n",
    "    sns.boxplot(x='Y', y=col, data=df, ax=axes[i],\n",
    "                width=0.3, showcaps=False,\n",
    "                boxprops={'facecolor': 'None'})\n",
    "    sns.stripplot(x='Y', y=col, data=df,\n",
    "                  ax=axes[i], size=5, color='magenta', alpha=.3)\n",
    "    axes[i].set_title(f'{col} vs Customer Happiness')\n",
    "    axes[i].set_xlabel('Customer Happiness')\n",
    "    axes[i].set_ylabel(col)\n",
    "\n",
    "plt.tight_layout()\n",
    "plt.show()"
   ]
  },
  {
   "cell_type": "code",
   "execution_count": 43,
   "id": "63bdf7d3-1da5-4e20-a4db-7132284785eb",
   "metadata": {},
   "outputs": [
    {
     "data": {
      "image/png": "[encoded data removed]",
      "text/plain": [
       "<Figure size 1800x1000 with 6 Axes>"
      ]
     },
     "metadata": {},
     "output_type": "display_data"
    }
   ],
   "source": [
    "fig, axes = plt.subplots(nrows=2, ncols=3, figsize=(18, 10))\n",
    "axes = axes.flatten()\n",
    "\n",
    "for i, col in enumerate(features):\n",
    "    sns.histplot(data=df, x=col, hue='Y', multiple='layer',\n",
    "                 palette={0: 'red', 1: 'green'}, edgecolor='black',\n",
    "                 stat='count', common_bins=True, bins=5, discrete=True, ax=axes[i])\n",
    "\n",
    "    sns.histplot(data=df, x=col, color='gray', bins=5, discrete=True,\n",
    "                 stat='count', edgecolor='black', label='Total', ax=axes[i], alpha=0.3)\n",
    "\n",
    "    axes[i].set_title(f'Distribution of {col}')\n",
    "    axes[i].legend(title='Customer Happiness', labels=['Unhappy (Y=0)', 'Happy (Y=1)', 'Total'])\n",
    "    axes[i].set_xlabel(col)\n",
    "    axes[i].set_ylabel('Count')\n",
    "\n",
    "plt.suptitle(\"Overlayed Distributions by Feature\", fontsize=16, y=1.02)\n",
    "plt.tight_layout()\n",
    "plt.show()\n"
   ]
  },
  {
   "cell_type": "code",
   "execution_count": 45,
   "id": "ba23c39d-157e-4c6a-a68a-2cb57c37a1a3",
   "metadata": {},
   "outputs": [
    {
     "data": {
      "image/png": "[encoded data removed]",
      "text/plain": [
       "<Figure size 800x600 with 2 Axes>"
      ]
     },
     "metadata": {},
     "output_type": "display_data"
    }
   ],
   "source": [
    "plt.figure(figsize=(8,6))\n",
    "sns.heatmap(df.drop('Y', axis=1).corr(), annot=True, cmap='coolwarm', fmt=\".2f\")\n",
    "plt.title(\"Correlation Matrix\")\n",
    "plt.show()"
   ]
  },
  {
   "cell_type": "code",
   "execution_count": 47,
   "id": "d4a74ba9-a76d-438e-895a-17f3b29d4978",
   "metadata": {},
   "outputs": [],
   "source": [
    "from sklearn.feature_selection import mutual_info_classif\n",
    "\n",
    "X = df[[\"X1\", \"X2\", \"X3\", \"X4\", \"X5\", \"X6\"]]\n",
    "y = df[\"Y\"]\n",
    "\n",
    "def mi_scores(X,y):\n",
    "    \n",
    "    # Apply MI\n",
    "    mi_scores = mutual_info_classif(X, y, discrete_features=True, random_state=23)\n",
    "    \n",
    "    # Wrap in a DataFrame for readability\n",
    "    mi_df = pd.DataFrame({'Feature': X.columns, 'MI Score': mi_scores})\n",
    "    mi_df = mi_df.sort_values(by='MI Score', ascending=False)\n",
    "    \n",
    "    print(mi_df)\n",
    "\n",
    "    mi_df.plot(kind='bar', x='Feature', y='MI Score', legend=False, title='Mutual Information with Target')\n",
    "    plt.ylabel('MI Score')\n",
    "    plt.tight_layout()\n",
    "    plt.show()"
   ]
  },
  {
   "cell_type": "code",
   "execution_count": 49,
   "id": "5de67f94-3407-4524-8099-98ad462ccb57",
   "metadata": {},
   "outputs": [
    {
     "name": "stdout",
     "output_type": "stream",
     "text": [
      "  Feature  MI Score\n",
      "0      X1  0.049705\n",
      "5      X6  0.035543\n",
      "4      X5  0.027627\n",
      "3      X4  0.021880\n",
      "2      X3  0.017432\n",
      "1      X2  0.009468\n"
     ]
    },
    {
     "data": {
      "image/png": "[encoded data removed]",
      "text/plain": [
       "<Figure size 640x480 with 1 Axes>"
      ]
     },
     "metadata": {},
     "output_type": "display_data"
    }
   ],
   "source": [
    "mi_scores(X,y)\n"
   ]
  },
  {
   "cell_type": "markdown",
   "id": "36f360d6-11ed-46f7-bd23-ab5d961afbb7",
   "metadata": {},
   "source": [
    "Ranking of categorical features from most to least informative with respect to the binary target (based on Mutual Information)"
   ]
  },
  {
   "cell_type": "code",
   "execution_count": 52,
   "id": "6268e4e9-4006-49d6-9baa-36dc07a52c6f",
   "metadata": {},
   "outputs": [],
   "source": [
    "from sklearn.feature_selection import chi2\n",
    "from sklearn.preprocessing import LabelEncoder\n",
    "\n",
    "def chi_score(X,y):\n",
    "    # Compute Chi2 scores\n",
    "    chi_scores, p_values = chi2(X, y)\n",
    "    \n",
    "    chi2_results = pd.DataFrame({\n",
    "        'Feature': X.columns,\n",
    "        'Chi2 Score': chi_scores,\n",
    "        'p-value': p_values\n",
    "    }).sort_values(by='Chi2 Score', ascending=False)\n",
    "    \n",
    "    print(chi2_results)\n",
    "\n",
    "    plt.figure(figsize=(8, 5))\n",
    "    plt.bar(chi2_results['Feature'], chi2_results['Chi2 Score'], color='green')\n",
    "    plt.title('Chi-Square Scores by Feature')\n",
    "    plt.xlabel('Feature')\n",
    "    plt.ylabel('Chi2 Score')\n",
    "    plt.grid(axis='y', linestyle='--', alpha=0.7)\n",
    "    plt.tight_layout()\n",
    "    plt.show()\n"
   ]
  },
  {
   "cell_type": "code",
   "execution_count": 54,
   "id": "8d932dac-972e-4713-8857-73adc17ca73b",
   "metadata": {},
   "outputs": [
    {
     "name": "stdout",
     "output_type": "stream",
     "text": [
      "  Feature  Chi2 Score   p-value\n",
      "4      X5    2.273286  0.131621\n",
      "0      X1    1.449041  0.228682\n",
      "2      X3    0.900104  0.342754\n",
      "5      X6    0.541070  0.461989\n",
      "3      X4    0.106194  0.744520\n",
      "1      X2    0.036161  0.849183\n"
     ]
    },
    {
     "data": {
      "image/png": "[encoded data removed]",
      "text/plain": [
       "<Figure size 800x500 with 1 Axes>"
      ]
     },
     "metadata": {},
     "output_type": "display_data"
    }
   ],
   "source": [
    "chi_score(X,y)"
   ]
  },
  {
   "cell_type": "markdown",
   "id": "2ae55208-bfc1-4ad3-99dd-709171d97afd",
   "metadata": {},
   "source": [
    "### Feature Importance (Mutual Information and Chi-Square)\n",
    "\n",
    "| Feature | MI Score | Chi² Score | Interpretation                                    |\n",
    "|--------:|---------:|-----------:|--------------------------------------------------:|\n",
    "| **X1**  | 0.0497   | 1.4490     | Top feature by MI, moderately associated by Chi²  |\n",
    "| **X6**  | 0.0355   | 0.5411     | Second-best in MI, weak Chi² association          |\n",
    "| **X5**  | 0.0276   | 2.2733     | High in both scores, borderline significant       |\n",
    "| **X4**  | 0.0219   | 0.1062     | Low impact in both MI and Chi²                    |\n",
    "| **X3**  | 0.0174   | 0.9001     | Mild in both, not significant                     |\n",
    "| **X2**  | 0.0095   | 0.0362     | Least informative in both metrics                 |\n"
   ]
  },
  {
   "cell_type": "markdown",
   "id": "f59e1e46-1445-48c3-aa5d-2cc9ea0a7ac8",
   "metadata": {},
   "source": [
    "----"
   ]
  },
  {
   "cell_type": "markdown",
   "id": "192ea137-061b-4d3d-8f52-0af54adb3b80",
   "metadata": {},
   "source": [
    "# Experimenting with Prediction Models"
   ]
  },
  {
   "cell_type": "code",
   "execution_count": 59,
   "id": "587de5fc-0532-452b-b39d-4a04252d1659",
   "metadata": {},
   "outputs": [],
   "source": [
    "from sklearn.model_selection import train_test_split\n",
    "\n",
    "X = df[features]\n",
    "y = df['Y']\n",
    "# Split the sets using stratify because of the class imbalance.\n",
    "X_train, X_test, y_train, y_test = train_test_split(X, y, test_size=0.2, stratify=y, random_state=23) "
   ]
  },
  {
   "cell_type": "code",
   "execution_count": 61,
   "id": "0f69d32b-2052-412a-8139-0397884161eb",
   "metadata": {},
   "outputs": [
    {
     "name": "stdout",
     "output_type": "stream",
     "text": [
      "Train set class balance. \n",
      "Set\tPossitive\tNegattive\n",
      "Train \t55.0 %\t\t 45.0%\n",
      "Test \t53.8 %\t\t 46.2%\n"
     ]
    }
   ],
   "source": [
    "print(f'Train set class balance. \\nSet\\tPossitive\\tNegattive\\nTrain \\t{(100*y_train[y_train == 1].shape[0] / y_train.shape[0]):.1f} %\\t\\t {(100*y_train[y_train == 0].shape[0] / y_train.shape[0]):.1f}%')\n",
    "print(f'Test \\t{(100*y_test[y_test == 1].shape[0] / y_test.shape[0]):.1f} %\\t\\t {(100*y_test[y_test == 0].shape[0] / y_test.shape[0]):.1f}%')"
   ]
  },
  {
   "cell_type": "markdown",
   "id": "5a3fbc66-1ddc-47f5-b093-03d7092d3cf5",
   "metadata": {},
   "source": [
    "#### Logistic Regression"
   ]
  },
  {
   "cell_type": "code",
   "execution_count": 64,
   "id": "a6d62d9f-e053-453c-9ed4-0ad1840e1993",
   "metadata": {},
   "outputs": [],
   "source": [
    "from sklearn.linear_model import LogisticRegression\n",
    "from sklearn.metrics import accuracy_score, classification_report, confusion_matrix\n",
    "\n",
    "model_LR = LogisticRegression()\n",
    "model_LR.fit(X_train, y_train)\n",
    "y_pred_LR = model_LR.predict(X_test)"
   ]
  },
  {
   "cell_type": "code",
   "execution_count": 66,
   "id": "7b401279-e443-42a6-8e2b-bf50140661f9",
   "metadata": {},
   "outputs": [
    {
     "name": "stdout",
     "output_type": "stream",
     "text": [
      "Logistic Regression Accuracy: 0.38\n",
      "              precision    recall  f1-score   support\n",
      "\n",
      "           0       0.38      0.50      0.43        12\n",
      "           1       0.40      0.29      0.33        14\n",
      "\n",
      "    accuracy                           0.38        26\n",
      "   macro avg       0.39      0.39      0.38        26\n",
      "weighted avg       0.39      0.38      0.38        26\n",
      "\n"
     ]
    }
   ],
   "source": [
    "print(\"Logistic Regression Accuracy:\", round(accuracy_score(y_test, y_pred_LR), 2))\n",
    "print(classification_report(y_test, y_pred_LR))"
   ]
  },
  {
   "cell_type": "markdown",
   "id": "b500cf66-c1ee-4196-b84d-55b4813f5418",
   "metadata": {},
   "source": [
    "### Random Forest"
   ]
  },
  {
   "cell_type": "code",
   "execution_count": 69,
   "id": "08ecd672-02b2-4c49-bc41-1604a63679ac",
   "metadata": {},
   "outputs": [],
   "source": [
    "from sklearn.ensemble import RandomForestClassifier\n",
    "\n",
    "model_RF = RandomForestClassifier(random_state=23)\n",
    "model_RF.fit(X_train, y_train)\n",
    "y_pred_RF = model_RF.predict(X_test)\n"
   ]
  },
  {
   "cell_type": "code",
   "execution_count": 71,
   "id": "8d2c2bb9-ad50-4b7a-b027-c57a8ae0d14f",
   "metadata": {},
   "outputs": [
    {
     "name": "stdout",
     "output_type": "stream",
     "text": [
      "Random Forest Accuracy: 0.538\n",
      "              precision    recall  f1-score   support\n",
      "\n",
      "           0       0.50      0.75      0.60        12\n",
      "           1       0.62      0.36      0.45        14\n",
      "\n",
      "    accuracy                           0.54        26\n",
      "   macro avg       0.56      0.55      0.53        26\n",
      "weighted avg       0.57      0.54      0.52        26\n",
      "\n"
     ]
    }
   ],
   "source": [
    "print(\"Random Forest Accuracy:\", round(accuracy_score(y_test, y_pred_RF), 3))\n",
    "print(classification_report(y_test, y_pred_RF))"
   ]
  },
  {
   "cell_type": "markdown",
   "id": "9065b9e2-cc97-438d-a640-91dc862c7a6e",
   "metadata": {},
   "source": [
    "## General observation: \n",
    "**The target accuracy of 73% is significantly higher than the results obtained using popular classification models. To close this gap, we will experiment with feature engineering techniques.**\n"
   ]
  },
  {
   "cell_type": "markdown",
   "id": "1d370546-eb2f-4fd4-9e17-d6e043700582",
   "metadata": {},
   "source": [
    "---"
   ]
  },
  {
   "cell_type": "markdown",
   "id": "f39776b4-3818-4eaf-8e57-c7a1b5da63b9",
   "metadata": {},
   "source": [
    "# Feature Engineering"
   ]
  },
  {
   "cell_type": "markdown",
   "id": "afadd5b4-2e92-41a0-b25f-27da07ec55ca",
   "metadata": {},
   "source": [
    "### 1) Combine X1, X5 and X6 (strongest contributor features)"
   ]
  },
  {
   "cell_type": "code",
   "execution_count": 77,
   "id": "72ee1bef-9722-4aea-abf4-4e35e9fa4446",
   "metadata": {},
   "outputs": [],
   "source": [
    "df['X_1_5_6'] = df[['X1', 'X5', 'X6']].mean(axis=1)"
   ]
  },
  {
   "cell_type": "code",
   "execution_count": 79,
   "id": "3a2dd283-863f-42f6-b5dd-960aaa4c2c11",
   "metadata": {},
   "outputs": [],
   "source": [
    "df['X_1_5_6_weighted'] = (0.5 * df['X1'] + 0.3 * df['X5'] + 0.2 * df['X6'])"
   ]
  },
  {
   "cell_type": "code",
   "execution_count": 81,
   "id": "e72c05f4-2653-4101-a4e0-7b8fe86ea543",
   "metadata": {},
   "outputs": [],
   "source": [
    "features += ['X_1_5_6_weighted']\n",
    "X = df[features]\n",
    "y = df['Y']\n",
    "X_train, X_test, y_train, y_test = train_test_split(X, y, test_size=0.2, stratify=y, random_state=23) "
   ]
  },
  {
   "cell_type": "code",
   "execution_count": 83,
   "id": "787720ac-5751-475e-8161-c18826a5f731",
   "metadata": {},
   "outputs": [],
   "source": [
    "model_RF = RandomForestClassifier(random_state=23)\n",
    "model_RF.fit(X_train, y_train)\n",
    "y_pred_RF = model_RF.predict(X_test)"
   ]
  },
  {
   "cell_type": "code",
   "execution_count": 85,
   "id": "3a0fcdc5-dbf0-4839-a79a-b8ad4f691b47",
   "metadata": {},
   "outputs": [
    {
     "name": "stdout",
     "output_type": "stream",
     "text": [
      "Random Forest Accuracy: 0.577\n",
      "              precision    recall  f1-score   support\n",
      "\n",
      "           0       0.53      0.67      0.59        12\n",
      "           1       0.64      0.50      0.56        14\n",
      "\n",
      "    accuracy                           0.58        26\n",
      "   macro avg       0.58      0.58      0.58        26\n",
      "weighted avg       0.59      0.58      0.58        26\n",
      "\n"
     ]
    }
   ],
   "source": [
    "print(\"Random Forest Accuracy:\", round(accuracy_score(y_test, y_pred_RF), 3))\n",
    "print(classification_report(y_test, y_pred_RF))"
   ]
  },
  {
   "cell_type": "markdown",
   "id": "1ff94d11-9e54-4d39-980c-aa8f2e5fda1c",
   "metadata": {},
   "source": [
    "### 2) Add Binary Flags: Extremely Good or Bad Scores"
   ]
  },
  {
   "cell_type": "code",
   "execution_count": 88,
   "id": "1cd9e425-8254-4ed3-bae3-c6bc9aac0937",
   "metadata": {},
   "outputs": [],
   "source": [
    "for col in ['X1', 'X5', 'X6']:\n",
    "    df[f'{col}_is_5'] = (df[col] == 5).astype(int)\n",
    "    df[f'{col}_is_1'] = (df[col] == 1).astype(int)"
   ]
  },
  {
   "cell_type": "code",
   "execution_count": 90,
   "id": "d2092483-3958-4763-97c8-1a74e7c1823b",
   "metadata": {},
   "outputs": [],
   "source": [
    "features += ['X1_is_5', 'X1_is_1', 'X5_is_5', 'X5_is_1', 'X6_is_5', 'X6_is_1']\n",
    "X = df[features]\n",
    "y = df['Y']\n",
    "X_train, X_test, y_train, y_test = train_test_split(X, y, test_size=0.2, stratify=y, random_state=23) "
   ]
  },
  {
   "cell_type": "code",
   "execution_count": 92,
   "id": "4e2835e6-6faf-461a-b216-702a66c14056",
   "metadata": {},
   "outputs": [],
   "source": [
    "model_RF = RandomForestClassifier(random_state=23)\n",
    "model_RF.fit(X_train, y_train)\n",
    "y_pred_RF = model_RF.predict(X_test)"
   ]
  },
  {
   "cell_type": "code",
   "execution_count": 94,
   "id": "099ffa85-f13e-46eb-b217-128da1e978c9",
   "metadata": {},
   "outputs": [
    {
     "name": "stdout",
     "output_type": "stream",
     "text": [
      "Random Forest Accuracy: 0.615\n",
      "              precision    recall  f1-score   support\n",
      "\n",
      "           0       0.56      0.75      0.64        12\n",
      "           1       0.70      0.50      0.58        14\n",
      "\n",
      "    accuracy                           0.62        26\n",
      "   macro avg       0.63      0.62      0.61        26\n",
      "weighted avg       0.64      0.62      0.61        26\n",
      "\n"
     ]
    }
   ],
   "source": [
    "print(\"Random Forest Accuracy:\", round(accuracy_score(y_test, y_pred_RF), 3))\n",
    "print(classification_report(y_test, y_pred_RF))"
   ]
  },
  {
   "cell_type": "markdown",
   "id": "b37e989f-b867-4892-8a2c-5a07a0871667",
   "metadata": {},
   "source": [
    "### 3) Add Binary flags for X2 and X4"
   ]
  },
  {
   "cell_type": "code",
   "execution_count": 97,
   "id": "4ff28791-8adf-4f2c-8490-8a3d5b638e71",
   "metadata": {},
   "outputs": [],
   "source": [
    "df['X2_disappointed'] = (df['X2'] < 3).astype(int)\n",
    "df['X4_bad_price'] = (df['X4'] <= 2).astype(int)"
   ]
  },
  {
   "cell_type": "code",
   "execution_count": 99,
   "id": "4eeb8bf4-7257-498a-afdb-73977442a0b9",
   "metadata": {},
   "outputs": [],
   "source": [
    "features += ['X2_disappointed', 'X4_bad_price']"
   ]
  },
  {
   "cell_type": "code",
   "execution_count": 101,
   "id": "c563ced3-af80-4c69-acbd-afbb7c7e4750",
   "metadata": {},
   "outputs": [],
   "source": [
    "X = df[features]\n",
    "y = df['Y']\n",
    "X_train, X_test, y_train, y_test = train_test_split(X, y, test_size=0.2, stratify=y, random_state=23) "
   ]
  },
  {
   "cell_type": "code",
   "execution_count": 103,
   "id": "079586c6-2bdf-48a4-bac6-3422f96619f1",
   "metadata": {},
   "outputs": [],
   "source": [
    "model_RF = RandomForestClassifier(random_state=23)\n",
    "model_RF.fit(X_train, y_train)\n",
    "y_pred_RF = model_RF.predict(X_test)"
   ]
  },
  {
   "cell_type": "code",
   "execution_count": 105,
   "id": "b721351e-811f-4974-80d4-64eeb4b82618",
   "metadata": {},
   "outputs": [
    {
     "name": "stdout",
     "output_type": "stream",
     "text": [
      "Random Forest Accuracy: 0.615\n",
      "              precision    recall  f1-score   support\n",
      "\n",
      "           0       0.56      0.75      0.64        12\n",
      "           1       0.70      0.50      0.58        14\n",
      "\n",
      "    accuracy                           0.62        26\n",
      "   macro avg       0.63      0.62      0.61        26\n",
      "weighted avg       0.64      0.62      0.61        26\n",
      "\n"
     ]
    }
   ],
   "source": [
    "print(\"Random Forest Accuracy:\", round(accuracy_score(y_test, y_pred_RF), 3))\n",
    "print(classification_report(y_test, y_pred_RF))"
   ]
  },
  {
   "cell_type": "markdown",
   "id": "41cd4ec2-0755-4bb4-8971-fb8d603a2a6d",
   "metadata": {},
   "source": [
    "### Plot the Partial Dependence of Selected Features on Prediction"
   ]
  },
  {
   "cell_type": "code",
   "execution_count": 110,
   "id": "8ec08dcc-0617-4416-aba5-1375527a7361",
   "metadata": {},
   "outputs": [],
   "source": [
    "from sklearn.inspection import permutation_importance\n",
    "result = permutation_importance(model_RF, X_test, y_test, n_repeats=30, random_state=42)\n"
   ]
  },
  {
   "cell_type": "code",
   "execution_count": 111,
   "id": "5834c5f4-decc-4517-b915-a6169cbf1222",
   "metadata": {},
   "outputs": [
    {
     "data": {
      "image/png": "[encoded data removed]",
      "text/plain": [
       "<Figure size 1400x1200 with 16 Axes>"
      ]
     },
     "metadata": {},
     "output_type": "display_data"
    }
   ],
   "source": [
    "from sklearn.inspection import PartialDependenceDisplay\n",
    "import matplotlib.pyplot as plt\n",
    "\n",
    "features_to_plot = ['X1', 'X2', 'X3', 'X4', 'X5', 'X6',\n",
    "                    'X_1_5_6_weighted', 'X6_is_1', 'X1_is_1',\n",
    "                    'X5_is_1', 'X4_bad_price', 'X5_is_5',\n",
    "                    'X6_is_5', 'X2_disappointed', 'X1_is_5']\n",
    "\n",
    "fig, ax = plt.subplots(figsize=(14, 12))  # increase total figure size\n",
    "\n",
    "pdp_display = PartialDependenceDisplay.from_estimator(\n",
    "    model_RF, X_test, features=features_to_plot,\n",
    "    kind='average', grid_resolution=20, ax=ax\n",
    ")\n",
    "\n",
    "# Update spacing between subplots\n",
    "plt.subplots_adjust(hspace=0.6, wspace=0.3)  # hspace controls row spacing\n",
    "\n",
    "# Set one y-axis label\n",
    "fig.text(0.04, 0.5, 'Partial dependence', va='center', rotation='vertical', fontsize=12)\n",
    "\n",
    "plt.suptitle(\"Partial Dependence of Selected Features on Prediction\", fontsize=16, y=1.02)\n",
    "plt.tight_layout()\n",
    "plt.show()\n"
   ]
  },
  {
   "cell_type": "markdown",
   "id": "3d2ee207-7ef3-48f7-b02b-b9d28684f060",
   "metadata": {},
   "source": [
    "#### Some features show clear trends. Others are flat → meaning they contribute almost nothing to prediction.\n",
    "#### Then, I will perform the following feature selection:\n",
    "Keep (clear upward, steep jumps or negative slope):\n",
    "* X1_is_5,\n",
    "* X_1_5_6_weighted,\n",
    "* X6_is_5,\n",
    "* X1,\n",
    "* X3,\n",
    "  \n",
    "Remove (flat, very noisy):\n",
    "* X1_is_1,\n",
    "* X5_is_1,\n",
    "* X6_is_1,\n",
    "* X5_is_5,\n",
    "* X2_disappointed,\n",
    "* X4_bad_price,\n",
    "  \n"
   ]
  },
  {
   "cell_type": "markdown",
   "id": "e93ebffc-f917-4cfc-9bdd-f010ef22e83c",
   "metadata": {},
   "source": [
    "### Feature Sellection"
   ]
  },
  {
   "cell_type": "code",
   "execution_count": 116,
   "id": "0e34f52c-ac73-4eb0-aadd-150566af21a9",
   "metadata": {},
   "outputs": [
    {
     "data": {
      "text/plain": [
       "['X1',\n",
       " 'X2',\n",
       " 'X3',\n",
       " 'X4',\n",
       " 'X5',\n",
       " 'X6',\n",
       " 'X_1_5_6_weighted',\n",
       " 'X1_is_5',\n",
       " 'X1_is_1',\n",
       " 'X5_is_5',\n",
       " 'X5_is_1',\n",
       " 'X6_is_5',\n",
       " 'X6_is_1',\n",
       " 'X2_disappointed',\n",
       " 'X4_bad_price']"
      ]
     },
     "execution_count": 116,
     "metadata": {},
     "output_type": "execute_result"
    }
   ],
   "source": [
    "features"
   ]
  },
  {
   "cell_type": "code",
   "execution_count": 118,
   "id": "9c6d8f1c-bb84-4f59-994c-84325f083c96",
   "metadata": {},
   "outputs": [],
   "source": [
    "# Important: X2 and X4 were removed due to consistently low importance scores \n",
    "# in both Mutual Information and Chi-Square tests, indicating weak predictive power.\n",
    "features_to_remove= ['X2', 'X4', 'X1_is_1', 'X5_is_5', 'X5_is_1', 'X6_is_1', 'X2_disappointed', 'X4_bad_price']\n",
    "for feature in features_to_remove: \n",
    "    features.remove(feature)\n"
   ]
  },
  {
   "cell_type": "code",
   "execution_count": 120,
   "id": "429b030d-b630-4546-8cf9-3583708b446b",
   "metadata": {},
   "outputs": [
    {
     "data": {
      "text/plain": [
       "['X1', 'X3', 'X5', 'X6', 'X_1_5_6_weighted', 'X1_is_5', 'X6_is_5']"
      ]
     },
     "execution_count": 120,
     "metadata": {},
     "output_type": "execute_result"
    }
   ],
   "source": [
    "features"
   ]
  },
  {
   "cell_type": "code",
   "execution_count": 122,
   "id": "ce0e51ed-cab7-4cdf-a8b1-c2859351ad70",
   "metadata": {},
   "outputs": [],
   "source": [
    "X = df[features]\n",
    "y = df['Y']\n",
    "X_train, X_test, y_train, y_test = train_test_split(X, y, test_size=0.2, stratify=y, random_state=23) "
   ]
  },
  {
   "cell_type": "code",
   "execution_count": 124,
   "id": "333882fb-efe1-43cd-bdb8-8f2580cebfb3",
   "metadata": {},
   "outputs": [],
   "source": [
    "model_RF = RandomForestClassifier(random_state=23)\n",
    "model_RF.fit(X_train, y_train)\n",
    "y_pred_RF = model_RF.predict(X_test)"
   ]
  },
  {
   "cell_type": "code",
   "execution_count": 126,
   "id": "9a69f84c-0fa3-46fd-91e4-d65b7c2e8aa8",
   "metadata": {},
   "outputs": [
    {
     "name": "stdout",
     "output_type": "stream",
     "text": [
      "Random Forest Accuracy: 0.692\n",
      "              precision    recall  f1-score   support\n",
      "\n",
      "           0       0.67      0.67      0.67        12\n",
      "           1       0.71      0.71      0.71        14\n",
      "\n",
      "    accuracy                           0.69        26\n",
      "   macro avg       0.69      0.69      0.69        26\n",
      "weighted avg       0.69      0.69      0.69        26\n",
      "\n"
     ]
    }
   ],
   "source": [
    "print(\"Random Forest Accuracy:\", round(accuracy_score(y_test, y_pred_RF), 3))\n",
    "print(classification_report(y_test, y_pred_RF))"
   ]
  },
  {
   "cell_type": "code",
   "execution_count": 128,
   "id": "5443b471-fede-4469-9369-89931618930e",
   "metadata": {},
   "outputs": [],
   "source": [
    "best_model = model_RF"
   ]
  },
  {
   "cell_type": "code",
   "execution_count": 138,
   "id": "746b4060-8a26-41a0-a886-2657d0822438",
   "metadata": {},
   "outputs": [
    {
     "data": {
      "text/html": [
       "<div>\n",
       "<style scoped>\n",
       "    .dataframe tbody tr th:only-of-type {\n",
       "        vertical-align: middle;\n",
       "    }\n",
       "\n",
       "    .dataframe tbody tr th {\n",
       "        vertical-align: top;\n",
       "    }\n",
       "\n",
       "    .dataframe thead th {\n",
       "        text-align: right;\n",
       "    }\n",
       "</style>\n",
       "<table border=\"1\" class=\"dataframe\">\n",
       "  <thead>\n",
       "    <tr style=\"text-align: right;\">\n",
       "      <th></th>\n",
       "      <th>Parameter</th>\n",
       "      <th>Value</th>\n",
       "    </tr>\n",
       "  </thead>\n",
       "  <tbody>\n",
       "    <tr>\n",
       "      <th>0</th>\n",
       "      <td>bootstrap</td>\n",
       "      <td>True</td>\n",
       "    </tr>\n",
       "    <tr>\n",
       "      <th>1</th>\n",
       "      <td>ccp_alpha</td>\n",
       "      <td>0.0</td>\n",
       "    </tr>\n",
       "    <tr>\n",
       "      <th>2</th>\n",
       "      <td>class_weight</td>\n",
       "      <td>None</td>\n",
       "    </tr>\n",
       "    <tr>\n",
       "      <th>3</th>\n",
       "      <td>criterion</td>\n",
       "      <td>gini</td>\n",
       "    </tr>\n",
       "    <tr>\n",
       "      <th>4</th>\n",
       "      <td>max_depth</td>\n",
       "      <td>None</td>\n",
       "    </tr>\n",
       "    <tr>\n",
       "      <th>5</th>\n",
       "      <td>max_features</td>\n",
       "      <td>sqrt</td>\n",
       "    </tr>\n",
       "    <tr>\n",
       "      <th>6</th>\n",
       "      <td>max_leaf_nodes</td>\n",
       "      <td>None</td>\n",
       "    </tr>\n",
       "    <tr>\n",
       "      <th>7</th>\n",
       "      <td>max_samples</td>\n",
       "      <td>None</td>\n",
       "    </tr>\n",
       "    <tr>\n",
       "      <th>8</th>\n",
       "      <td>min_impurity_decrease</td>\n",
       "      <td>0.0</td>\n",
       "    </tr>\n",
       "    <tr>\n",
       "      <th>9</th>\n",
       "      <td>min_samples_leaf</td>\n",
       "      <td>1</td>\n",
       "    </tr>\n",
       "    <tr>\n",
       "      <th>10</th>\n",
       "      <td>min_samples_split</td>\n",
       "      <td>2</td>\n",
       "    </tr>\n",
       "    <tr>\n",
       "      <th>11</th>\n",
       "      <td>min_weight_fraction_leaf</td>\n",
       "      <td>0.0</td>\n",
       "    </tr>\n",
       "    <tr>\n",
       "      <th>12</th>\n",
       "      <td>monotonic_cst</td>\n",
       "      <td>None</td>\n",
       "    </tr>\n",
       "    <tr>\n",
       "      <th>13</th>\n",
       "      <td>n_estimators</td>\n",
       "      <td>100</td>\n",
       "    </tr>\n",
       "    <tr>\n",
       "      <th>14</th>\n",
       "      <td>n_jobs</td>\n",
       "      <td>None</td>\n",
       "    </tr>\n",
       "    <tr>\n",
       "      <th>15</th>\n",
       "      <td>oob_score</td>\n",
       "      <td>False</td>\n",
       "    </tr>\n",
       "    <tr>\n",
       "      <th>16</th>\n",
       "      <td>random_state</td>\n",
       "      <td>23</td>\n",
       "    </tr>\n",
       "    <tr>\n",
       "      <th>17</th>\n",
       "      <td>verbose</td>\n",
       "      <td>0</td>\n",
       "    </tr>\n",
       "    <tr>\n",
       "      <th>18</th>\n",
       "      <td>warm_start</td>\n",
       "      <td>False</td>\n",
       "    </tr>\n",
       "  </tbody>\n",
       "</table>\n",
       "</div>"
      ],
      "text/plain": [
       "                   Parameter  Value\n",
       "0                  bootstrap   True\n",
       "1                  ccp_alpha    0.0\n",
       "2               class_weight   None\n",
       "3                  criterion   gini\n",
       "4                  max_depth   None\n",
       "5               max_features   sqrt\n",
       "6             max_leaf_nodes   None\n",
       "7                max_samples   None\n",
       "8      min_impurity_decrease    0.0\n",
       "9           min_samples_leaf      1\n",
       "10         min_samples_split      2\n",
       "11  min_weight_fraction_leaf    0.0\n",
       "12             monotonic_cst   None\n",
       "13              n_estimators    100\n",
       "14                    n_jobs   None\n",
       "15                 oob_score  False\n",
       "16              random_state     23\n",
       "17                   verbose      0\n",
       "18                warm_start  False"
      ]
     },
     "metadata": {},
     "output_type": "display_data"
    }
   ],
   "source": [
    "params = best_model.get_params()\n",
    "param_df = pd.DataFrame(params.items(), columns=[\"Parameter\", \"Value\"])\n",
    "display(param_df)"
   ]
  },
  {
   "cell_type": "code",
   "execution_count": 136,
   "id": "7cc20ff2-4924-46ea-a4ac-922769ca0e89",
   "metadata": {},
   "outputs": [
    {
     "data": {
      "image/png": "[encoded data removed]",
      "text/plain": [
       "<Figure size 400x300 with 1 Axes>"
      ]
     },
     "metadata": {},
     "output_type": "display_data"
    }
   ],
   "source": [
    "# Create a Series from feature importances\n",
    "feature_importance = pd.Series(best_model.feature_importances_, index=X_train.columns)\n",
    "feature_importance.sort_values().plot(kind='barh', figsize=(4, 3))\n",
    "plt.title(\"Feature Importances in Best Random Forest Model\")\n",
    "plt.tight_layout()\n",
    "plt.show()"
   ]
  },
  {
   "cell_type": "markdown",
   "id": "06ebd6b1-b01a-43fa-ae88-57f512d07263",
   "metadata": {},
   "source": [
    "### Feature Sellection:"
   ]
  },
  {
   "cell_type": "markdown",
   "id": "c4b2da30-97a0-4fd7-b659-354181e30bb6",
   "metadata": {},
   "source": [
    "| Feature                | Type                 | Likely Impact                              |\n",
    "|------------------------|----------------------|---------------------------------------------|\n",
    "| `X1`, `X3`, `X5`, `X6` | Categorical (0–5)    | Core question responses                     |\n",
    "| `X_1_5_6_weighted`     | Numeric (engineered) | Weighted aggregation of important features  |\n",
    "| `X1_is_5`, `X6_is_5`   | Binary flags         | High-satisfaction indicators                |\n"
   ]
  },
  {
   "cell_type": "markdown",
   "id": "6b7717c9-9834-4c3f-a592-e5dec3afcf98",
   "metadata": {},
   "source": [
    "----"
   ]
  },
  {
   "cell_type": "markdown",
   "id": "e789504e-0d6f-4158-9e6d-e7ecc3ed99bf",
   "metadata": {},
   "source": [
    "### Model Experimentation (a second round)"
   ]
  },
  {
   "cell_type": "code",
   "execution_count": 147,
   "id": "7cdadba8-fcb4-4e3f-9886-a1944185f564",
   "metadata": {},
   "outputs": [
    {
     "name": "stdout",
     "output_type": "stream",
     "text": [
      "\n",
      "Random Forest Accuracy: 0.692\n",
      "              precision    recall  f1-score   support\n",
      "\n",
      "           0       0.67      0.67      0.67        12\n",
      "           1       0.71      0.71      0.71        14\n",
      "\n",
      "    accuracy                           0.69        26\n",
      "   macro avg       0.69      0.69      0.69        26\n",
      "weighted avg       0.69      0.69      0.69        26\n",
      "\n",
      "\n",
      "AdaBoost Accuracy: 0.462\n",
      "              precision    recall  f1-score   support\n",
      "\n",
      "           0       0.44      0.58      0.50        12\n",
      "           1       0.50      0.36      0.42        14\n",
      "\n",
      "    accuracy                           0.46        26\n",
      "   macro avg       0.47      0.47      0.46        26\n",
      "weighted avg       0.47      0.46      0.46        26\n",
      "\n",
      "\n",
      "Gradient Boosting Accuracy: 0.538\n",
      "              precision    recall  f1-score   support\n",
      "\n",
      "           0       0.50      0.50      0.50        12\n",
      "           1       0.57      0.57      0.57        14\n",
      "\n",
      "    accuracy                           0.54        26\n",
      "   macro avg       0.54      0.54      0.54        26\n",
      "weighted avg       0.54      0.54      0.54        26\n",
      "\n",
      "\n",
      "XGBoost Accuracy: 0.462\n",
      "              precision    recall  f1-score   support\n",
      "\n",
      "           0       0.42      0.42      0.42        12\n",
      "           1       0.50      0.50      0.50        14\n",
      "\n",
      "    accuracy                           0.46        26\n",
      "   macro avg       0.46      0.46      0.46        26\n",
      "weighted avg       0.46      0.46      0.46        26\n",
      "\n"
     ]
    }
   ],
   "source": [
    "from sklearn.ensemble import AdaBoostClassifier, GradientBoostingClassifier\n",
    "from xgboost import XGBClassifier\n",
    "\n",
    "# Best features so far\n",
    "selected_features = ['X1', 'X3', 'X5', 'X6', 'X_1_5_6_weighted', 'X1_is_5', 'X6_is_5']\n",
    "X_train_sel = X_train[selected_features]\n",
    "X_test_sel = X_test[selected_features]\n",
    "\n",
    "# Dictionary to hold results\n",
    "models = {\n",
    "    \"Random Forest\": RandomForestClassifier(random_state=23, n_estimators=100, max_features='sqrt'),\n",
    "    \"AdaBoost\": AdaBoostClassifier(random_state=23, n_estimators=100, algorithm='SAMME'),\n",
    "    \"Gradient Boosting\": GradientBoostingClassifier(random_state=23, n_estimators=100),\n",
    "    \"XGBoost\": XGBClassifier(random_state=23, eval_metric='logloss')\n",
    "}\n",
    "\n",
    "# Loop through models\n",
    "for name, model in models.items():\n",
    "    model.fit(X_train_sel, y_train)\n",
    "    y_pred = model.predict(X_test_sel)\n",
    "    acc = accuracy_score(y_test, y_pred)\n",
    "    \n",
    "    print(f\"\\n{name} Accuracy: {acc:.3f}\")\n",
    "    print(classification_report(y_test, y_pred))"
   ]
  },
  {
   "cell_type": "markdown",
   "id": "d97034d9-0c45-40a0-9e93-3d4e44a4cccd",
   "metadata": {},
   "source": [
    "### Feature Engineering (is this third round?...:-))"
   ]
  },
  {
   "cell_type": "markdown",
   "id": "13542e7e-f459-4d29-ae94-22c5d6561d7f",
   "metadata": {},
   "source": [
    "Let's add 3 more features"
   ]
  },
  {
   "cell_type": "code",
   "execution_count": 152,
   "id": "ed66ae6b-44fa-4b5a-9dbe-7991232ab89a",
   "metadata": {},
   "outputs": [],
   "source": [
    "feature_cols = ['X1', 'X2', 'X3', 'X4', 'X5', 'X6']\n",
    "\n",
    "df['X5_minus_X6'] = df['X5'] - df['X6']\n",
    "df['X_avg_all'] = df[feature_cols].mean(axis=1)\n",
    "df['num_fives'] = df[feature_cols].apply(lambda row: (row == 5).sum(), axis=1)"
   ]
  },
  {
   "cell_type": "code",
   "execution_count": 154,
   "id": "42a7a4fd-e695-406e-98f5-6926381f2201",
   "metadata": {},
   "outputs": [],
   "source": [
    "features += ['X5_minus_X6', 'X_avg_all', 'num_fives']\n",
    "X = df[features]\n",
    "y = df['Y']\n",
    "X_train, X_test, y_train, y_test = train_test_split(X, y, test_size=0.2, stratify=y, random_state=23) "
   ]
  },
  {
   "cell_type": "code",
   "execution_count": 156,
   "id": "bdcd9ff6-9a75-47c8-9cde-db4ad413081b",
   "metadata": {},
   "outputs": [
    {
     "name": "stdout",
     "output_type": "stream",
     "text": [
      "            Feature  MI Score\n",
      "4  X_1_5_6_weighted  0.210514\n",
      "8         X_avg_all  0.100969\n",
      "0                X1  0.049705\n",
      "5           X1_is_5  0.045694\n",
      "3                X6  0.035543\n",
      "7       X5_minus_X6  0.035444\n",
      "9         num_fives  0.035296\n",
      "2                X5  0.027627\n",
      "1                X3  0.017432\n",
      "6           X6_is_5  0.007385\n"
     ]
    },
    {
     "name": "stderr",
     "output_type": "stream",
     "text": [
      "E:\\Devs\\pyEnv-1\\NLP_experimental\\NLP_1-env\\Lib\\site-packages\\sklearn\\metrics\\cluster\\_supervised.py:66: UserWarning: Clustering metrics expects discrete values but received continuous values for label, and binary values for target\n",
      "  warnings.warn(msg, UserWarning)\n",
      "E:\\Devs\\pyEnv-1\\NLP_experimental\\NLP_1-env\\Lib\\site-packages\\sklearn\\metrics\\cluster\\_supervised.py:66: UserWarning: Clustering metrics expects discrete values but received continuous values for label, and binary values for target\n",
      "  warnings.warn(msg, UserWarning)\n"
     ]
    },
    {
     "data": {
      "image/png": "[encoded data removed]",
      "text/plain": [
       "<Figure size 640x480 with 1 Axes>"
      ]
     },
     "metadata": {},
     "output_type": "display_data"
    }
   ],
   "source": [
    "mi_scores(X,y)"
   ]
  },
  {
   "cell_type": "code",
   "execution_count": 166,
   "id": "402053ea-23d2-4e08-84dd-dc1874f24f9c",
   "metadata": {},
   "outputs": [
    {
     "name": "stdout",
     "output_type": "stream",
     "text": [
      "            Feature  Chi2 Score   p-value\n",
      "8         num_fives    9.656990  0.001886\n",
      "5           X1_is_5    5.492871  0.019094\n",
      "2                X5    2.273286  0.131621\n",
      "0                X1    1.449041  0.228682\n",
      "4  X_1_5_6_weighted    1.424682  0.232634\n",
      "6           X6_is_5    1.014934  0.313724\n",
      "1                X3    0.900104  0.342754\n",
      "7         X_avg_all    0.612774  0.433745\n",
      "3                X6    0.541070  0.461989\n"
     ]
    },
    {
     "data": {
      "image/png": "[encoded data removed]",
      "text/plain": [
       "<Figure size 800x500 with 1 Axes>"
      ]
     },
     "metadata": {},
     "output_type": "display_data"
    }
   ],
   "source": [
    "chi_score(X.drop('X5_minus_X6', axis=1),y)"
   ]
  },
  {
   "cell_type": "markdown",
   "id": "b121fd8b-d8fc-468d-a658-126737fb7cf0",
   "metadata": {},
   "source": [
    "### Acording with the results (MI and Chi^2 Scores), `num_fives` and `X_avg_all` seem promising! "
   ]
  },
  {
   "cell_type": "markdown",
   "id": "5b302273-b96a-4e73-ad5c-36587ca27e60",
   "metadata": {},
   "source": [
    "## Exploring Feature Combinations\n",
    "\n",
    "We will experiment with all possible feature subsets ranging from 4 to 10 features, using the 10 previously selected variables.\n",
    "Given the small size of the dataset, the computational time required for this brute-force approach would be acceptable.\n"
   ]
  },
  {
   "cell_type": "code",
   "execution_count": 170,
   "id": "6db1498e-ac90-4b68-8faa-e4d00a7db1a9",
   "metadata": {},
   "outputs": [
    {
     "name": "stderr",
     "output_type": "stream",
     "text": [
      "Evaluating combinations: 100%|███████████████████████████████████████████████████████| 848/848 [01:20<00:00, 10.60it/s]\n"
     ]
    },
    {
     "data": {
      "text/html": [
       "<div>\n",
       "<style scoped>\n",
       "    .dataframe tbody tr th:only-of-type {\n",
       "        vertical-align: middle;\n",
       "    }\n",
       "\n",
       "    .dataframe tbody tr th {\n",
       "        vertical-align: top;\n",
       "    }\n",
       "\n",
       "    .dataframe thead th {\n",
       "        text-align: right;\n",
       "    }\n",
       "</style>\n",
       "<table border=\"1\" class=\"dataframe\">\n",
       "  <thead>\n",
       "    <tr style=\"text-align: right;\">\n",
       "      <th></th>\n",
       "      <th>features</th>\n",
       "      <th>accuracy</th>\n",
       "    </tr>\n",
       "  </thead>\n",
       "  <tbody>\n",
       "    <tr>\n",
       "      <th>0</th>\n",
       "      <td>[X1, X5, X1_is_5, X6_is_5, X_avg_all]</td>\n",
       "      <td>0.769231</td>\n",
       "    </tr>\n",
       "    <tr>\n",
       "      <th>1</th>\n",
       "      <td>[X1, X3, X6, X1_is_5, X6_is_5, num_fives]</td>\n",
       "      <td>0.769231</td>\n",
       "    </tr>\n",
       "    <tr>\n",
       "      <th>2</th>\n",
       "      <td>[X1, X5, X6_is_5, X_avg_all]</td>\n",
       "      <td>0.730769</td>\n",
       "    </tr>\n",
       "    <tr>\n",
       "      <th>3</th>\n",
       "      <td>[X1, X5, X_avg_all, num_fives]</td>\n",
       "      <td>0.730769</td>\n",
       "    </tr>\n",
       "    <tr>\n",
       "      <th>4</th>\n",
       "      <td>[X1, X3, X6, X6_is_5]</td>\n",
       "      <td>0.692308</td>\n",
       "    </tr>\n",
       "    <tr>\n",
       "      <th>5</th>\n",
       "      <td>[X1, X3, X6, num_fives]</td>\n",
       "      <td>0.692308</td>\n",
       "    </tr>\n",
       "    <tr>\n",
       "      <th>6</th>\n",
       "      <td>[X1, X5, X6_is_5, X_avg_all, num_fives]</td>\n",
       "      <td>0.692308</td>\n",
       "    </tr>\n",
       "    <tr>\n",
       "      <th>7</th>\n",
       "      <td>[X1, X6, X1_is_5, X_avg_all, num_fives]</td>\n",
       "      <td>0.692308</td>\n",
       "    </tr>\n",
       "    <tr>\n",
       "      <th>8</th>\n",
       "      <td>[X1, X3, X6, X6_is_5, num_fives]</td>\n",
       "      <td>0.692308</td>\n",
       "    </tr>\n",
       "    <tr>\n",
       "      <th>9</th>\n",
       "      <td>[X1, X6, X1_is_5, X6_is_5, X_avg_all]</td>\n",
       "      <td>0.692308</td>\n",
       "    </tr>\n",
       "  </tbody>\n",
       "</table>\n",
       "</div>"
      ],
      "text/plain": [
       "                                    features  accuracy\n",
       "0      [X1, X5, X1_is_5, X6_is_5, X_avg_all]  0.769231\n",
       "1  [X1, X3, X6, X1_is_5, X6_is_5, num_fives]  0.769231\n",
       "2               [X1, X5, X6_is_5, X_avg_all]  0.730769\n",
       "3             [X1, X5, X_avg_all, num_fives]  0.730769\n",
       "4                      [X1, X3, X6, X6_is_5]  0.692308\n",
       "5                    [X1, X3, X6, num_fives]  0.692308\n",
       "6    [X1, X5, X6_is_5, X_avg_all, num_fives]  0.692308\n",
       "7    [X1, X6, X1_is_5, X_avg_all, num_fives]  0.692308\n",
       "8           [X1, X3, X6, X6_is_5, num_fives]  0.692308\n",
       "9      [X1, X6, X1_is_5, X6_is_5, X_avg_all]  0.692308"
      ]
     },
     "execution_count": 170,
     "metadata": {},
     "output_type": "execute_result"
    }
   ],
   "source": [
    "from itertools import combinations\n",
    "from tqdm import tqdm\n",
    "\n",
    "global_feature_selection = [\n",
    "    'X1', 'X3', 'X5', 'X6', 'X_1_5_6_weighted',\n",
    "    'X1_is_5', 'X6_is_5', 'X5_minus_X6', 'X_avg_all', 'num_fives'\n",
    "]\n",
    "\n",
    "results = []\n",
    "\n",
    "# Total number of combinations to evaluate\n",
    "total_combos = sum(len(list(combinations(global_feature_selection, r))) for r in range(4, len(global_feature_selection) + 1))\n",
    "\n",
    "with tqdm(total=total_combos, desc=\"Evaluating combinations\") as pbar:\n",
    "    for r in range(4, len(global_feature_selection) + 1):\n",
    "        for combo in combinations(global_feature_selection, r):\n",
    "            selected_features = list(combo)\n",
    "            X = df[selected_features]\n",
    "            y = df['Y']\n",
    "\n",
    "            X_train, X_test, y_train, y_test = train_test_split(\n",
    "                X, y, test_size=0.2, stratify=y, random_state=23\n",
    "            )\n",
    "\n",
    "            model_RF = RandomForestClassifier(random_state=23)\n",
    "            model_RF.fit(X_train, y_train)\n",
    "            y_pred_RF = model_RF.predict(X_test)\n",
    "\n",
    "            acc = round(accuracy_score(y_test, y_pred_RF), 6)\n",
    "            results.append({'features': selected_features, 'accuracy': acc})\n",
    "            pbar.update(1)\n",
    "\n",
    "# Convert to DataFrame and sort\n",
    "results_df = pd.DataFrame(results)\n",
    "results_df = results_df.sort_values(by='accuracy', ascending=False).reset_index(drop=True)\n",
    "\n",
    "# Show top results\n",
    "results_df.head(10)\n"
   ]
  },
  {
   "cell_type": "code",
   "execution_count": 184,
   "id": "b258fd54-9af7-4018-bc2b-767ffbc8c12b",
   "metadata": {},
   "outputs": [],
   "source": [
    "best_features = ['X1', 'X5', 'X1_is_5', 'X6_is_5', 'X_avg_all']\n",
    "\n",
    "X = df[best_features]\n",
    "y = df['Y']"
   ]
  },
  {
   "cell_type": "code",
   "execution_count": 186,
   "id": "f7be94eb-8239-4dbd-a4c2-983214714304",
   "metadata": {},
   "outputs": [],
   "source": [
    "X_train, X_test, y_train, y_test = train_test_split(X, y, test_size=0.2, stratify=y, random_state=23)\n",
    "final_model = RandomForestClassifier(random_state=23)\n",
    "final_model.fit(X_train, y_train)\n",
    "y_pred = final_model.predict(X_test)\n"
   ]
  },
  {
   "cell_type": "code",
   "execution_count": 188,
   "id": "81157615-e7a8-42bc-8b07-0ef0d2c2c798",
   "metadata": {},
   "outputs": [
    {
     "name": "stdout",
     "output_type": "stream",
     "text": [
      "Final Random Forest Accuracy: 0.769\n",
      "\n",
      "Classification Report:\n",
      "              precision    recall  f1-score   support\n",
      "\n",
      "           0       0.71      0.83      0.77        12\n",
      "           1       0.83      0.71      0.77        14\n",
      "\n",
      "    accuracy                           0.77        26\n",
      "   macro avg       0.77      0.77      0.77        26\n",
      "weighted avg       0.78      0.77      0.77        26\n",
      "\n"
     ]
    }
   ],
   "source": [
    "# Evaluation\n",
    "print(\"Final Random Forest Accuracy:\", round(accuracy_score(y_test, y_pred), 3))\n",
    "print(\"\\nClassification Report:\")\n",
    "print(classification_report(y_test, y_pred))\n"
   ]
  },
  {
   "cell_type": "code",
   "execution_count": 196,
   "id": "faa21996-9703-4909-82fd-5d320a6dc01c",
   "metadata": {},
   "outputs": [
    {
     "data": {
      "image/png": "[encoded data removed]",
      "text/plain": [
       "<Figure size 600x300 with 1 Axes>"
      ]
     },
     "metadata": {},
     "output_type": "display_data"
    }
   ],
   "source": [
    "importances = final_model.feature_importances_\n",
    "plt.figure(figsize=(6, 3))\n",
    "plt.barh(best_features, importances)\n",
    "plt.xlabel(\"Feature Importance\")\n",
    "plt.title(\"Feature Importance in Final Random Forest Model\")\n",
    "plt.gca().invert_yaxis()\n",
    "plt.show()"
   ]
  },
  {
   "cell_type": "markdown",
   "id": "3c3394eb-c57f-436b-be38-c683bfdcff3f",
   "metadata": {},
   "source": [
    "### The best-performing model achieved **76.9%** accuracy. The most influential feature was X_avg_all, confirming the predictive power of aggregating key satisfaction inputs."
   ]
  },
  {
   "cell_type": "code",
   "execution_count": null,
   "id": "201ffb81-bf33-4d4d-9d9a-9d667ec05eac",
   "metadata": {},
   "outputs": [],
   "source": []
  },
  {
   "cell_type": "code",
   "execution_count": null,
   "id": "6ac488a3-6889-4225-9c24-e668d09b7654",
   "metadata": {},
   "outputs": [],
   "source": []
  },
  {
   "cell_type": "markdown",
   "id": "141a9bb6-ddcc-45d9-8013-cfc930993f9a",
   "metadata": {},
   "source": [
    "## Optimize the model and hyperparameters"
   ]
  },
  {
   "cell_type": "markdown",
   "id": "f5b76b25-51a5-4098-9422-a921aef3e6f4",
   "metadata": {},
   "source": [
    "## RandomizedSearch"
   ]
  },
  {
   "cell_type": "code",
   "execution_count": 75,
   "id": "331abf05-8186-48cd-9b35-60d32165582b",
   "metadata": {},
   "outputs": [],
   "source": [
    "from sklearn.model_selection import RandomizedSearchCV\n",
    "from scipy.stats import randint\n",
    "from sklearn.model_selection import GridSearchCV, StratifiedKFold\n"
   ]
  },
  {
   "cell_type": "code",
   "execution_count": 76,
   "id": "832936c6-6b4c-485c-863f-732a798378cf",
   "metadata": {},
   "outputs": [],
   "source": [
    "# Define the model\n",
    "model = RandomForestClassifier(random_state=23)\n"
   ]
  },
  {
   "cell_type": "code",
   "execution_count": 77,
   "id": "43d1572a-5680-4440-8f16-4641ce464649",
   "metadata": {},
   "outputs": [],
   "source": [
    "# Define the parameter grid\n",
    "param_dist = {\n",
    "    'n_estimators': randint(50, 200),\n",
    "    'max_depth': randint(2, 10),\n",
    "    'min_samples_split': randint(2, 10),\n",
    "    'min_samples_leaf': randint(1, 10),\n",
    "    'max_features': ['sqrt', 'log2', None]\n",
    "}\n"
   ]
  },
  {
   "cell_type": "code",
   "execution_count": 78,
   "id": "d4eb3a49-f536-402e-bc97-689b08c61959",
   "metadata": {},
   "outputs": [],
   "source": [
    "# Setup RandomizedSearchCV\n",
    "random_search = RandomizedSearchCV(\n",
    "    estimator=model,\n",
    "    param_distributions=param_dist,\n",
    "    n_iter=40,\n",
    "    cv=5,\n",
    "    scoring='accuracy',\n",
    "    n_jobs=-1,\n",
    "    random_state=23,\n",
    "    verbose=2\n",
    ")\n",
    "\n"
   ]
  },
  {
   "cell_type": "code",
   "execution_count": 79,
   "id": "fc5d2f79-f38d-4e08-80bc-d0ebf128582d",
   "metadata": {},
   "outputs": [
    {
     "name": "stdout",
     "output_type": "stream",
     "text": [
      "Fitting 5 folds for each of 40 candidates, totalling 200 fits\n"
     ]
    },
    {
     "data": {
      "text/html": [
       "<style>#sk-container-id-1 {\n",
       "  /* Definition of color scheme common for light and dark mode */\n",
       "  --sklearn-color-text: black;\n",
       "  --sklearn-color-line: gray;\n",
       "  /* Definition of color scheme for unfitted estimators */\n",
       "  --sklearn-color-unfitted-level-0: #fff5e6;\n",
       "  --sklearn-color-unfitted-level-1: #f6e4d2;\n",
       "  --sklearn-color-unfitted-level-2: #ffe0b3;\n",
       "  --sklearn-color-unfitted-level-3: chocolate;\n",
       "  /* Definition of color scheme for fitted estimators */\n",
       "  --sklearn-color-fitted-level-0: #f0f8ff;\n",
       "  --sklearn-color-fitted-level-1: #d4ebff;\n",
       "  --sklearn-color-fitted-level-2: #b3dbfd;\n",
       "  --sklearn-color-fitted-level-3: cornflowerblue;\n",
       "\n",
       "  /* Specific color for light theme */\n",
       "  --sklearn-color-text-on-default-background: var(--sg-text-color, var(--theme-code-foreground, var(--jp-content-font-color1, black)));\n",
       "  --sklearn-color-background: var(--sg-background-color, var(--theme-background, var(--jp-layout-color0, white)));\n",
       "  --sklearn-color-border-box: var(--sg-text-color, var(--theme-code-foreground, var(--jp-content-font-color1, black)));\n",
       "  --sklearn-color-icon: #696969;\n",
       "\n",
       "  @media (prefers-color-scheme: dark) {\n",
       "    /* Redefinition of color scheme for dark theme */\n",
       "    --sklearn-color-text-on-default-background: var(--sg-text-color, var(--theme-code-foreground, var(--jp-content-font-color1, white)));\n",
       "    --sklearn-color-background: var(--sg-background-color, var(--theme-background, var(--jp-layout-color0, #111)));\n",
       "    --sklearn-color-border-box: var(--sg-text-color, var(--theme-code-foreground, var(--jp-content-font-color1, white)));\n",
       "    --sklearn-color-icon: #878787;\n",
       "  }\n",
       "}\n",
       "\n",
       "#sk-container-id-1 {\n",
       "  color: var(--sklearn-color-text);\n",
       "}\n",
       "\n",
       "#sk-container-id-1 pre {\n",
       "  padding: 0;\n",
       "}\n",
       "\n",
       "#sk-container-id-1 input.sk-hidden--visually {\n",
       "  border: 0;\n",
       "  clip: rect(1px 1px 1px 1px);\n",
       "  clip: rect(1px, 1px, 1px, 1px);\n",
       "  height: 1px;\n",
       "  margin: -1px;\n",
       "  overflow: hidden;\n",
       "  padding: 0;\n",
       "  position: absolute;\n",
       "  width: 1px;\n",
       "}\n",
       "\n",
       "#sk-container-id-1 div.sk-dashed-wrapped {\n",
       "  border: 1px dashed var(--sklearn-color-line);\n",
       "  margin: 0 0.4em 0.5em 0.4em;\n",
       "  box-sizing: border-box;\n",
       "  padding-bottom: 0.4em;\n",
       "  background-color: var(--sklearn-color-background);\n",
       "}\n",
       "\n",
       "#sk-container-id-1 div.sk-container {\n",
       "  /* jupyter's `normalize.less` sets `[hidden] { display: none; }`\n",
       "     but bootstrap.min.css set `[hidden] { display: none !important; }`\n",
       "     so we also need the `!important` here to be able to override the\n",
       "     default hidden behavior on the sphinx rendered scikit-learn.org.\n",
       "     See: https://github.com/scikit-learn/scikit-learn/issues/21755 */\n",
       "  display: inline-block !important;\n",
       "  position: relative;\n",
       "}\n",
       "\n",
       "#sk-container-id-1 div.sk-text-repr-fallback {\n",
       "  display: none;\n",
       "}\n",
       "\n",
       "div.sk-parallel-item,\n",
       "div.sk-serial,\n",
       "div.sk-item {\n",
       "  /* draw centered vertical line to link estimators */\n",
       "  background-image: linear-gradient(var(--sklearn-color-text-on-default-background), var(--sklearn-color-text-on-default-background));\n",
       "  background-size: 2px 100%;\n",
       "  background-repeat: no-repeat;\n",
       "  background-position: center center;\n",
       "}\n",
       "\n",
       "/* Parallel-specific style estimator block */\n",
       "\n",
       "#sk-container-id-1 div.sk-parallel-item::after {\n",
       "  content: \"\";\n",
       "  width: 100%;\n",
       "  border-bottom: 2px solid var(--sklearn-color-text-on-default-background);\n",
       "  flex-grow: 1;\n",
       "}\n",
       "\n",
       "#sk-container-id-1 div.sk-parallel {\n",
       "  display: flex;\n",
       "  align-items: stretch;\n",
       "  justify-content: center;\n",
       "  background-color: var(--sklearn-color-background);\n",
       "  position: relative;\n",
       "}\n",
       "\n",
       "#sk-container-id-1 div.sk-parallel-item {\n",
       "  display: flex;\n",
       "  flex-direction: column;\n",
       "}\n",
       "\n",
       "#sk-container-id-1 div.sk-parallel-item:first-child::after {\n",
       "  align-self: flex-end;\n",
       "  width: 50%;\n",
       "}\n",
       "\n",
       "#sk-container-id-1 div.sk-parallel-item:last-child::after {\n",
       "  align-self: flex-start;\n",
       "  width: 50%;\n",
       "}\n",
       "\n",
       "#sk-container-id-1 div.sk-parallel-item:only-child::after {\n",
       "  width: 0;\n",
       "}\n",
       "\n",
       "/* Serial-specific style estimator block */\n",
       "\n",
       "#sk-container-id-1 div.sk-serial {\n",
       "  display: flex;\n",
       "  flex-direction: column;\n",
       "  align-items: center;\n",
       "  background-color: var(--sklearn-color-background);\n",
       "  padding-right: 1em;\n",
       "  padding-left: 1em;\n",
       "}\n",
       "\n",
       "\n",
       "/* Toggleable style: style used for estimator/Pipeline/ColumnTransformer box that is\n",
       "clickable and can be expanded/collapsed.\n",
       "- Pipeline and ColumnTransformer use this feature and define the default style\n",
       "- Estimators will overwrite some part of the style using the `sk-estimator` class\n",
       "*/\n",
       "\n",
       "/* Pipeline and ColumnTransformer style (default) */\n",
       "\n",
       "#sk-container-id-1 div.sk-toggleable {\n",
       "  /* Default theme specific background. It is overwritten whether we have a\n",
       "  specific estimator or a Pipeline/ColumnTransformer */\n",
       "  background-color: var(--sklearn-color-background);\n",
       "}\n",
       "\n",
       "/* Toggleable label */\n",
       "#sk-container-id-1 label.sk-toggleable__label {\n",
       "  cursor: pointer;\n",
       "  display: block;\n",
       "  width: 100%;\n",
       "  margin-bottom: 0;\n",
       "  padding: 0.5em;\n",
       "  box-sizing: border-box;\n",
       "  text-align: center;\n",
       "}\n",
       "\n",
       "#sk-container-id-1 label.sk-toggleable__label-arrow:before {\n",
       "  /* Arrow on the left of the label */\n",
       "  content: \"▸\";\n",
       "  float: left;\n",
       "  margin-right: 0.25em;\n",
       "  color: var(--sklearn-color-icon);\n",
       "}\n",
       "\n",
       "#sk-container-id-1 label.sk-toggleable__label-arrow:hover:before {\n",
       "  color: var(--sklearn-color-text);\n",
       "}\n",
       "\n",
       "/* Toggleable content - dropdown */\n",
       "\n",
       "#sk-container-id-1 div.sk-toggleable__content {\n",
       "  max-height: 0;\n",
       "  max-width: 0;\n",
       "  overflow: hidden;\n",
       "  text-align: left;\n",
       "  /* unfitted */\n",
       "  background-color: var(--sklearn-color-unfitted-level-0);\n",
       "}\n",
       "\n",
       "#sk-container-id-1 div.sk-toggleable__content.fitted {\n",
       "  /* fitted */\n",
       "  background-color: var(--sklearn-color-fitted-level-0);\n",
       "}\n",
       "\n",
       "#sk-container-id-1 div.sk-toggleable__content pre {\n",
       "  margin: 0.2em;\n",
       "  border-radius: 0.25em;\n",
       "  color: var(--sklearn-color-text);\n",
       "  /* unfitted */\n",
       "  background-color: var(--sklearn-color-unfitted-level-0);\n",
       "}\n",
       "\n",
       "#sk-container-id-1 div.sk-toggleable__content.fitted pre {\n",
       "  /* unfitted */\n",
       "  background-color: var(--sklearn-color-fitted-level-0);\n",
       "}\n",
       "\n",
       "#sk-container-id-1 input.sk-toggleable__control:checked~div.sk-toggleable__content {\n",
       "  /* Expand drop-down */\n",
       "  max-height: 200px;\n",
       "  max-width: 100%;\n",
       "  overflow: auto;\n",
       "}\n",
       "\n",
       "#sk-container-id-1 input.sk-toggleable__control:checked~label.sk-toggleable__label-arrow:before {\n",
       "  content: \"▾\";\n",
       "}\n",
       "\n",
       "/* Pipeline/ColumnTransformer-specific style */\n",
       "\n",
       "#sk-container-id-1 div.sk-label input.sk-toggleable__control:checked~label.sk-toggleable__label {\n",
       "  color: var(--sklearn-color-text);\n",
       "  background-color: var(--sklearn-color-unfitted-level-2);\n",
       "}\n",
       "\n",
       "#sk-container-id-1 div.sk-label.fitted input.sk-toggleable__control:checked~label.sk-toggleable__label {\n",
       "  background-color: var(--sklearn-color-fitted-level-2);\n",
       "}\n",
       "\n",
       "/* Estimator-specific style */\n",
       "\n",
       "/* Colorize estimator box */\n",
       "#sk-container-id-1 div.sk-estimator input.sk-toggleable__control:checked~label.sk-toggleable__label {\n",
       "  /* unfitted */\n",
       "  background-color: var(--sklearn-color-unfitted-level-2);\n",
       "}\n",
       "\n",
       "#sk-container-id-1 div.sk-estimator.fitted input.sk-toggleable__control:checked~label.sk-toggleable__label {\n",
       "  /* fitted */\n",
       "  background-color: var(--sklearn-color-fitted-level-2);\n",
       "}\n",
       "\n",
       "#sk-container-id-1 div.sk-label label.sk-toggleable__label,\n",
       "#sk-container-id-1 div.sk-label label {\n",
       "  /* The background is the default theme color */\n",
       "  color: var(--sklearn-color-text-on-default-background);\n",
       "}\n",
       "\n",
       "/* On hover, darken the color of the background */\n",
       "#sk-container-id-1 div.sk-label:hover label.sk-toggleable__label {\n",
       "  color: var(--sklearn-color-text);\n",
       "  background-color: var(--sklearn-color-unfitted-level-2);\n",
       "}\n",
       "\n",
       "/* Label box, darken color on hover, fitted */\n",
       "#sk-container-id-1 div.sk-label.fitted:hover label.sk-toggleable__label.fitted {\n",
       "  color: var(--sklearn-color-text);\n",
       "  background-color: var(--sklearn-color-fitted-level-2);\n",
       "}\n",
       "\n",
       "/* Estimator label */\n",
       "\n",
       "#sk-container-id-1 div.sk-label label {\n",
       "  font-family: monospace;\n",
       "  font-weight: bold;\n",
       "  display: inline-block;\n",
       "  line-height: 1.2em;\n",
       "}\n",
       "\n",
       "#sk-container-id-1 div.sk-label-container {\n",
       "  text-align: center;\n",
       "}\n",
       "\n",
       "/* Estimator-specific */\n",
       "#sk-container-id-1 div.sk-estimator {\n",
       "  font-family: monospace;\n",
       "  border: 1px dotted var(--sklearn-color-border-box);\n",
       "  border-radius: 0.25em;\n",
       "  box-sizing: border-box;\n",
       "  margin-bottom: 0.5em;\n",
       "  /* unfitted */\n",
       "  background-color: var(--sklearn-color-unfitted-level-0);\n",
       "}\n",
       "\n",
       "#sk-container-id-1 div.sk-estimator.fitted {\n",
       "  /* fitted */\n",
       "  background-color: var(--sklearn-color-fitted-level-0);\n",
       "}\n",
       "\n",
       "/* on hover */\n",
       "#sk-container-id-1 div.sk-estimator:hover {\n",
       "  /* unfitted */\n",
       "  background-color: var(--sklearn-color-unfitted-level-2);\n",
       "}\n",
       "\n",
       "#sk-container-id-1 div.sk-estimator.fitted:hover {\n",
       "  /* fitted */\n",
       "  background-color: var(--sklearn-color-fitted-level-2);\n",
       "}\n",
       "\n",
       "/* Specification for estimator info (e.g. \"i\" and \"?\") */\n",
       "\n",
       "/* Common style for \"i\" and \"?\" */\n",
       "\n",
       ".sk-estimator-doc-link,\n",
       "a:link.sk-estimator-doc-link,\n",
       "a:visited.sk-estimator-doc-link {\n",
       "  float: right;\n",
       "  font-size: smaller;\n",
       "  line-height: 1em;\n",
       "  font-family: monospace;\n",
       "  background-color: var(--sklearn-color-background);\n",
       "  border-radius: 1em;\n",
       "  height: 1em;\n",
       "  width: 1em;\n",
       "  text-decoration: none !important;\n",
       "  margin-left: 1ex;\n",
       "  /* unfitted */\n",
       "  border: var(--sklearn-color-unfitted-level-1) 1pt solid;\n",
       "  color: var(--sklearn-color-unfitted-level-1);\n",
       "}\n",
       "\n",
       ".sk-estimator-doc-link.fitted,\n",
       "a:link.sk-estimator-doc-link.fitted,\n",
       "a:visited.sk-estimator-doc-link.fitted {\n",
       "  /* fitted */\n",
       "  border: var(--sklearn-color-fitted-level-1) 1pt solid;\n",
       "  color: var(--sklearn-color-fitted-level-1);\n",
       "}\n",
       "\n",
       "/* On hover */\n",
       "div.sk-estimator:hover .sk-estimator-doc-link:hover,\n",
       ".sk-estimator-doc-link:hover,\n",
       "div.sk-label-container:hover .sk-estimator-doc-link:hover,\n",
       ".sk-estimator-doc-link:hover {\n",
       "  /* unfitted */\n",
       "  background-color: var(--sklearn-color-unfitted-level-3);\n",
       "  color: var(--sklearn-color-background);\n",
       "  text-decoration: none;\n",
       "}\n",
       "\n",
       "div.sk-estimator.fitted:hover .sk-estimator-doc-link.fitted:hover,\n",
       ".sk-estimator-doc-link.fitted:hover,\n",
       "div.sk-label-container:hover .sk-estimator-doc-link.fitted:hover,\n",
       ".sk-estimator-doc-link.fitted:hover {\n",
       "  /* fitted */\n",
       "  background-color: var(--sklearn-color-fitted-level-3);\n",
       "  color: var(--sklearn-color-background);\n",
       "  text-decoration: none;\n",
       "}\n",
       "\n",
       "/* Span, style for the box shown on hovering the info icon */\n",
       ".sk-estimator-doc-link span {\n",
       "  display: none;\n",
       "  z-index: 9999;\n",
       "  position: relative;\n",
       "  font-weight: normal;\n",
       "  right: .2ex;\n",
       "  padding: .5ex;\n",
       "  margin: .5ex;\n",
       "  width: min-content;\n",
       "  min-width: 20ex;\n",
       "  max-width: 50ex;\n",
       "  color: var(--sklearn-color-text);\n",
       "  box-shadow: 2pt 2pt 4pt #999;\n",
       "  /* unfitted */\n",
       "  background: var(--sklearn-color-unfitted-level-0);\n",
       "  border: .5pt solid var(--sklearn-color-unfitted-level-3);\n",
       "}\n",
       "\n",
       ".sk-estimator-doc-link.fitted span {\n",
       "  /* fitted */\n",
       "  background: var(--sklearn-color-fitted-level-0);\n",
       "  border: var(--sklearn-color-fitted-level-3);\n",
       "}\n",
       "\n",
       ".sk-estimator-doc-link:hover span {\n",
       "  display: block;\n",
       "}\n",
       "\n",
       "/* \"?\"-specific style due to the `<a>` HTML tag */\n",
       "\n",
       "#sk-container-id-1 a.estimator_doc_link {\n",
       "  float: right;\n",
       "  font-size: 1rem;\n",
       "  line-height: 1em;\n",
       "  font-family: monospace;\n",
       "  background-color: var(--sklearn-color-background);\n",
       "  border-radius: 1rem;\n",
       "  height: 1rem;\n",
       "  width: 1rem;\n",
       "  text-decoration: none;\n",
       "  /* unfitted */\n",
       "  color: var(--sklearn-color-unfitted-level-1);\n",
       "  border: var(--sklearn-color-unfitted-level-1) 1pt solid;\n",
       "}\n",
       "\n",
       "#sk-container-id-1 a.estimator_doc_link.fitted {\n",
       "  /* fitted */\n",
       "  border: var(--sklearn-color-fitted-level-1) 1pt solid;\n",
       "  color: var(--sklearn-color-fitted-level-1);\n",
       "}\n",
       "\n",
       "/* On hover */\n",
       "#sk-container-id-1 a.estimator_doc_link:hover {\n",
       "  /* unfitted */\n",
       "  background-color: var(--sklearn-color-unfitted-level-3);\n",
       "  color: var(--sklearn-color-background);\n",
       "  text-decoration: none;\n",
       "}\n",
       "\n",
       "#sk-container-id-1 a.estimator_doc_link.fitted:hover {\n",
       "  /* fitted */\n",
       "  background-color: var(--sklearn-color-fitted-level-3);\n",
       "}\n",
       "</style><div id=\"sk-container-id-1\" class=\"sk-top-container\"><div class=\"sk-text-repr-fallback\"><pre>RandomizedSearchCV(cv=5, estimator=RandomForestClassifier(random_state=23),\n",
       "                   n_iter=40, n_jobs=-1,\n",
       "                   param_distributions={&#x27;max_depth&#x27;: &lt;scipy.stats._distn_infrastructure.rv_discrete_frozen object at 0x000001F4252E63F0&gt;,\n",
       "                                        &#x27;max_features&#x27;: [&#x27;sqrt&#x27;, &#x27;log2&#x27;, None],\n",
       "                                        &#x27;min_samples_leaf&#x27;: &lt;scipy.stats._distn_infrastructure.rv_discrete_frozen object at 0x000001F423A52180&gt;,\n",
       "                                        &#x27;min_samples_split&#x27;: &lt;scipy.stats._distn_infrastructure.rv_discrete_frozen object at 0x000001F423A508F0&gt;,\n",
       "                                        &#x27;n_estimators&#x27;: &lt;scipy.stats._distn_infrastructure.rv_discrete_frozen object at 0x000001F424D0A630&gt;},\n",
       "                   random_state=23, scoring=&#x27;accuracy&#x27;, verbose=2)</pre><b>In a Jupyter environment, please rerun this cell to show the HTML representation or trust the notebook. <br />On GitHub, the HTML representation is unable to render, please try loading this page with nbviewer.org.</b></div><div class=\"sk-container\" hidden><div class=\"sk-item sk-dashed-wrapped\"><div class=\"sk-label-container\"><div class=\"sk-label fitted sk-toggleable\"><input class=\"sk-toggleable__control sk-hidden--visually\" id=\"sk-estimator-id-1\" type=\"checkbox\" ><label for=\"sk-estimator-id-1\" class=\"sk-toggleable__label fitted sk-toggleable__label-arrow fitted\">&nbsp;&nbsp;RandomizedSearchCV<a class=\"sk-estimator-doc-link fitted\" rel=\"noreferrer\" target=\"_blank\" href=\"https://scikit-learn.org/1.5/modules/generated/sklearn.model_selection.RandomizedSearchCV.html\">?<span>Documentation for RandomizedSearchCV</span></a><span class=\"sk-estimator-doc-link fitted\">i<span>Fitted</span></span></label><div class=\"sk-toggleable__content fitted\"><pre>RandomizedSearchCV(cv=5, estimator=RandomForestClassifier(random_state=23),\n",
       "                   n_iter=40, n_jobs=-1,\n",
       "                   param_distributions={&#x27;max_depth&#x27;: &lt;scipy.stats._distn_infrastructure.rv_discrete_frozen object at 0x000001F4252E63F0&gt;,\n",
       "                                        &#x27;max_features&#x27;: [&#x27;sqrt&#x27;, &#x27;log2&#x27;, None],\n",
       "                                        &#x27;min_samples_leaf&#x27;: &lt;scipy.stats._distn_infrastructure.rv_discrete_frozen object at 0x000001F423A52180&gt;,\n",
       "                                        &#x27;min_samples_split&#x27;: &lt;scipy.stats._distn_infrastructure.rv_discrete_frozen object at 0x000001F423A508F0&gt;,\n",
       "                                        &#x27;n_estimators&#x27;: &lt;scipy.stats._distn_infrastructure.rv_discrete_frozen object at 0x000001F424D0A630&gt;},\n",
       "                   random_state=23, scoring=&#x27;accuracy&#x27;, verbose=2)</pre></div> </div></div><div class=\"sk-parallel\"><div class=\"sk-parallel-item\"><div class=\"sk-item\"><div class=\"sk-label-container\"><div class=\"sk-label fitted sk-toggleable\"><input class=\"sk-toggleable__control sk-hidden--visually\" id=\"sk-estimator-id-2\" type=\"checkbox\" ><label for=\"sk-estimator-id-2\" class=\"sk-toggleable__label fitted sk-toggleable__label-arrow fitted\">best_estimator_: RandomForestClassifier</label><div class=\"sk-toggleable__content fitted\"><pre>RandomForestClassifier(max_depth=8, min_samples_leaf=7, min_samples_split=4,\n",
       "                       n_estimators=77, random_state=23)</pre></div> </div></div><div class=\"sk-serial\"><div class=\"sk-item\"><div class=\"sk-estimator fitted sk-toggleable\"><input class=\"sk-toggleable__control sk-hidden--visually\" id=\"sk-estimator-id-3\" type=\"checkbox\" ><label for=\"sk-estimator-id-3\" class=\"sk-toggleable__label fitted sk-toggleable__label-arrow fitted\">&nbsp;RandomForestClassifier<a class=\"sk-estimator-doc-link fitted\" rel=\"noreferrer\" target=\"_blank\" href=\"https://scikit-learn.org/1.5/modules/generated/sklearn.ensemble.RandomForestClassifier.html\">?<span>Documentation for RandomForestClassifier</span></a></label><div class=\"sk-toggleable__content fitted\"><pre>RandomForestClassifier(max_depth=8, min_samples_leaf=7, min_samples_split=4,\n",
       "                       n_estimators=77, random_state=23)</pre></div> </div></div></div></div></div></div></div></div></div>"
      ],
      "text/plain": [
       "RandomizedSearchCV(cv=5, estimator=RandomForestClassifier(random_state=23),\n",
       "                   n_iter=40, n_jobs=-1,\n",
       "                   param_distributions={'max_depth': <scipy.stats._distn_infrastructure.rv_discrete_frozen object at 0x000001F4252E63F0>,\n",
       "                                        'max_features': ['sqrt', 'log2', None],\n",
       "                                        'min_samples_leaf': <scipy.stats._distn_infrastructure.rv_discrete_frozen object at 0x000001F423A52180>,\n",
       "                                        'min_samples_split': <scipy.stats._distn_infrastructure.rv_discrete_frozen object at 0x000001F423A508F0>,\n",
       "                                        'n_estimators': <scipy.stats._distn_infrastructure.rv_discrete_frozen object at 0x000001F424D0A630>},\n",
       "                   random_state=23, scoring='accuracy', verbose=2)"
      ]
     },
     "execution_count": 79,
     "metadata": {},
     "output_type": "execute_result"
    }
   ],
   "source": [
    "# Fit the model\n",
    "random_search.fit(X_train, y_train)\n",
    "\n"
   ]
  },
  {
   "cell_type": "code",
   "execution_count": 80,
   "id": "6e714863-0c70-42fd-aee5-bd0a94b4d8b3",
   "metadata": {},
   "outputs": [
    {
     "name": "stdout",
     "output_type": "stream",
     "text": [
      "Best Params: {'max_depth': 8, 'max_features': 'sqrt', 'min_samples_leaf': 7, 'min_samples_split': 4, 'n_estimators': 77}\n",
      "Accuracy: 0.5769230769230769\n",
      "\n",
      "Classification Report:\n",
      "               precision    recall  f1-score   support\n",
      "\n",
      "           0       0.53      0.83      0.65        12\n",
      "           1       0.71      0.36      0.48        14\n",
      "\n",
      "    accuracy                           0.58        26\n",
      "   macro avg       0.62      0.60      0.56        26\n",
      "weighted avg       0.63      0.58      0.55        26\n",
      "\n"
     ]
    }
   ],
   "source": [
    "# Evaluate\n",
    "best_model = random_search.best_estimator_\n",
    "y_pred = best_model.predict(X_test)\n",
    "\n",
    "print(\"Best Params:\", random_search.best_params_)\n",
    "print(\"Accuracy:\", accuracy_score(y_test, y_pred))\n",
    "print(\"\\nClassification Report:\\n\", classification_report(y_test, y_pred))\n",
    "\n"
   ]
  },
  {
   "cell_type": "markdown",
   "id": "1df0bbea-2066-4a4b-9c72-9f3cb33a0ea7",
   "metadata": {},
   "source": [
    "## GridSearch"
   ]
  },
  {
   "cell_type": "code",
   "execution_count": 82,
   "id": "96daf63f-8cfd-4c45-b886-835cbe92241d",
   "metadata": {},
   "outputs": [
    {
     "name": "stdout",
     "output_type": "stream",
     "text": [
      "Fitting 5 folds for each of 48 candidates, totalling 240 fits\n"
     ]
    },
    {
     "name": "stderr",
     "output_type": "stream",
     "text": [
      "E:\\Devs\\pyEnv-1\\NLP_experimental\\NLP_1-env\\Lib\\site-packages\\numpy\\ma\\core.py:2846: RuntimeWarning: invalid value encountered in cast\n",
      "  _data = np.array(data, dtype=dtype, copy=copy,\n"
     ]
    },
    {
     "data": {
      "text/html": [
       "<style>#sk-container-id-2 {\n",
       "  /* Definition of color scheme common for light and dark mode */\n",
       "  --sklearn-color-text: black;\n",
       "  --sklearn-color-line: gray;\n",
       "  /* Definition of color scheme for unfitted estimators */\n",
       "  --sklearn-color-unfitted-level-0: #fff5e6;\n",
       "  --sklearn-color-unfitted-level-1: #f6e4d2;\n",
       "  --sklearn-color-unfitted-level-2: #ffe0b3;\n",
       "  --sklearn-color-unfitted-level-3: chocolate;\n",
       "  /* Definition of color scheme for fitted estimators */\n",
       "  --sklearn-color-fitted-level-0: #f0f8ff;\n",
       "  --sklearn-color-fitted-level-1: #d4ebff;\n",
       "  --sklearn-color-fitted-level-2: #b3dbfd;\n",
       "  --sklearn-color-fitted-level-3: cornflowerblue;\n",
       "\n",
       "  /* Specific color for light theme */\n",
       "  --sklearn-color-text-on-default-background: var(--sg-text-color, var(--theme-code-foreground, var(--jp-content-font-color1, black)));\n",
       "  --sklearn-color-background: var(--sg-background-color, var(--theme-background, var(--jp-layout-color0, white)));\n",
       "  --sklearn-color-border-box: var(--sg-text-color, var(--theme-code-foreground, var(--jp-content-font-color1, black)));\n",
       "  --sklearn-color-icon: #696969;\n",
       "\n",
       "  @media (prefers-color-scheme: dark) {\n",
       "    /* Redefinition of color scheme for dark theme */\n",
       "    --sklearn-color-text-on-default-background: var(--sg-text-color, var(--theme-code-foreground, var(--jp-content-font-color1, white)));\n",
       "    --sklearn-color-background: var(--sg-background-color, var(--theme-background, var(--jp-layout-color0, #111)));\n",
       "    --sklearn-color-border-box: var(--sg-text-color, var(--theme-code-foreground, var(--jp-content-font-color1, white)));\n",
       "    --sklearn-color-icon: #878787;\n",
       "  }\n",
       "}\n",
       "\n",
       "#sk-container-id-2 {\n",
       "  color: var(--sklearn-color-text);\n",
       "}\n",
       "\n",
       "#sk-container-id-2 pre {\n",
       "  padding: 0;\n",
       "}\n",
       "\n",
       "#sk-container-id-2 input.sk-hidden--visually {\n",
       "  border: 0;\n",
       "  clip: rect(1px 1px 1px 1px);\n",
       "  clip: rect(1px, 1px, 1px, 1px);\n",
       "  height: 1px;\n",
       "  margin: -1px;\n",
       "  overflow: hidden;\n",
       "  padding: 0;\n",
       "  position: absolute;\n",
       "  width: 1px;\n",
       "}\n",
       "\n",
       "#sk-container-id-2 div.sk-dashed-wrapped {\n",
       "  border: 1px dashed var(--sklearn-color-line);\n",
       "  margin: 0 0.4em 0.5em 0.4em;\n",
       "  box-sizing: border-box;\n",
       "  padding-bottom: 0.4em;\n",
       "  background-color: var(--sklearn-color-background);\n",
       "}\n",
       "\n",
       "#sk-container-id-2 div.sk-container {\n",
       "  /* jupyter's `normalize.less` sets `[hidden] { display: none; }`\n",
       "     but bootstrap.min.css set `[hidden] { display: none !important; }`\n",
       "     so we also need the `!important` here to be able to override the\n",
       "     default hidden behavior on the sphinx rendered scikit-learn.org.\n",
       "     See: https://github.com/scikit-learn/scikit-learn/issues/21755 */\n",
       "  display: inline-block !important;\n",
       "  position: relative;\n",
       "}\n",
       "\n",
       "#sk-container-id-2 div.sk-text-repr-fallback {\n",
       "  display: none;\n",
       "}\n",
       "\n",
       "div.sk-parallel-item,\n",
       "div.sk-serial,\n",
       "div.sk-item {\n",
       "  /* draw centered vertical line to link estimators */\n",
       "  background-image: linear-gradient(var(--sklearn-color-text-on-default-background), var(--sklearn-color-text-on-default-background));\n",
       "  background-size: 2px 100%;\n",
       "  background-repeat: no-repeat;\n",
       "  background-position: center center;\n",
       "}\n",
       "\n",
       "/* Parallel-specific style estimator block */\n",
       "\n",
       "#sk-container-id-2 div.sk-parallel-item::after {\n",
       "  content: \"\";\n",
       "  width: 100%;\n",
       "  border-bottom: 2px solid var(--sklearn-color-text-on-default-background);\n",
       "  flex-grow: 1;\n",
       "}\n",
       "\n",
       "#sk-container-id-2 div.sk-parallel {\n",
       "  display: flex;\n",
       "  align-items: stretch;\n",
       "  justify-content: center;\n",
       "  background-color: var(--sklearn-color-background);\n",
       "  position: relative;\n",
       "}\n",
       "\n",
       "#sk-container-id-2 div.sk-parallel-item {\n",
       "  display: flex;\n",
       "  flex-direction: column;\n",
       "}\n",
       "\n",
       "#sk-container-id-2 div.sk-parallel-item:first-child::after {\n",
       "  align-self: flex-end;\n",
       "  width: 50%;\n",
       "}\n",
       "\n",
       "#sk-container-id-2 div.sk-parallel-item:last-child::after {\n",
       "  align-self: flex-start;\n",
       "  width: 50%;\n",
       "}\n",
       "\n",
       "#sk-container-id-2 div.sk-parallel-item:only-child::after {\n",
       "  width: 0;\n",
       "}\n",
       "\n",
       "/* Serial-specific style estimator block */\n",
       "\n",
       "#sk-container-id-2 div.sk-serial {\n",
       "  display: flex;\n",
       "  flex-direction: column;\n",
       "  align-items: center;\n",
       "  background-color: var(--sklearn-color-background);\n",
       "  padding-right: 1em;\n",
       "  padding-left: 1em;\n",
       "}\n",
       "\n",
       "\n",
       "/* Toggleable style: style used for estimator/Pipeline/ColumnTransformer box that is\n",
       "clickable and can be expanded/collapsed.\n",
       "- Pipeline and ColumnTransformer use this feature and define the default style\n",
       "- Estimators will overwrite some part of the style using the `sk-estimator` class\n",
       "*/\n",
       "\n",
       "/* Pipeline and ColumnTransformer style (default) */\n",
       "\n",
       "#sk-container-id-2 div.sk-toggleable {\n",
       "  /* Default theme specific background. It is overwritten whether we have a\n",
       "  specific estimator or a Pipeline/ColumnTransformer */\n",
       "  background-color: var(--sklearn-color-background);\n",
       "}\n",
       "\n",
       "/* Toggleable label */\n",
       "#sk-container-id-2 label.sk-toggleable__label {\n",
       "  cursor: pointer;\n",
       "  display: block;\n",
       "  width: 100%;\n",
       "  margin-bottom: 0;\n",
       "  padding: 0.5em;\n",
       "  box-sizing: border-box;\n",
       "  text-align: center;\n",
       "}\n",
       "\n",
       "#sk-container-id-2 label.sk-toggleable__label-arrow:before {\n",
       "  /* Arrow on the left of the label */\n",
       "  content: \"▸\";\n",
       "  float: left;\n",
       "  margin-right: 0.25em;\n",
       "  color: var(--sklearn-color-icon);\n",
       "}\n",
       "\n",
       "#sk-container-id-2 label.sk-toggleable__label-arrow:hover:before {\n",
       "  color: var(--sklearn-color-text);\n",
       "}\n",
       "\n",
       "/* Toggleable content - dropdown */\n",
       "\n",
       "#sk-container-id-2 div.sk-toggleable__content {\n",
       "  max-height: 0;\n",
       "  max-width: 0;\n",
       "  overflow: hidden;\n",
       "  text-align: left;\n",
       "  /* unfitted */\n",
       "  background-color: var(--sklearn-color-unfitted-level-0);\n",
       "}\n",
       "\n",
       "#sk-container-id-2 div.sk-toggleable__content.fitted {\n",
       "  /* fitted */\n",
       "  background-color: var(--sklearn-color-fitted-level-0);\n",
       "}\n",
       "\n",
       "#sk-container-id-2 div.sk-toggleable__content pre {\n",
       "  margin: 0.2em;\n",
       "  border-radius: 0.25em;\n",
       "  color: var(--sklearn-color-text);\n",
       "  /* unfitted */\n",
       "  background-color: var(--sklearn-color-unfitted-level-0);\n",
       "}\n",
       "\n",
       "#sk-container-id-2 div.sk-toggleable__content.fitted pre {\n",
       "  /* unfitted */\n",
       "  background-color: var(--sklearn-color-fitted-level-0);\n",
       "}\n",
       "\n",
       "#sk-container-id-2 input.sk-toggleable__control:checked~div.sk-toggleable__content {\n",
       "  /* Expand drop-down */\n",
       "  max-height: 200px;\n",
       "  max-width: 100%;\n",
       "  overflow: auto;\n",
       "}\n",
       "\n",
       "#sk-container-id-2 input.sk-toggleable__control:checked~label.sk-toggleable__label-arrow:before {\n",
       "  content: \"▾\";\n",
       "}\n",
       "\n",
       "/* Pipeline/ColumnTransformer-specific style */\n",
       "\n",
       "#sk-container-id-2 div.sk-label input.sk-toggleable__control:checked~label.sk-toggleable__label {\n",
       "  color: var(--sklearn-color-text);\n",
       "  background-color: var(--sklearn-color-unfitted-level-2);\n",
       "}\n",
       "\n",
       "#sk-container-id-2 div.sk-label.fitted input.sk-toggleable__control:checked~label.sk-toggleable__label {\n",
       "  background-color: var(--sklearn-color-fitted-level-2);\n",
       "}\n",
       "\n",
       "/* Estimator-specific style */\n",
       "\n",
       "/* Colorize estimator box */\n",
       "#sk-container-id-2 div.sk-estimator input.sk-toggleable__control:checked~label.sk-toggleable__label {\n",
       "  /* unfitted */\n",
       "  background-color: var(--sklearn-color-unfitted-level-2);\n",
       "}\n",
       "\n",
       "#sk-container-id-2 div.sk-estimator.fitted input.sk-toggleable__control:checked~label.sk-toggleable__label {\n",
       "  /* fitted */\n",
       "  background-color: var(--sklearn-color-fitted-level-2);\n",
       "}\n",
       "\n",
       "#sk-container-id-2 div.sk-label label.sk-toggleable__label,\n",
       "#sk-container-id-2 div.sk-label label {\n",
       "  /* The background is the default theme color */\n",
       "  color: var(--sklearn-color-text-on-default-background);\n",
       "}\n",
       "\n",
       "/* On hover, darken the color of the background */\n",
       "#sk-container-id-2 div.sk-label:hover label.sk-toggleable__label {\n",
       "  color: var(--sklearn-color-text);\n",
       "  background-color: var(--sklearn-color-unfitted-level-2);\n",
       "}\n",
       "\n",
       "/* Label box, darken color on hover, fitted */\n",
       "#sk-container-id-2 div.sk-label.fitted:hover label.sk-toggleable__label.fitted {\n",
       "  color: var(--sklearn-color-text);\n",
       "  background-color: var(--sklearn-color-fitted-level-2);\n",
       "}\n",
       "\n",
       "/* Estimator label */\n",
       "\n",
       "#sk-container-id-2 div.sk-label label {\n",
       "  font-family: monospace;\n",
       "  font-weight: bold;\n",
       "  display: inline-block;\n",
       "  line-height: 1.2em;\n",
       "}\n",
       "\n",
       "#sk-container-id-2 div.sk-label-container {\n",
       "  text-align: center;\n",
       "}\n",
       "\n",
       "/* Estimator-specific */\n",
       "#sk-container-id-2 div.sk-estimator {\n",
       "  font-family: monospace;\n",
       "  border: 1px dotted var(--sklearn-color-border-box);\n",
       "  border-radius: 0.25em;\n",
       "  box-sizing: border-box;\n",
       "  margin-bottom: 0.5em;\n",
       "  /* unfitted */\n",
       "  background-color: var(--sklearn-color-unfitted-level-0);\n",
       "}\n",
       "\n",
       "#sk-container-id-2 div.sk-estimator.fitted {\n",
       "  /* fitted */\n",
       "  background-color: var(--sklearn-color-fitted-level-0);\n",
       "}\n",
       "\n",
       "/* on hover */\n",
       "#sk-container-id-2 div.sk-estimator:hover {\n",
       "  /* unfitted */\n",
       "  background-color: var(--sklearn-color-unfitted-level-2);\n",
       "}\n",
       "\n",
       "#sk-container-id-2 div.sk-estimator.fitted:hover {\n",
       "  /* fitted */\n",
       "  background-color: var(--sklearn-color-fitted-level-2);\n",
       "}\n",
       "\n",
       "/* Specification for estimator info (e.g. \"i\" and \"?\") */\n",
       "\n",
       "/* Common style for \"i\" and \"?\" */\n",
       "\n",
       ".sk-estimator-doc-link,\n",
       "a:link.sk-estimator-doc-link,\n",
       "a:visited.sk-estimator-doc-link {\n",
       "  float: right;\n",
       "  font-size: smaller;\n",
       "  line-height: 1em;\n",
       "  font-family: monospace;\n",
       "  background-color: var(--sklearn-color-background);\n",
       "  border-radius: 1em;\n",
       "  height: 1em;\n",
       "  width: 1em;\n",
       "  text-decoration: none !important;\n",
       "  margin-left: 1ex;\n",
       "  /* unfitted */\n",
       "  border: var(--sklearn-color-unfitted-level-1) 1pt solid;\n",
       "  color: var(--sklearn-color-unfitted-level-1);\n",
       "}\n",
       "\n",
       ".sk-estimator-doc-link.fitted,\n",
       "a:link.sk-estimator-doc-link.fitted,\n",
       "a:visited.sk-estimator-doc-link.fitted {\n",
       "  /* fitted */\n",
       "  border: var(--sklearn-color-fitted-level-1) 1pt solid;\n",
       "  color: var(--sklearn-color-fitted-level-1);\n",
       "}\n",
       "\n",
       "/* On hover */\n",
       "div.sk-estimator:hover .sk-estimator-doc-link:hover,\n",
       ".sk-estimator-doc-link:hover,\n",
       "div.sk-label-container:hover .sk-estimator-doc-link:hover,\n",
       ".sk-estimator-doc-link:hover {\n",
       "  /* unfitted */\n",
       "  background-color: var(--sklearn-color-unfitted-level-3);\n",
       "  color: var(--sklearn-color-background);\n",
       "  text-decoration: none;\n",
       "}\n",
       "\n",
       "div.sk-estimator.fitted:hover .sk-estimator-doc-link.fitted:hover,\n",
       ".sk-estimator-doc-link.fitted:hover,\n",
       "div.sk-label-container:hover .sk-estimator-doc-link.fitted:hover,\n",
       ".sk-estimator-doc-link.fitted:hover {\n",
       "  /* fitted */\n",
       "  background-color: var(--sklearn-color-fitted-level-3);\n",
       "  color: var(--sklearn-color-background);\n",
       "  text-decoration: none;\n",
       "}\n",
       "\n",
       "/* Span, style for the box shown on hovering the info icon */\n",
       ".sk-estimator-doc-link span {\n",
       "  display: none;\n",
       "  z-index: 9999;\n",
       "  position: relative;\n",
       "  font-weight: normal;\n",
       "  right: .2ex;\n",
       "  padding: .5ex;\n",
       "  margin: .5ex;\n",
       "  width: min-content;\n",
       "  min-width: 20ex;\n",
       "  max-width: 50ex;\n",
       "  color: var(--sklearn-color-text);\n",
       "  box-shadow: 2pt 2pt 4pt #999;\n",
       "  /* unfitted */\n",
       "  background: var(--sklearn-color-unfitted-level-0);\n",
       "  border: .5pt solid var(--sklearn-color-unfitted-level-3);\n",
       "}\n",
       "\n",
       ".sk-estimator-doc-link.fitted span {\n",
       "  /* fitted */\n",
       "  background: var(--sklearn-color-fitted-level-0);\n",
       "  border: var(--sklearn-color-fitted-level-3);\n",
       "}\n",
       "\n",
       ".sk-estimator-doc-link:hover span {\n",
       "  display: block;\n",
       "}\n",
       "\n",
       "/* \"?\"-specific style due to the `<a>` HTML tag */\n",
       "\n",
       "#sk-container-id-2 a.estimator_doc_link {\n",
       "  float: right;\n",
       "  font-size: 1rem;\n",
       "  line-height: 1em;\n",
       "  font-family: monospace;\n",
       "  background-color: var(--sklearn-color-background);\n",
       "  border-radius: 1rem;\n",
       "  height: 1rem;\n",
       "  width: 1rem;\n",
       "  text-decoration: none;\n",
       "  /* unfitted */\n",
       "  color: var(--sklearn-color-unfitted-level-1);\n",
       "  border: var(--sklearn-color-unfitted-level-1) 1pt solid;\n",
       "}\n",
       "\n",
       "#sk-container-id-2 a.estimator_doc_link.fitted {\n",
       "  /* fitted */\n",
       "  border: var(--sklearn-color-fitted-level-1) 1pt solid;\n",
       "  color: var(--sklearn-color-fitted-level-1);\n",
       "}\n",
       "\n",
       "/* On hover */\n",
       "#sk-container-id-2 a.estimator_doc_link:hover {\n",
       "  /* unfitted */\n",
       "  background-color: var(--sklearn-color-unfitted-level-3);\n",
       "  color: var(--sklearn-color-background);\n",
       "  text-decoration: none;\n",
       "}\n",
       "\n",
       "#sk-container-id-2 a.estimator_doc_link.fitted:hover {\n",
       "  /* fitted */\n",
       "  background-color: var(--sklearn-color-fitted-level-3);\n",
       "}\n",
       "</style><div id=\"sk-container-id-2\" class=\"sk-top-container\"><div class=\"sk-text-repr-fallback\"><pre>GridSearchCV(cv=StratifiedKFold(n_splits=5, random_state=23, shuffle=True),\n",
       "             estimator=RandomForestClassifier(random_state=23), n_jobs=-1,\n",
       "             param_grid={&#x27;max_depth&#x27;: [3, 5, 7], &#x27;max_features&#x27;: [&#x27;sqrt&#x27;, None],\n",
       "                         &#x27;min_samples_leaf&#x27;: [1, 2],\n",
       "                         &#x27;min_samples_split&#x27;: [2, 4],\n",
       "                         &#x27;n_estimators&#x27;: [50, 100]},\n",
       "             scoring=&#x27;accuracy&#x27;, verbose=2)</pre><b>In a Jupyter environment, please rerun this cell to show the HTML representation or trust the notebook. <br />On GitHub, the HTML representation is unable to render, please try loading this page with nbviewer.org.</b></div><div class=\"sk-container\" hidden><div class=\"sk-item sk-dashed-wrapped\"><div class=\"sk-label-container\"><div class=\"sk-label fitted sk-toggleable\"><input class=\"sk-toggleable__control sk-hidden--visually\" id=\"sk-estimator-id-4\" type=\"checkbox\" ><label for=\"sk-estimator-id-4\" class=\"sk-toggleable__label fitted sk-toggleable__label-arrow fitted\">&nbsp;&nbsp;GridSearchCV<a class=\"sk-estimator-doc-link fitted\" rel=\"noreferrer\" target=\"_blank\" href=\"https://scikit-learn.org/1.5/modules/generated/sklearn.model_selection.GridSearchCV.html\">?<span>Documentation for GridSearchCV</span></a><span class=\"sk-estimator-doc-link fitted\">i<span>Fitted</span></span></label><div class=\"sk-toggleable__content fitted\"><pre>GridSearchCV(cv=StratifiedKFold(n_splits=5, random_state=23, shuffle=True),\n",
       "             estimator=RandomForestClassifier(random_state=23), n_jobs=-1,\n",
       "             param_grid={&#x27;max_depth&#x27;: [3, 5, 7], &#x27;max_features&#x27;: [&#x27;sqrt&#x27;, None],\n",
       "                         &#x27;min_samples_leaf&#x27;: [1, 2],\n",
       "                         &#x27;min_samples_split&#x27;: [2, 4],\n",
       "                         &#x27;n_estimators&#x27;: [50, 100]},\n",
       "             scoring=&#x27;accuracy&#x27;, verbose=2)</pre></div> </div></div><div class=\"sk-parallel\"><div class=\"sk-parallel-item\"><div class=\"sk-item\"><div class=\"sk-label-container\"><div class=\"sk-label fitted sk-toggleable\"><input class=\"sk-toggleable__control sk-hidden--visually\" id=\"sk-estimator-id-5\" type=\"checkbox\" ><label for=\"sk-estimator-id-5\" class=\"sk-toggleable__label fitted sk-toggleable__label-arrow fitted\">best_estimator_: RandomForestClassifier</label><div class=\"sk-toggleable__content fitted\"><pre>RandomForestClassifier(max_depth=7, max_features=None, min_samples_leaf=2,\n",
       "                       n_estimators=50, random_state=23)</pre></div> </div></div><div class=\"sk-serial\"><div class=\"sk-item\"><div class=\"sk-estimator fitted sk-toggleable\"><input class=\"sk-toggleable__control sk-hidden--visually\" id=\"sk-estimator-id-6\" type=\"checkbox\" ><label for=\"sk-estimator-id-6\" class=\"sk-toggleable__label fitted sk-toggleable__label-arrow fitted\">&nbsp;RandomForestClassifier<a class=\"sk-estimator-doc-link fitted\" rel=\"noreferrer\" target=\"_blank\" href=\"https://scikit-learn.org/1.5/modules/generated/sklearn.ensemble.RandomForestClassifier.html\">?<span>Documentation for RandomForestClassifier</span></a></label><div class=\"sk-toggleable__content fitted\"><pre>RandomForestClassifier(max_depth=7, max_features=None, min_samples_leaf=2,\n",
       "                       n_estimators=50, random_state=23)</pre></div> </div></div></div></div></div></div></div></div></div>"
      ],
      "text/plain": [
       "GridSearchCV(cv=StratifiedKFold(n_splits=5, random_state=23, shuffle=True),\n",
       "             estimator=RandomForestClassifier(random_state=23), n_jobs=-1,\n",
       "             param_grid={'max_depth': [3, 5, 7], 'max_features': ['sqrt', None],\n",
       "                         'min_samples_leaf': [1, 2],\n",
       "                         'min_samples_split': [2, 4],\n",
       "                         'n_estimators': [50, 100]},\n",
       "             scoring='accuracy', verbose=2)"
      ]
     },
     "execution_count": 82,
     "metadata": {},
     "output_type": "execute_result"
    }
   ],
   "source": [
    "param_grid = {\n",
    "    'n_estimators': [50, 100],\n",
    "    'max_depth': [3, 5, 7],\n",
    "    'min_samples_split': [2, 4],\n",
    "    'min_samples_leaf': [1, 2],\n",
    "    'max_features': ['sqrt', None]\n",
    "}\n",
    "\n",
    "cv = StratifiedKFold(n_splits=5, shuffle=True, random_state=23)\n",
    "grid_search = GridSearchCV(\n",
    "    estimator=RandomForestClassifier(random_state=23),\n",
    "    param_grid=param_grid,\n",
    "    scoring='accuracy',\n",
    "    cv=cv,\n",
    "    n_jobs=-1,\n",
    "    verbose=2\n",
    ")\n",
    "grid_search.fit(X_train, y_train)"
   ]
  },
  {
   "cell_type": "code",
   "execution_count": 83,
   "id": "4dce82a1-ad31-4a7a-9af1-9eb6bd00d701",
   "metadata": {},
   "outputs": [
    {
     "name": "stdout",
     "output_type": "stream",
     "text": [
      "Accuracy: 0.46153846153846156\n",
      "              precision    recall  f1-score   support\n",
      "\n",
      "           0       0.42      0.42      0.42        12\n",
      "           1       0.50      0.50      0.50        14\n",
      "\n",
      "    accuracy                           0.46        26\n",
      "   macro avg       0.46      0.46      0.46        26\n",
      "weighted avg       0.46      0.46      0.46        26\n",
      "\n",
      "Best Params: {'max_depth': 7, 'max_features': None, 'min_samples_leaf': 2, 'min_samples_split': 2, 'n_estimators': 50}\n"
     ]
    }
   ],
   "source": [
    "best_model = grid_search.best_estimator_\n",
    "y_pred = best_model.predict(X_test)\n",
    "print(\"Accuracy:\", accuracy_score(y_test, y_pred))\n",
    "print(classification_report(y_test, y_pred))\n",
    "print(\"Best Params:\", grid_search.best_params_)\n"
   ]
  },
  {
   "cell_type": "markdown",
   "id": "5d89fbf8-ea7c-4a97-a547-0e6cc1f7d035",
   "metadata": {},
   "source": [
    "### RandomizedSearch (with different params)\n"
   ]
  },
  {
   "cell_type": "code",
   "execution_count": 85,
   "id": "1770dfd0-a584-4170-8512-06a503b3ff4f",
   "metadata": {},
   "outputs": [
    {
     "name": "stdout",
     "output_type": "stream",
     "text": [
      "Manual model fit successful.\n"
     ]
    }
   ],
   "source": [
    "test_model = RandomForestClassifier(\n",
    "    n_estimators=75,\n",
    "    max_depth=7,\n",
    "    min_samples_split=3,\n",
    "    min_samples_leaf=2,\n",
    "    max_features='sqrt',\n",
    "    random_state=23\n",
    ")\n",
    "\n",
    "test_model.fit(X_train, y_train)\n",
    "print(\"Manual model fit successful.\")"
   ]
  },
  {
   "cell_type": "code",
   "execution_count": 86,
   "id": "cbf08dab-7f84-476c-9128-5541daaef46b",
   "metadata": {},
   "outputs": [
    {
     "name": "stdout",
     "output_type": "stream",
     "text": [
      "Fitting 5 folds for each of 30 candidates, totalling 150 fits\n",
      "[CV] END max_depth=5, max_features=None, min_samples_leaf=9, min_samples_split=3, n_estimators=81; total time=   0.0s\n",
      "[CV] END max_depth=5, max_features=None, min_samples_leaf=9, min_samples_split=3, n_estimators=81; total time=   0.0s\n",
      "[CV] END max_depth=5, max_features=None, min_samples_leaf=9, min_samples_split=3, n_estimators=81; total time=   0.0s\n",
      "[CV] END max_depth=5, max_features=None, min_samples_leaf=9, min_samples_split=3, n_estimators=81; total time=   0.0s\n",
      "[CV] END max_depth=5, max_features=None, min_samples_leaf=9, min_samples_split=3, n_estimators=81; total time=   0.0s\n",
      "[CV] END max_depth=7, max_features=sqrt, min_samples_leaf=8, min_samples_split=4, n_estimators=56; total time=   0.0s\n",
      "[CV] END max_depth=7, max_features=sqrt, min_samples_leaf=8, min_samples_split=4, n_estimators=56; total time=   0.0s\n",
      "[CV] END max_depth=7, max_features=sqrt, min_samples_leaf=8, min_samples_split=4, n_estimators=56; total time=   0.0s\n",
      "[CV] END max_depth=7, max_features=sqrt, min_samples_leaf=8, min_samples_split=4, n_estimators=56; total time=   0.0s\n",
      "[CV] END max_depth=7, max_features=sqrt, min_samples_leaf=8, min_samples_split=4, n_estimators=56; total time=   0.0s\n",
      "[CV] END max_depth=5, max_features=log2, min_samples_leaf=2, min_samples_split=4, n_estimators=62; total time=   0.0s\n",
      "[CV] END max_depth=5, max_features=log2, min_samples_leaf=2, min_samples_split=4, n_estimators=62; total time=   0.0s\n",
      "[CV] END max_depth=5, max_features=log2, min_samples_leaf=2, min_samples_split=4, n_estimators=62; total time=   0.0s\n",
      "[CV] END max_depth=5, max_features=log2, min_samples_leaf=2, min_samples_split=4, n_estimators=62; total time=   0.0s\n",
      "[CV] END max_depth=5, max_features=log2, min_samples_leaf=2, min_samples_split=4, n_estimators=62; total time=   0.0s\n",
      "[CV] END max_depth=7, max_features=sqrt, min_samples_leaf=4, min_samples_split=3, n_estimators=89; total time=   0.0s\n",
      "[CV] END max_depth=7, max_features=sqrt, min_samples_leaf=4, min_samples_split=3, n_estimators=89; total time=   0.0s\n",
      "[CV] END max_depth=7, max_features=sqrt, min_samples_leaf=4, min_samples_split=3, n_estimators=89; total time=   0.0s\n",
      "[CV] END max_depth=7, max_features=sqrt, min_samples_leaf=4, min_samples_split=3, n_estimators=89; total time=   0.0s\n",
      "[CV] END max_depth=7, max_features=sqrt, min_samples_leaf=4, min_samples_split=3, n_estimators=89; total time=   0.0s\n",
      "[CV] END max_depth=9, max_features=sqrt, min_samples_leaf=2, min_samples_split=3, n_estimators=166; total time=   0.1s\n",
      "[CV] END max_depth=9, max_features=sqrt, min_samples_leaf=2, min_samples_split=3, n_estimators=166; total time=   0.1s\n",
      "[CV] END max_depth=9, max_features=sqrt, min_samples_leaf=2, min_samples_split=3, n_estimators=166; total time=   0.0s\n",
      "[CV] END max_depth=9, max_features=sqrt, min_samples_leaf=2, min_samples_split=3, n_estimators=166; total time=   0.0s\n",
      "[CV] END max_depth=9, max_features=sqrt, min_samples_leaf=2, min_samples_split=3, n_estimators=166; total time=   0.1s\n",
      "[CV] END max_depth=5, max_features=None, min_samples_leaf=8, min_samples_split=5, n_estimators=168; total time=   0.1s\n",
      "[CV] END max_depth=5, max_features=None, min_samples_leaf=8, min_samples_split=5, n_estimators=168; total time=   0.0s\n",
      "[CV] END max_depth=5, max_features=None, min_samples_leaf=8, min_samples_split=5, n_estimators=168; total time=   0.1s\n",
      "[CV] END max_depth=5, max_features=None, min_samples_leaf=8, min_samples_split=5, n_estimators=168; total time=   0.1s\n",
      "[CV] END max_depth=5, max_features=None, min_samples_leaf=8, min_samples_split=5, n_estimators=168; total time=   0.1s\n",
      "[CV] END max_depth=3, max_features=None, min_samples_leaf=4, min_samples_split=2, n_estimators=106; total time=   0.0s\n",
      "[CV] END max_depth=3, max_features=None, min_samples_leaf=4, min_samples_split=2, n_estimators=106; total time=   0.0s\n",
      "[CV] END max_depth=3, max_features=None, min_samples_leaf=4, min_samples_split=2, n_estimators=106; total time=   0.0s\n",
      "[CV] END max_depth=3, max_features=None, min_samples_leaf=4, min_samples_split=2, n_estimators=106; total time=   0.0s\n",
      "[CV] END max_depth=3, max_features=None, min_samples_leaf=4, min_samples_split=2, n_estimators=106; total time=   0.0s\n",
      "[CV] END max_depth=7, max_features=sqrt, min_samples_leaf=7, min_samples_split=8, n_estimators=81; total time=   0.0s\n",
      "[CV] END max_depth=7, max_features=sqrt, min_samples_leaf=7, min_samples_split=8, n_estimators=81; total time=   0.0s\n",
      "[CV] END max_depth=7, max_features=sqrt, min_samples_leaf=7, min_samples_split=8, n_estimators=81; total time=   0.0s\n",
      "[CV] END max_depth=7, max_features=sqrt, min_samples_leaf=7, min_samples_split=8, n_estimators=81; total time=   0.0s\n",
      "[CV] END max_depth=7, max_features=sqrt, min_samples_leaf=7, min_samples_split=8, n_estimators=81; total time=   0.0s\n",
      "[CV] END max_depth=8, max_features=None, min_samples_leaf=1, min_samples_split=7, n_estimators=56; total time=   0.0s\n",
      "[CV] END max_depth=8, max_features=None, min_samples_leaf=1, min_samples_split=7, n_estimators=56; total time=   0.0s\n",
      "[CV] END max_depth=8, max_features=None, min_samples_leaf=1, min_samples_split=7, n_estimators=56; total time=   0.0s\n",
      "[CV] END max_depth=8, max_features=None, min_samples_leaf=1, min_samples_split=7, n_estimators=56; total time=   0.0s\n",
      "[CV] END max_depth=8, max_features=None, min_samples_leaf=1, min_samples_split=7, n_estimators=56; total time=   0.0s\n",
      "[CV] END max_depth=2, max_features=None, min_samples_leaf=1, min_samples_split=8, n_estimators=81; total time=   0.0s\n",
      "[CV] END max_depth=2, max_features=None, min_samples_leaf=1, min_samples_split=8, n_estimators=81; total time=   0.0s\n",
      "[CV] END max_depth=2, max_features=None, min_samples_leaf=1, min_samples_split=8, n_estimators=81; total time=   0.0s\n",
      "[CV] END max_depth=2, max_features=None, min_samples_leaf=1, min_samples_split=8, n_estimators=81; total time=   0.0s\n",
      "[CV] END max_depth=2, max_features=None, min_samples_leaf=1, min_samples_split=8, n_estimators=81; total time=   0.0s\n",
      "[CV] END max_depth=8, max_features=sqrt, min_samples_leaf=7, min_samples_split=4, n_estimators=77; total time=   0.0s\n",
      "[CV] END max_depth=8, max_features=sqrt, min_samples_leaf=7, min_samples_split=4, n_estimators=77; total time=   0.0s\n",
      "[CV] END max_depth=8, max_features=sqrt, min_samples_leaf=7, min_samples_split=4, n_estimators=77; total time=   0.0s\n",
      "[CV] END max_depth=8, max_features=sqrt, min_samples_leaf=7, min_samples_split=4, n_estimators=77; total time=   0.0s\n",
      "[CV] END max_depth=8, max_features=sqrt, min_samples_leaf=7, min_samples_split=4, n_estimators=77; total time=   0.0s\n",
      "[CV] END max_depth=8, max_features=log2, min_samples_leaf=5, min_samples_split=5, n_estimators=121; total time=   0.0s\n",
      "[CV] END max_depth=8, max_features=log2, min_samples_leaf=5, min_samples_split=5, n_estimators=121; total time=   0.0s\n",
      "[CV] END max_depth=8, max_features=log2, min_samples_leaf=5, min_samples_split=5, n_estimators=121; total time=   0.0s\n",
      "[CV] END max_depth=8, max_features=log2, min_samples_leaf=5, min_samples_split=5, n_estimators=121; total time=   0.0s\n",
      "[CV] END max_depth=8, max_features=log2, min_samples_leaf=5, min_samples_split=5, n_estimators=121; total time=   0.0s\n",
      "[CV] END max_depth=9, max_features=None, min_samples_leaf=4, min_samples_split=7, n_estimators=56; total time=   0.0s\n",
      "[CV] END max_depth=9, max_features=None, min_samples_leaf=4, min_samples_split=7, n_estimators=56; total time=   0.0s\n",
      "[CV] END max_depth=9, max_features=None, min_samples_leaf=4, min_samples_split=7, n_estimators=56; total time=   0.0s\n",
      "[CV] END max_depth=9, max_features=None, min_samples_leaf=4, min_samples_split=7, n_estimators=56; total time=   0.0s\n",
      "[CV] END max_depth=9, max_features=None, min_samples_leaf=4, min_samples_split=7, n_estimators=56; total time=   0.0s\n",
      "[CV] END max_depth=6, max_features=None, min_samples_leaf=9, min_samples_split=7, n_estimators=110; total time=   0.0s\n",
      "[CV] END max_depth=6, max_features=None, min_samples_leaf=9, min_samples_split=7, n_estimators=110; total time=   0.0s\n",
      "[CV] END max_depth=6, max_features=None, min_samples_leaf=9, min_samples_split=7, n_estimators=110; total time=   0.0s\n",
      "[CV] END max_depth=6, max_features=None, min_samples_leaf=9, min_samples_split=7, n_estimators=110; total time=   0.0s\n",
      "[CV] END max_depth=6, max_features=None, min_samples_leaf=9, min_samples_split=7, n_estimators=110; total time=   0.0s\n",
      "[CV] END max_depth=6, max_features=log2, min_samples_leaf=5, min_samples_split=4, n_estimators=87; total time=   0.0s\n",
      "[CV] END max_depth=6, max_features=log2, min_samples_leaf=5, min_samples_split=4, n_estimators=87; total time=   0.0s\n",
      "[CV] END max_depth=6, max_features=log2, min_samples_leaf=5, min_samples_split=4, n_estimators=87; total time=   0.0s\n",
      "[CV] END max_depth=6, max_features=log2, min_samples_leaf=5, min_samples_split=4, n_estimators=87; total time=   0.0s\n",
      "[CV] END max_depth=6, max_features=log2, min_samples_leaf=5, min_samples_split=4, n_estimators=87; total time=   0.0s\n",
      "[CV] END max_depth=3, max_features=log2, min_samples_leaf=9, min_samples_split=9, n_estimators=85; total time=   0.0s\n",
      "[CV] END max_depth=3, max_features=log2, min_samples_leaf=9, min_samples_split=9, n_estimators=85; total time=   0.0s\n",
      "[CV] END max_depth=3, max_features=log2, min_samples_leaf=9, min_samples_split=9, n_estimators=85; total time=   0.0s\n",
      "[CV] END max_depth=3, max_features=log2, min_samples_leaf=9, min_samples_split=9, n_estimators=85; total time=   0.0s\n",
      "[CV] END max_depth=3, max_features=log2, min_samples_leaf=9, min_samples_split=9, n_estimators=85; total time=   0.0s\n",
      "[CV] END max_depth=9, max_features=None, min_samples_leaf=7, min_samples_split=6, n_estimators=143; total time=   0.0s\n",
      "[CV] END max_depth=9, max_features=None, min_samples_leaf=7, min_samples_split=6, n_estimators=143; total time=   0.0s\n",
      "[CV] END max_depth=9, max_features=None, min_samples_leaf=7, min_samples_split=6, n_estimators=143; total time=   0.0s\n",
      "[CV] END max_depth=9, max_features=None, min_samples_leaf=7, min_samples_split=6, n_estimators=143; total time=   0.0s\n",
      "[CV] END max_depth=9, max_features=None, min_samples_leaf=7, min_samples_split=6, n_estimators=143; total time=   0.0s\n",
      "[CV] END max_depth=2, max_features=None, min_samples_leaf=6, min_samples_split=5, n_estimators=154; total time=   0.0s\n",
      "[CV] END max_depth=2, max_features=None, min_samples_leaf=6, min_samples_split=5, n_estimators=154; total time=   0.0s\n",
      "[CV] END max_depth=2, max_features=None, min_samples_leaf=6, min_samples_split=5, n_estimators=154; total time=   0.0s\n",
      "[CV] END max_depth=2, max_features=None, min_samples_leaf=6, min_samples_split=5, n_estimators=154; total time=   0.0s\n",
      "[CV] END max_depth=2, max_features=None, min_samples_leaf=6, min_samples_split=5, n_estimators=154; total time=   0.0s\n",
      "[CV] END max_depth=5, max_features=None, min_samples_leaf=5, min_samples_split=2, n_estimators=189; total time=   0.1s\n",
      "[CV] END max_depth=5, max_features=None, min_samples_leaf=5, min_samples_split=2, n_estimators=189; total time=   0.1s\n",
      "[CV] END max_depth=5, max_features=None, min_samples_leaf=5, min_samples_split=2, n_estimators=189; total time=   0.1s\n",
      "[CV] END max_depth=5, max_features=None, min_samples_leaf=5, min_samples_split=2, n_estimators=189; total time=   0.1s\n",
      "[CV] END max_depth=5, max_features=None, min_samples_leaf=5, min_samples_split=2, n_estimators=189; total time=   0.1s\n",
      "[CV] END max_depth=6, max_features=None, min_samples_leaf=5, min_samples_split=2, n_estimators=168; total time=   0.0s\n",
      "[CV] END max_depth=6, max_features=None, min_samples_leaf=5, min_samples_split=2, n_estimators=168; total time=   0.0s\n",
      "[CV] END max_depth=6, max_features=None, min_samples_leaf=5, min_samples_split=2, n_estimators=168; total time=   0.1s\n",
      "[CV] END max_depth=6, max_features=None, min_samples_leaf=5, min_samples_split=2, n_estimators=168; total time=   0.1s\n",
      "[CV] END max_depth=6, max_features=None, min_samples_leaf=5, min_samples_split=2, n_estimators=168; total time=   0.1s\n",
      "[CV] END max_depth=2, max_features=None, min_samples_leaf=2, min_samples_split=3, n_estimators=91; total time=   0.0s\n",
      "[CV] END max_depth=2, max_features=None, min_samples_leaf=2, min_samples_split=3, n_estimators=91; total time=   0.0s\n",
      "[CV] END max_depth=2, max_features=None, min_samples_leaf=2, min_samples_split=3, n_estimators=91; total time=   0.0s\n",
      "[CV] END max_depth=2, max_features=None, min_samples_leaf=2, min_samples_split=3, n_estimators=91; total time=   0.0s\n",
      "[CV] END max_depth=2, max_features=None, min_samples_leaf=2, min_samples_split=3, n_estimators=91; total time=   0.0s\n",
      "[CV] END max_depth=7, max_features=None, min_samples_leaf=6, min_samples_split=3, n_estimators=183; total time=   0.1s\n",
      "[CV] END max_depth=7, max_features=None, min_samples_leaf=6, min_samples_split=3, n_estimators=183; total time=   0.1s\n",
      "[CV] END max_depth=7, max_features=None, min_samples_leaf=6, min_samples_split=3, n_estimators=183; total time=   0.1s\n",
      "[CV] END max_depth=7, max_features=None, min_samples_leaf=6, min_samples_split=3, n_estimators=183; total time=   0.1s\n",
      "[CV] END max_depth=7, max_features=None, min_samples_leaf=6, min_samples_split=3, n_estimators=183; total time=   0.1s\n",
      "[CV] END max_depth=9, max_features=sqrt, min_samples_leaf=1, min_samples_split=8, n_estimators=59; total time=   0.0s\n",
      "[CV] END max_depth=9, max_features=sqrt, min_samples_leaf=1, min_samples_split=8, n_estimators=59; total time=   0.0s\n",
      "[CV] END max_depth=9, max_features=sqrt, min_samples_leaf=1, min_samples_split=8, n_estimators=59; total time=   0.0s\n",
      "[CV] END max_depth=9, max_features=sqrt, min_samples_leaf=1, min_samples_split=8, n_estimators=59; total time=   0.0s\n",
      "[CV] END max_depth=9, max_features=sqrt, min_samples_leaf=1, min_samples_split=8, n_estimators=59; total time=   0.0s\n",
      "[CV] END max_depth=2, max_features=sqrt, min_samples_leaf=2, min_samples_split=8, n_estimators=81; total time=   0.0s\n",
      "[CV] END max_depth=2, max_features=sqrt, min_samples_leaf=2, min_samples_split=8, n_estimators=81; total time=   0.0s\n",
      "[CV] END max_depth=2, max_features=sqrt, min_samples_leaf=2, min_samples_split=8, n_estimators=81; total time=   0.0s\n",
      "[CV] END max_depth=2, max_features=sqrt, min_samples_leaf=2, min_samples_split=8, n_estimators=81; total time=   0.0s\n",
      "[CV] END max_depth=2, max_features=sqrt, min_samples_leaf=2, min_samples_split=8, n_estimators=81; total time=   0.0s\n",
      "[CV] END max_depth=4, max_features=sqrt, min_samples_leaf=1, min_samples_split=2, n_estimators=65; total time=   0.0s\n",
      "[CV] END max_depth=4, max_features=sqrt, min_samples_leaf=1, min_samples_split=2, n_estimators=65; total time=   0.0s\n",
      "[CV] END max_depth=4, max_features=sqrt, min_samples_leaf=1, min_samples_split=2, n_estimators=65; total time=   0.0s\n",
      "[CV] END max_depth=4, max_features=sqrt, min_samples_leaf=1, min_samples_split=2, n_estimators=65; total time=   0.0s\n",
      "[CV] END max_depth=4, max_features=sqrt, min_samples_leaf=1, min_samples_split=2, n_estimators=65; total time=   0.0s\n",
      "[CV] END max_depth=7, max_features=None, min_samples_leaf=3, min_samples_split=8, n_estimators=116; total time=   0.0s\n",
      "[CV] END max_depth=7, max_features=None, min_samples_leaf=3, min_samples_split=8, n_estimators=116; total time=   0.0s\n",
      "[CV] END max_depth=7, max_features=None, min_samples_leaf=3, min_samples_split=8, n_estimators=116; total time=   0.0s\n",
      "[CV] END max_depth=7, max_features=None, min_samples_leaf=3, min_samples_split=8, n_estimators=116; total time=   0.0s\n",
      "[CV] END max_depth=7, max_features=None, min_samples_leaf=3, min_samples_split=8, n_estimators=116; total time=   0.0s\n",
      "[CV] END max_depth=2, max_features=log2, min_samples_leaf=2, min_samples_split=8, n_estimators=103; total time=   0.0s\n",
      "[CV] END max_depth=2, max_features=log2, min_samples_leaf=2, min_samples_split=8, n_estimators=103; total time=   0.0s\n",
      "[CV] END max_depth=2, max_features=log2, min_samples_leaf=2, min_samples_split=8, n_estimators=103; total time=   0.0s\n",
      "[CV] END max_depth=2, max_features=log2, min_samples_leaf=2, min_samples_split=8, n_estimators=103; total time=   0.0s\n",
      "[CV] END max_depth=2, max_features=log2, min_samples_leaf=2, min_samples_split=8, n_estimators=103; total time=   0.0s\n",
      "[CV] END max_depth=2, max_features=None, min_samples_leaf=5, min_samples_split=9, n_estimators=120; total time=   0.0s\n",
      "[CV] END max_depth=2, max_features=None, min_samples_leaf=5, min_samples_split=9, n_estimators=120; total time=   0.0s\n",
      "[CV] END max_depth=2, max_features=None, min_samples_leaf=5, min_samples_split=9, n_estimators=120; total time=   0.0s\n",
      "[CV] END max_depth=2, max_features=None, min_samples_leaf=5, min_samples_split=9, n_estimators=120; total time=   0.0s\n",
      "[CV] END max_depth=2, max_features=None, min_samples_leaf=5, min_samples_split=9, n_estimators=120; total time=   0.0s\n",
      "[CV] END max_depth=4, max_features=log2, min_samples_leaf=8, min_samples_split=8, n_estimators=73; total time=   0.0s\n",
      "[CV] END max_depth=4, max_features=log2, min_samples_leaf=8, min_samples_split=8, n_estimators=73; total time=   0.0s\n",
      "[CV] END max_depth=4, max_features=log2, min_samples_leaf=8, min_samples_split=8, n_estimators=73; total time=   0.0s\n",
      "[CV] END max_depth=4, max_features=log2, min_samples_leaf=8, min_samples_split=8, n_estimators=73; total time=   0.0s\n",
      "[CV] END max_depth=4, max_features=log2, min_samples_leaf=8, min_samples_split=8, n_estimators=73; total time=   0.0s\n",
      "[CV] END max_depth=2, max_features=log2, min_samples_leaf=8, min_samples_split=5, n_estimators=156; total time=   0.0s\n",
      "[CV] END max_depth=2, max_features=log2, min_samples_leaf=8, min_samples_split=5, n_estimators=156; total time=   0.0s\n",
      "[CV] END max_depth=2, max_features=log2, min_samples_leaf=8, min_samples_split=5, n_estimators=156; total time=   0.0s\n",
      "[CV] END max_depth=2, max_features=log2, min_samples_leaf=8, min_samples_split=5, n_estimators=156; total time=   0.0s\n",
      "[CV] END max_depth=2, max_features=log2, min_samples_leaf=8, min_samples_split=5, n_estimators=156; total time=   0.0s\n"
     ]
    },
    {
     "data": {
      "text/html": [
       "<style>#sk-container-id-3 {\n",
       "  /* Definition of color scheme common for light and dark mode */\n",
       "  --sklearn-color-text: black;\n",
       "  --sklearn-color-line: gray;\n",
       "  /* Definition of color scheme for unfitted estimators */\n",
       "  --sklearn-color-unfitted-level-0: #fff5e6;\n",
       "  --sklearn-color-unfitted-level-1: #f6e4d2;\n",
       "  --sklearn-color-unfitted-level-2: #ffe0b3;\n",
       "  --sklearn-color-unfitted-level-3: chocolate;\n",
       "  /* Definition of color scheme for fitted estimators */\n",
       "  --sklearn-color-fitted-level-0: #f0f8ff;\n",
       "  --sklearn-color-fitted-level-1: #d4ebff;\n",
       "  --sklearn-color-fitted-level-2: #b3dbfd;\n",
       "  --sklearn-color-fitted-level-3: cornflowerblue;\n",
       "\n",
       "  /* Specific color for light theme */\n",
       "  --sklearn-color-text-on-default-background: var(--sg-text-color, var(--theme-code-foreground, var(--jp-content-font-color1, black)));\n",
       "  --sklearn-color-background: var(--sg-background-color, var(--theme-background, var(--jp-layout-color0, white)));\n",
       "  --sklearn-color-border-box: var(--sg-text-color, var(--theme-code-foreground, var(--jp-content-font-color1, black)));\n",
       "  --sklearn-color-icon: #696969;\n",
       "\n",
       "  @media (prefers-color-scheme: dark) {\n",
       "    /* Redefinition of color scheme for dark theme */\n",
       "    --sklearn-color-text-on-default-background: var(--sg-text-color, var(--theme-code-foreground, var(--jp-content-font-color1, white)));\n",
       "    --sklearn-color-background: var(--sg-background-color, var(--theme-background, var(--jp-layout-color0, #111)));\n",
       "    --sklearn-color-border-box: var(--sg-text-color, var(--theme-code-foreground, var(--jp-content-font-color1, white)));\n",
       "    --sklearn-color-icon: #878787;\n",
       "  }\n",
       "}\n",
       "\n",
       "#sk-container-id-3 {\n",
       "  color: var(--sklearn-color-text);\n",
       "}\n",
       "\n",
       "#sk-container-id-3 pre {\n",
       "  padding: 0;\n",
       "}\n",
       "\n",
       "#sk-container-id-3 input.sk-hidden--visually {\n",
       "  border: 0;\n",
       "  clip: rect(1px 1px 1px 1px);\n",
       "  clip: rect(1px, 1px, 1px, 1px);\n",
       "  height: 1px;\n",
       "  margin: -1px;\n",
       "  overflow: hidden;\n",
       "  padding: 0;\n",
       "  position: absolute;\n",
       "  width: 1px;\n",
       "}\n",
       "\n",
       "#sk-container-id-3 div.sk-dashed-wrapped {\n",
       "  border: 1px dashed var(--sklearn-color-line);\n",
       "  margin: 0 0.4em 0.5em 0.4em;\n",
       "  box-sizing: border-box;\n",
       "  padding-bottom: 0.4em;\n",
       "  background-color: var(--sklearn-color-background);\n",
       "}\n",
       "\n",
       "#sk-container-id-3 div.sk-container {\n",
       "  /* jupyter's `normalize.less` sets `[hidden] { display: none; }`\n",
       "     but bootstrap.min.css set `[hidden] { display: none !important; }`\n",
       "     so we also need the `!important` here to be able to override the\n",
       "     default hidden behavior on the sphinx rendered scikit-learn.org.\n",
       "     See: https://github.com/scikit-learn/scikit-learn/issues/21755 */\n",
       "  display: inline-block !important;\n",
       "  position: relative;\n",
       "}\n",
       "\n",
       "#sk-container-id-3 div.sk-text-repr-fallback {\n",
       "  display: none;\n",
       "}\n",
       "\n",
       "div.sk-parallel-item,\n",
       "div.sk-serial,\n",
       "div.sk-item {\n",
       "  /* draw centered vertical line to link estimators */\n",
       "  background-image: linear-gradient(var(--sklearn-color-text-on-default-background), var(--sklearn-color-text-on-default-background));\n",
       "  background-size: 2px 100%;\n",
       "  background-repeat: no-repeat;\n",
       "  background-position: center center;\n",
       "}\n",
       "\n",
       "/* Parallel-specific style estimator block */\n",
       "\n",
       "#sk-container-id-3 div.sk-parallel-item::after {\n",
       "  content: \"\";\n",
       "  width: 100%;\n",
       "  border-bottom: 2px solid var(--sklearn-color-text-on-default-background);\n",
       "  flex-grow: 1;\n",
       "}\n",
       "\n",
       "#sk-container-id-3 div.sk-parallel {\n",
       "  display: flex;\n",
       "  align-items: stretch;\n",
       "  justify-content: center;\n",
       "  background-color: var(--sklearn-color-background);\n",
       "  position: relative;\n",
       "}\n",
       "\n",
       "#sk-container-id-3 div.sk-parallel-item {\n",
       "  display: flex;\n",
       "  flex-direction: column;\n",
       "}\n",
       "\n",
       "#sk-container-id-3 div.sk-parallel-item:first-child::after {\n",
       "  align-self: flex-end;\n",
       "  width: 50%;\n",
       "}\n",
       "\n",
       "#sk-container-id-3 div.sk-parallel-item:last-child::after {\n",
       "  align-self: flex-start;\n",
       "  width: 50%;\n",
       "}\n",
       "\n",
       "#sk-container-id-3 div.sk-parallel-item:only-child::after {\n",
       "  width: 0;\n",
       "}\n",
       "\n",
       "/* Serial-specific style estimator block */\n",
       "\n",
       "#sk-container-id-3 div.sk-serial {\n",
       "  display: flex;\n",
       "  flex-direction: column;\n",
       "  align-items: center;\n",
       "  background-color: var(--sklearn-color-background);\n",
       "  padding-right: 1em;\n",
       "  padding-left: 1em;\n",
       "}\n",
       "\n",
       "\n",
       "/* Toggleable style: style used for estimator/Pipeline/ColumnTransformer box that is\n",
       "clickable and can be expanded/collapsed.\n",
       "- Pipeline and ColumnTransformer use this feature and define the default style\n",
       "- Estimators will overwrite some part of the style using the `sk-estimator` class\n",
       "*/\n",
       "\n",
       "/* Pipeline and ColumnTransformer style (default) */\n",
       "\n",
       "#sk-container-id-3 div.sk-toggleable {\n",
       "  /* Default theme specific background. It is overwritten whether we have a\n",
       "  specific estimator or a Pipeline/ColumnTransformer */\n",
       "  background-color: var(--sklearn-color-background);\n",
       "}\n",
       "\n",
       "/* Toggleable label */\n",
       "#sk-container-id-3 label.sk-toggleable__label {\n",
       "  cursor: pointer;\n",
       "  display: block;\n",
       "  width: 100%;\n",
       "  margin-bottom: 0;\n",
       "  padding: 0.5em;\n",
       "  box-sizing: border-box;\n",
       "  text-align: center;\n",
       "}\n",
       "\n",
       "#sk-container-id-3 label.sk-toggleable__label-arrow:before {\n",
       "  /* Arrow on the left of the label */\n",
       "  content: \"▸\";\n",
       "  float: left;\n",
       "  margin-right: 0.25em;\n",
       "  color: var(--sklearn-color-icon);\n",
       "}\n",
       "\n",
       "#sk-container-id-3 label.sk-toggleable__label-arrow:hover:before {\n",
       "  color: var(--sklearn-color-text);\n",
       "}\n",
       "\n",
       "/* Toggleable content - dropdown */\n",
       "\n",
       "#sk-container-id-3 div.sk-toggleable__content {\n",
       "  max-height: 0;\n",
       "  max-width: 0;\n",
       "  overflow: hidden;\n",
       "  text-align: left;\n",
       "  /* unfitted */\n",
       "  background-color: var(--sklearn-color-unfitted-level-0);\n",
       "}\n",
       "\n",
       "#sk-container-id-3 div.sk-toggleable__content.fitted {\n",
       "  /* fitted */\n",
       "  background-color: var(--sklearn-color-fitted-level-0);\n",
       "}\n",
       "\n",
       "#sk-container-id-3 div.sk-toggleable__content pre {\n",
       "  margin: 0.2em;\n",
       "  border-radius: 0.25em;\n",
       "  color: var(--sklearn-color-text);\n",
       "  /* unfitted */\n",
       "  background-color: var(--sklearn-color-unfitted-level-0);\n",
       "}\n",
       "\n",
       "#sk-container-id-3 div.sk-toggleable__content.fitted pre {\n",
       "  /* unfitted */\n",
       "  background-color: var(--sklearn-color-fitted-level-0);\n",
       "}\n",
       "\n",
       "#sk-container-id-3 input.sk-toggleable__control:checked~div.sk-toggleable__content {\n",
       "  /* Expand drop-down */\n",
       "  max-height: 200px;\n",
       "  max-width: 100%;\n",
       "  overflow: auto;\n",
       "}\n",
       "\n",
       "#sk-container-id-3 input.sk-toggleable__control:checked~label.sk-toggleable__label-arrow:before {\n",
       "  content: \"▾\";\n",
       "}\n",
       "\n",
       "/* Pipeline/ColumnTransformer-specific style */\n",
       "\n",
       "#sk-container-id-3 div.sk-label input.sk-toggleable__control:checked~label.sk-toggleable__label {\n",
       "  color: var(--sklearn-color-text);\n",
       "  background-color: var(--sklearn-color-unfitted-level-2);\n",
       "}\n",
       "\n",
       "#sk-container-id-3 div.sk-label.fitted input.sk-toggleable__control:checked~label.sk-toggleable__label {\n",
       "  background-color: var(--sklearn-color-fitted-level-2);\n",
       "}\n",
       "\n",
       "/* Estimator-specific style */\n",
       "\n",
       "/* Colorize estimator box */\n",
       "#sk-container-id-3 div.sk-estimator input.sk-toggleable__control:checked~label.sk-toggleable__label {\n",
       "  /* unfitted */\n",
       "  background-color: var(--sklearn-color-unfitted-level-2);\n",
       "}\n",
       "\n",
       "#sk-container-id-3 div.sk-estimator.fitted input.sk-toggleable__control:checked~label.sk-toggleable__label {\n",
       "  /* fitted */\n",
       "  background-color: var(--sklearn-color-fitted-level-2);\n",
       "}\n",
       "\n",
       "#sk-container-id-3 div.sk-label label.sk-toggleable__label,\n",
       "#sk-container-id-3 div.sk-label label {\n",
       "  /* The background is the default theme color */\n",
       "  color: var(--sklearn-color-text-on-default-background);\n",
       "}\n",
       "\n",
       "/* On hover, darken the color of the background */\n",
       "#sk-container-id-3 div.sk-label:hover label.sk-toggleable__label {\n",
       "  color: var(--sklearn-color-text);\n",
       "  background-color: var(--sklearn-color-unfitted-level-2);\n",
       "}\n",
       "\n",
       "/* Label box, darken color on hover, fitted */\n",
       "#sk-container-id-3 div.sk-label.fitted:hover label.sk-toggleable__label.fitted {\n",
       "  color: var(--sklearn-color-text);\n",
       "  background-color: var(--sklearn-color-fitted-level-2);\n",
       "}\n",
       "\n",
       "/* Estimator label */\n",
       "\n",
       "#sk-container-id-3 div.sk-label label {\n",
       "  font-family: monospace;\n",
       "  font-weight: bold;\n",
       "  display: inline-block;\n",
       "  line-height: 1.2em;\n",
       "}\n",
       "\n",
       "#sk-container-id-3 div.sk-label-container {\n",
       "  text-align: center;\n",
       "}\n",
       "\n",
       "/* Estimator-specific */\n",
       "#sk-container-id-3 div.sk-estimator {\n",
       "  font-family: monospace;\n",
       "  border: 1px dotted var(--sklearn-color-border-box);\n",
       "  border-radius: 0.25em;\n",
       "  box-sizing: border-box;\n",
       "  margin-bottom: 0.5em;\n",
       "  /* unfitted */\n",
       "  background-color: var(--sklearn-color-unfitted-level-0);\n",
       "}\n",
       "\n",
       "#sk-container-id-3 div.sk-estimator.fitted {\n",
       "  /* fitted */\n",
       "  background-color: var(--sklearn-color-fitted-level-0);\n",
       "}\n",
       "\n",
       "/* on hover */\n",
       "#sk-container-id-3 div.sk-estimator:hover {\n",
       "  /* unfitted */\n",
       "  background-color: var(--sklearn-color-unfitted-level-2);\n",
       "}\n",
       "\n",
       "#sk-container-id-3 div.sk-estimator.fitted:hover {\n",
       "  /* fitted */\n",
       "  background-color: var(--sklearn-color-fitted-level-2);\n",
       "}\n",
       "\n",
       "/* Specification for estimator info (e.g. \"i\" and \"?\") */\n",
       "\n",
       "/* Common style for \"i\" and \"?\" */\n",
       "\n",
       ".sk-estimator-doc-link,\n",
       "a:link.sk-estimator-doc-link,\n",
       "a:visited.sk-estimator-doc-link {\n",
       "  float: right;\n",
       "  font-size: smaller;\n",
       "  line-height: 1em;\n",
       "  font-family: monospace;\n",
       "  background-color: var(--sklearn-color-background);\n",
       "  border-radius: 1em;\n",
       "  height: 1em;\n",
       "  width: 1em;\n",
       "  text-decoration: none !important;\n",
       "  margin-left: 1ex;\n",
       "  /* unfitted */\n",
       "  border: var(--sklearn-color-unfitted-level-1) 1pt solid;\n",
       "  color: var(--sklearn-color-unfitted-level-1);\n",
       "}\n",
       "\n",
       ".sk-estimator-doc-link.fitted,\n",
       "a:link.sk-estimator-doc-link.fitted,\n",
       "a:visited.sk-estimator-doc-link.fitted {\n",
       "  /* fitted */\n",
       "  border: var(--sklearn-color-fitted-level-1) 1pt solid;\n",
       "  color: var(--sklearn-color-fitted-level-1);\n",
       "}\n",
       "\n",
       "/* On hover */\n",
       "div.sk-estimator:hover .sk-estimator-doc-link:hover,\n",
       ".sk-estimator-doc-link:hover,\n",
       "div.sk-label-container:hover .sk-estimator-doc-link:hover,\n",
       ".sk-estimator-doc-link:hover {\n",
       "  /* unfitted */\n",
       "  background-color: var(--sklearn-color-unfitted-level-3);\n",
       "  color: var(--sklearn-color-background);\n",
       "  text-decoration: none;\n",
       "}\n",
       "\n",
       "div.sk-estimator.fitted:hover .sk-estimator-doc-link.fitted:hover,\n",
       ".sk-estimator-doc-link.fitted:hover,\n",
       "div.sk-label-container:hover .sk-estimator-doc-link.fitted:hover,\n",
       ".sk-estimator-doc-link.fitted:hover {\n",
       "  /* fitted */\n",
       "  background-color: var(--sklearn-color-fitted-level-3);\n",
       "  color: var(--sklearn-color-background);\n",
       "  text-decoration: none;\n",
       "}\n",
       "\n",
       "/* Span, style for the box shown on hovering the info icon */\n",
       ".sk-estimator-doc-link span {\n",
       "  display: none;\n",
       "  z-index: 9999;\n",
       "  position: relative;\n",
       "  font-weight: normal;\n",
       "  right: .2ex;\n",
       "  padding: .5ex;\n",
       "  margin: .5ex;\n",
       "  width: min-content;\n",
       "  min-width: 20ex;\n",
       "  max-width: 50ex;\n",
       "  color: var(--sklearn-color-text);\n",
       "  box-shadow: 2pt 2pt 4pt #999;\n",
       "  /* unfitted */\n",
       "  background: var(--sklearn-color-unfitted-level-0);\n",
       "  border: .5pt solid var(--sklearn-color-unfitted-level-3);\n",
       "}\n",
       "\n",
       ".sk-estimator-doc-link.fitted span {\n",
       "  /* fitted */\n",
       "  background: var(--sklearn-color-fitted-level-0);\n",
       "  border: var(--sklearn-color-fitted-level-3);\n",
       "}\n",
       "\n",
       ".sk-estimator-doc-link:hover span {\n",
       "  display: block;\n",
       "}\n",
       "\n",
       "/* \"?\"-specific style due to the `<a>` HTML tag */\n",
       "\n",
       "#sk-container-id-3 a.estimator_doc_link {\n",
       "  float: right;\n",
       "  font-size: 1rem;\n",
       "  line-height: 1em;\n",
       "  font-family: monospace;\n",
       "  background-color: var(--sklearn-color-background);\n",
       "  border-radius: 1rem;\n",
       "  height: 1rem;\n",
       "  width: 1rem;\n",
       "  text-decoration: none;\n",
       "  /* unfitted */\n",
       "  color: var(--sklearn-color-unfitted-level-1);\n",
       "  border: var(--sklearn-color-unfitted-level-1) 1pt solid;\n",
       "}\n",
       "\n",
       "#sk-container-id-3 a.estimator_doc_link.fitted {\n",
       "  /* fitted */\n",
       "  border: var(--sklearn-color-fitted-level-1) 1pt solid;\n",
       "  color: var(--sklearn-color-fitted-level-1);\n",
       "}\n",
       "\n",
       "/* On hover */\n",
       "#sk-container-id-3 a.estimator_doc_link:hover {\n",
       "  /* unfitted */\n",
       "  background-color: var(--sklearn-color-unfitted-level-3);\n",
       "  color: var(--sklearn-color-background);\n",
       "  text-decoration: none;\n",
       "}\n",
       "\n",
       "#sk-container-id-3 a.estimator_doc_link.fitted:hover {\n",
       "  /* fitted */\n",
       "  background-color: var(--sklearn-color-fitted-level-3);\n",
       "}\n",
       "</style><div id=\"sk-container-id-3\" class=\"sk-top-container\"><div class=\"sk-text-repr-fallback\"><pre>RandomizedSearchCV(cv=5, estimator=RandomForestClassifier(random_state=23),\n",
       "                   n_iter=30, n_jobs=1,\n",
       "                   param_distributions={&#x27;max_depth&#x27;: &lt;scipy.stats._distn_infrastructure.rv_discrete_frozen object at 0x000001F4252E63F0&gt;,\n",
       "                                        &#x27;max_features&#x27;: [&#x27;sqrt&#x27;, &#x27;log2&#x27;, None],\n",
       "                                        &#x27;min_samples_leaf&#x27;: &lt;scipy.stats._distn_infrastructure.rv_discrete_frozen object at 0x000001F423A52180&gt;,\n",
       "                                        &#x27;min_samples_split&#x27;: &lt;scipy.stats._distn_infrastructure.rv_discrete_frozen object at 0x000001F423A508F0&gt;,\n",
       "                                        &#x27;n_estimators&#x27;: &lt;scipy.stats._distn_infrastructure.rv_discrete_frozen object at 0x000001F424D0A630&gt;},\n",
       "                   random_state=23, scoring=&#x27;accuracy&#x27;, verbose=2)</pre><b>In a Jupyter environment, please rerun this cell to show the HTML representation or trust the notebook. <br />On GitHub, the HTML representation is unable to render, please try loading this page with nbviewer.org.</b></div><div class=\"sk-container\" hidden><div class=\"sk-item sk-dashed-wrapped\"><div class=\"sk-label-container\"><div class=\"sk-label fitted sk-toggleable\"><input class=\"sk-toggleable__control sk-hidden--visually\" id=\"sk-estimator-id-7\" type=\"checkbox\" ><label for=\"sk-estimator-id-7\" class=\"sk-toggleable__label fitted sk-toggleable__label-arrow fitted\">&nbsp;&nbsp;RandomizedSearchCV<a class=\"sk-estimator-doc-link fitted\" rel=\"noreferrer\" target=\"_blank\" href=\"https://scikit-learn.org/1.5/modules/generated/sklearn.model_selection.RandomizedSearchCV.html\">?<span>Documentation for RandomizedSearchCV</span></a><span class=\"sk-estimator-doc-link fitted\">i<span>Fitted</span></span></label><div class=\"sk-toggleable__content fitted\"><pre>RandomizedSearchCV(cv=5, estimator=RandomForestClassifier(random_state=23),\n",
       "                   n_iter=30, n_jobs=1,\n",
       "                   param_distributions={&#x27;max_depth&#x27;: &lt;scipy.stats._distn_infrastructure.rv_discrete_frozen object at 0x000001F4252E63F0&gt;,\n",
       "                                        &#x27;max_features&#x27;: [&#x27;sqrt&#x27;, &#x27;log2&#x27;, None],\n",
       "                                        &#x27;min_samples_leaf&#x27;: &lt;scipy.stats._distn_infrastructure.rv_discrete_frozen object at 0x000001F423A52180&gt;,\n",
       "                                        &#x27;min_samples_split&#x27;: &lt;scipy.stats._distn_infrastructure.rv_discrete_frozen object at 0x000001F423A508F0&gt;,\n",
       "                                        &#x27;n_estimators&#x27;: &lt;scipy.stats._distn_infrastructure.rv_discrete_frozen object at 0x000001F424D0A630&gt;},\n",
       "                   random_state=23, scoring=&#x27;accuracy&#x27;, verbose=2)</pre></div> </div></div><div class=\"sk-parallel\"><div class=\"sk-parallel-item\"><div class=\"sk-item\"><div class=\"sk-label-container\"><div class=\"sk-label fitted sk-toggleable\"><input class=\"sk-toggleable__control sk-hidden--visually\" id=\"sk-estimator-id-8\" type=\"checkbox\" ><label for=\"sk-estimator-id-8\" class=\"sk-toggleable__label fitted sk-toggleable__label-arrow fitted\">best_estimator_: RandomForestClassifier</label><div class=\"sk-toggleable__content fitted\"><pre>RandomForestClassifier(max_depth=8, min_samples_leaf=7, min_samples_split=4,\n",
       "                       n_estimators=77, random_state=23)</pre></div> </div></div><div class=\"sk-serial\"><div class=\"sk-item\"><div class=\"sk-estimator fitted sk-toggleable\"><input class=\"sk-toggleable__control sk-hidden--visually\" id=\"sk-estimator-id-9\" type=\"checkbox\" ><label for=\"sk-estimator-id-9\" class=\"sk-toggleable__label fitted sk-toggleable__label-arrow fitted\">&nbsp;RandomForestClassifier<a class=\"sk-estimator-doc-link fitted\" rel=\"noreferrer\" target=\"_blank\" href=\"https://scikit-learn.org/1.5/modules/generated/sklearn.ensemble.RandomForestClassifier.html\">?<span>Documentation for RandomForestClassifier</span></a></label><div class=\"sk-toggleable__content fitted\"><pre>RandomForestClassifier(max_depth=8, min_samples_leaf=7, min_samples_split=4,\n",
       "                       n_estimators=77, random_state=23)</pre></div> </div></div></div></div></div></div></div></div></div>"
      ],
      "text/plain": [
       "RandomizedSearchCV(cv=5, estimator=RandomForestClassifier(random_state=23),\n",
       "                   n_iter=30, n_jobs=1,\n",
       "                   param_distributions={'max_depth': <scipy.stats._distn_infrastructure.rv_discrete_frozen object at 0x000001F4252E63F0>,\n",
       "                                        'max_features': ['sqrt', 'log2', None],\n",
       "                                        'min_samples_leaf': <scipy.stats._distn_infrastructure.rv_discrete_frozen object at 0x000001F423A52180>,\n",
       "                                        'min_samples_split': <scipy.stats._distn_infrastructure.rv_discrete_frozen object at 0x000001F423A508F0>,\n",
       "                                        'n_estimators': <scipy.stats._distn_infrastructure.rv_discrete_frozen object at 0x000001F424D0A630>},\n",
       "                   random_state=23, scoring='accuracy', verbose=2)"
      ]
     },
     "execution_count": 86,
     "metadata": {},
     "output_type": "execute_result"
    }
   ],
   "source": [
    "random_search_smarter = RandomizedSearchCV(\n",
    "    estimator=model,\n",
    "    param_distributions=param_dist,\n",
    "    n_iter=30,\n",
    "    cv=5,\n",
    "    scoring='accuracy',\n",
    "    random_state=23,\n",
    "    verbose=2,\n",
    "    n_jobs=1\n",
    ")\n",
    "random_search_smarter.fit(X_train, y_train)\n"
   ]
  },
  {
   "cell_type": "code",
   "execution_count": 87,
   "id": "fd6b4672-1de7-4c9d-b5b3-b294c2bf1ed9",
   "metadata": {},
   "outputs": [],
   "source": [
    "best_model = random_search.best_estimator_\n"
   ]
  },
  {
   "cell_type": "code",
   "execution_count": 88,
   "id": "a1c9483f-6f95-4222-9065-35f87175daad",
   "metadata": {},
   "outputs": [
    {
     "name": "stdout",
     "output_type": "stream",
     "text": [
      "Accuracy: 0.577\n",
      "              precision    recall  f1-score   support\n",
      "\n",
      "           0       0.53      0.83      0.65        12\n",
      "           1       0.71      0.36      0.48        14\n",
      "\n",
      "    accuracy                           0.58        26\n",
      "   macro avg       0.62      0.60      0.56        26\n",
      "weighted avg       0.63      0.58      0.55        26\n",
      "\n"
     ]
    }
   ],
   "source": [
    "y_pred = best_model.predict(X_test)\n",
    "print(f\"Accuracy: {accuracy_score(y_test, y_pred):.3f}\")\n",
    "print(classification_report(y_test, y_pred))"
   ]
  },
  {
   "cell_type": "code",
   "execution_count": 89,
   "id": "04d0e4f2-fd40-41ea-ab56-8ebc9fe09872",
   "metadata": {},
   "outputs": [
    {
     "name": "stdout",
     "output_type": "stream",
     "text": [
      "Best Params: {'max_depth': 8, 'max_features': 'sqrt', 'min_samples_leaf': 7, 'min_samples_split': 4, 'n_estimators': 77}\n"
     ]
    }
   ],
   "source": [
    "print(\"Best Params:\", random_search.best_params_)"
   ]
  },
  {
   "cell_type": "code",
   "execution_count": 90,
   "id": "f53cf948-004c-4ddf-9558-b40d9a34a7ec",
   "metadata": {},
   "outputs": [
    {
     "data": {
      "text/plain": [
       "['X1', 'X3', 'X5', 'X6', 'X_1_5_6_weighted', 'X1_is_5', 'X6_is_5']"
      ]
     },
     "execution_count": 90,
     "metadata": {},
     "output_type": "execute_result"
    }
   ],
   "source": [
    "features"
   ]
  },
  {
   "cell_type": "markdown",
   "id": "38063d6d-dc97-4cdf-83e6-f84dfda671ee",
   "metadata": {},
   "source": [
    "### Finally, neither Random Search nor Grid Search yielded a better-performing model for the selected features, with the highest accuracy remaining at 69.2%."
   ]
  },
  {
   "cell_type": "markdown",
   "id": "09704abb-69da-4432-8125-3faaff8500c9",
   "metadata": {},
   "source": [
    "----"
   ]
  },
  {
   "cell_type": "markdown",
   "id": "071e489f-cfb5-40b2-b869-629b703b4dae",
   "metadata": {},
   "source": [
    "## Additional Feature Engineering"
   ]
  },
  {
   "cell_type": "markdown",
   "id": "265421e9-1a01-40ac-b150-a686c8b07377",
   "metadata": {},
   "source": [
    "#### Now, I will experience with Recursive Feature Elimination (RFE)"
   ]
  },
  {
   "cell_type": "code",
   "execution_count": 159,
   "id": "c4655f24-064b-4668-baee-dc5ae2b84f61",
   "metadata": {},
   "outputs": [
    {
     "data": {
      "text/plain": [
       "['X1', 'X3', 'X5', 'X6', 'X_1_5_6_weighted', 'X1_is_5', 'X6_is_5']"
      ]
     },
     "execution_count": 159,
     "metadata": {},
     "output_type": "execute_result"
    }
   ],
   "source": [
    "features"
   ]
  },
  {
   "cell_type": "code",
   "execution_count": 161,
   "id": "76f41f70-d61e-4fc9-ac56-4f1583bbb0b5",
   "metadata": {},
   "outputs": [],
   "source": [
    "# Create interaction features\n",
    "df['X1_plus_X5'] = df['X1'] + df['X5']\n",
    "\n"
   ]
  },
  {
   "cell_type": "code",
   "execution_count": 163,
   "id": "a0be205b-3d1d-43d6-a064-399ed9db35ea",
   "metadata": {},
   "outputs": [],
   "source": [
    "features += ['X1_plus_X5']\n",
    "X = df[features]\n",
    "y = df['Y']\n",
    "X_train, X_test, y_train, y_test = train_test_split(X, y, test_size=0.2, stratify=y, random_state=23) "
   ]
  },
  {
   "cell_type": "code",
   "execution_count": 165,
   "id": "79aac958-0c33-402f-b694-0caeb5ae9798",
   "metadata": {},
   "outputs": [],
   "source": [
    "model_RF = RandomForestClassifier(random_state=23)\n",
    "model_RF.fit(X_train, y_train)\n",
    "y_pred_RF = model_RF.predict(X_test)"
   ]
  },
  {
   "cell_type": "code",
   "execution_count": 167,
   "id": "813559b2-92ea-47c7-80d3-73ef4e453dd3",
   "metadata": {},
   "outputs": [
    {
     "name": "stdout",
     "output_type": "stream",
     "text": [
      "Random Forest Accuracy: 0.577\n",
      "              precision    recall  f1-score   support\n",
      "\n",
      "           0       0.55      0.50      0.52        12\n",
      "           1       0.60      0.64      0.62        14\n",
      "\n",
      "    accuracy                           0.58        26\n",
      "   macro avg       0.57      0.57      0.57        26\n",
      "weighted avg       0.57      0.58      0.58        26\n",
      "\n"
     ]
    }
   ],
   "source": [
    "print(\"Random Forest Accuracy:\", round(accuracy_score(y_test, y_pred_RF), 3))\n",
    "print(classification_report(y_test, y_pred_RF))"
   ]
  },
  {
   "cell_type": "code",
   "execution_count": null,
   "id": "680ab63f-dca5-4680-828e-f33c3e84a7ef",
   "metadata": {},
   "outputs": [],
   "source": []
  },
  {
   "cell_type": "code",
   "execution_count": 169,
   "id": "a4ca6d5f-671a-4c65-8a44-397f4c25770e",
   "metadata": {},
   "outputs": [],
   "source": [
    "from sklearn.feature_selection import RFECV\n",
    "from sklearn.model_selection import StratifiedKFold\n",
    "from sklearn.feature_selection import SelectFromModel\n"
   ]
  },
  {
   "cell_type": "code",
   "execution_count": 175,
   "id": "9e69fbf2-16a9-49aa-a73b-0878b436e8d0",
   "metadata": {},
   "outputs": [
    {
     "name": "stdout",
     "output_type": "stream",
     "text": [
      "Top 5 features: ['X3', 'X_1_5_6_weighted', 'X1_plus_X5', 'X1', 'X6']\n",
      "Accuracy with top 5 features: 0.5\n",
      "              precision    recall  f1-score   support\n",
      "\n",
      "           0       0.46      0.50      0.48        12\n",
      "           1       0.54      0.50      0.52        14\n",
      "\n",
      "    accuracy                           0.50        26\n",
      "   macro avg       0.50      0.50      0.50        26\n",
      "weighted avg       0.50      0.50      0.50        26\n",
      "\n"
     ]
    }
   ],
   "source": [
    "# Step 1: Fit the model\n",
    "rf_model = RandomForestClassifier(random_state=23)\n",
    "rf_model.fit(X_train, y_train)\n",
    "\n",
    "# Step 2: Select top 5 features by importance\n",
    "importances = rf_model.feature_importances_\n",
    "indices = importances.argsort()[::-1]  # sort descending\n",
    "top_k = 5\n",
    "top_features = X_train.columns[indices[:top_k]]\n",
    "print(\"Top 5 features:\", list(top_features))\n",
    "\n",
    "# Step 3: Train a new model using only top features\n",
    "X_train_top = X_train[top_features]\n",
    "X_test_top = X_test[top_features]\n",
    "\n",
    "rf_top_model = RandomForestClassifier(random_state=23)\n",
    "rf_top_model.fit(X_train_top, y_train)\n",
    "y_pred_top = rf_top_model.predict(X_test_top)\n",
    "\n",
    "# Step 4: Evaluate\n",
    "from sklearn.metrics import accuracy_score, classification_report\n",
    "print(\"Accuracy with top 5 features:\", round(accuracy_score(y_test, y_pred_top), 3))\n",
    "print(classification_report(y_test, y_pred_top))\n"
   ]
  },
  {
   "cell_type": "code",
   "execution_count": 173,
   "id": "7b491b69-34d3-4122-92d5-5dcb8fd1f370",
   "metadata": {},
   "outputs": [
    {
     "name": "stdout",
     "output_type": "stream",
     "text": [
      "Accuracy: 0.423\n",
      "              precision    recall  f1-score   support\n",
      "\n",
      "           0       0.40      0.50      0.44        12\n",
      "           1       0.45      0.36      0.40        14\n",
      "\n",
      "    accuracy                           0.42        26\n",
      "   macro avg       0.43      0.43      0.42        26\n",
      "weighted avg       0.43      0.42      0.42        26\n",
      "\n"
     ]
    }
   ],
   "source": [
    "model.fit(X_train_rfe, y_train)\n",
    "y_pred = model.predict(X_test_rfe)\n",
    "\n",
    "print(\"Accuracy:\", round(accuracy_score(y_test, y_pred), 3))\n",
    "print(classification_report(y_test, y_pred))"
   ]
  },
  {
   "cell_type": "code",
   "execution_count": null,
   "id": "7401e81d-c85c-411d-b6de-8f608a3fb021",
   "metadata": {},
   "outputs": [],
   "source": []
  },
  {
   "cell_type": "code",
   "execution_count": null,
   "id": "f26f48c3-4fa6-495f-9dcf-56a211e97a83",
   "metadata": {},
   "outputs": [],
   "source": []
  },
  {
   "cell_type": "code",
   "execution_count": null,
   "id": "89250005-6540-4996-85d8-40dd7c8e07e8",
   "metadata": {},
   "outputs": [],
   "source": []
  },
  {
   "cell_type": "code",
   "execution_count": null,
   "id": "887832c0-cb3b-448b-8dd6-3e16419522eb",
   "metadata": {},
   "outputs": [],
   "source": []
  },
  {
   "cell_type": "code",
   "execution_count": 181,
   "id": "667c05de-e29b-463b-b94a-75b3b1675379",
   "metadata": {},
   "outputs": [
    {
     "name": "stdout",
     "output_type": "stream",
     "text": [
      "Accuracy with selected features: 0.538\n",
      "              precision    recall  f1-score   support\n",
      "\n",
      "           0       0.50      0.50      0.50        12\n",
      "           1       0.57      0.57      0.57        14\n",
      "\n",
      "    accuracy                           0.54        26\n",
      "   macro avg       0.54      0.54      0.54        26\n",
      "weighted avg       0.54      0.54      0.54        26\n",
      "\n"
     ]
    },
    {
     "name": "stderr",
     "output_type": "stream",
     "text": [
      "E:\\Devs\\pyEnv-1\\NLP_experimental\\NLP_1-env\\Lib\\site-packages\\sklearn\\base.py:486: UserWarning: X has feature names, but SelectFromModel was fitted without feature names\n",
      "  warnings.warn(\n",
      "E:\\Devs\\pyEnv-1\\NLP_experimental\\NLP_1-env\\Lib\\site-packages\\sklearn\\base.py:486: UserWarning: X has feature names, but SelectFromModel was fitted without feature names\n",
      "  warnings.warn(\n"
     ]
    }
   ],
   "source": [
    "# Fit Random Forest on the training set\n",
    "rf = RandomForestClassifier(random_state=23)\n",
    "rf.fit(X_train, y_train)\n",
    "\n",
    "# Apply SelectFromModel\n",
    "selector = SelectFromModel(estimator=rf, threshold=\"mean\", prefit=True)\n",
    "X_train_selected = selector.transform(X_train)\n",
    "X_test_selected = selector.transform(X_test)\n",
    "\n",
    "# Train model again on selected features\n",
    "model_selected = RandomForestClassifier(random_state=23)\n",
    "model_selected.fit(X_train_selected, y_train)\n",
    "\n",
    "# Evaluate\n",
    "y_pred_selected = model_selected.predict(X_test_selected)\n",
    "acc = accuracy_score(y_test, y_pred_selected)\n",
    "\n",
    "print(f\"Accuracy with selected features: {acc:.3f}\")\n",
    "print(classification_report(y_test, y_pred_selected))\n"
   ]
  },
  {
   "cell_type": "code",
   "execution_count": 183,
   "id": "a51daa1b-989c-4c69-8a4b-f07d0807b758",
   "metadata": {},
   "outputs": [
    {
     "name": "stdout",
     "output_type": "stream",
     "text": [
      "Selected features: ['X3', 'X_1_5_6_weighted', 'X1_plus_X5']\n"
     ]
    }
   ],
   "source": [
    "selected_features = X_train.columns[selector.get_support()]\n",
    "print(\"Selected features:\", list(selected_features))\n"
   ]
  },
  {
   "cell_type": "code",
   "execution_count": null,
   "id": "ad08abe6-c3e0-41f4-a83d-90ce8c2f18b5",
   "metadata": {},
   "outputs": [],
   "source": []
  },
  {
   "cell_type": "code",
   "execution_count": null,
   "id": "9734c056-8905-4f33-9b33-c82689eb1e8f",
   "metadata": {},
   "outputs": [],
   "source": []
  },
  {
   "cell_type": "code",
   "execution_count": null,
   "id": "3afdb1cc-e9e7-4908-850b-95f84179c668",
   "metadata": {},
   "outputs": [],
   "source": []
  },
  {
   "cell_type": "code",
   "execution_count": null,
   "id": "86e8c612-be8f-4848-a0d1-3f12b3bd20c4",
   "metadata": {},
   "outputs": [],
   "source": []
  },
  {
   "cell_type": "code",
   "execution_count": null,
   "id": "5c7fbb2b-d86f-4483-b8dc-9e3521513674",
   "metadata": {},
   "outputs": [],
   "source": []
  },
  {
   "cell_type": "code",
   "execution_count": null,
   "id": "8dc981cd-acc6-4722-b432-870b96eba62f",
   "metadata": {},
   "outputs": [],
   "source": []
  },
  {
   "cell_type": "code",
   "execution_count": null,
   "id": "46b92e27-14d4-4e5b-a6a0-9ede04569b12",
   "metadata": {},
   "outputs": [],
   "source": []
  },
  {
   "cell_type": "code",
   "execution_count": 186,
   "id": "1b7cd59c-00f9-48c0-98ff-a9ea63aa7a4a",
   "metadata": {},
   "outputs": [
    {
     "data": {
      "text/plain": [
       "['X1',\n",
       " 'X3',\n",
       " 'X5',\n",
       " 'X6',\n",
       " 'X_1_5_6_weighted',\n",
       " 'X1_is_5',\n",
       " 'X6_is_5',\n",
       " 'X1_plus_X5',\n",
       " 'X5_minus_X6']"
      ]
     },
     "execution_count": 186,
     "metadata": {},
     "output_type": "execute_result"
    }
   ],
   "source": [
    "features"
   ]
  },
  {
   "cell_type": "code",
   "execution_count": 188,
   "id": "f6e28b0b-a934-4141-a300-b03d94bd11a1",
   "metadata": {},
   "outputs": [
    {
     "ename": "ValueError",
     "evalue": "list.remove(x): x not in list",
     "output_type": "error",
     "traceback": [
      "\u001b[1;31m---------------------------------------------------------------------------\u001b[0m",
      "\u001b[1;31mValueError\u001b[0m                                Traceback (most recent call last)",
      "Cell \u001b[1;32mIn[188], line 3\u001b[0m\n\u001b[0;32m      1\u001b[0m features_to_remove\u001b[38;5;241m=\u001b[39m [\u001b[38;5;124m'\u001b[39m\u001b[38;5;124mX5\u001b[39m\u001b[38;5;124m'\u001b[39m, \u001b[38;5;124m'\u001b[39m\u001b[38;5;124mX6_is_5\u001b[39m\u001b[38;5;124m'\u001b[39m, \u001b[38;5;124m'\u001b[39m\u001b[38;5;124mX5_minus_X6\u001b[39m\u001b[38;5;124m'\u001b[39m, \u001b[38;5;124m'\u001b[39m\u001b[38;5;124mX6_is_5\u001b[39m\u001b[38;5;124m'\u001b[39m]\n\u001b[0;32m      2\u001b[0m \u001b[38;5;28;01mfor\u001b[39;00m feature \u001b[38;5;129;01min\u001b[39;00m features_to_remove: \n\u001b[1;32m----> 3\u001b[0m     \u001b[43mfeatures\u001b[49m\u001b[38;5;241;43m.\u001b[39;49m\u001b[43mremove\u001b[49m\u001b[43m(\u001b[49m\u001b[43mfeature\u001b[49m\u001b[43m)\u001b[49m\n",
      "\u001b[1;31mValueError\u001b[0m: list.remove(x): x not in list"
     ]
    }
   ],
   "source": [
    "features_to_remove= ['X5', 'X6_is_5', 'X5_minus_X6']\n",
    "for feature in features_to_remove: \n",
    "    features.remove(feature)\n"
   ]
  },
  {
   "cell_type": "code",
   "execution_count": 190,
   "id": "ec94f05b-b7d1-45d6-ba68-1878cb68f11c",
   "metadata": {},
   "outputs": [
    {
     "data": {
      "text/plain": [
       "['X1', 'X3', 'X6', 'X_1_5_6_weighted', 'X1_is_5', 'X1_plus_X5']"
      ]
     },
     "execution_count": 190,
     "metadata": {},
     "output_type": "execute_result"
    }
   ],
   "source": [
    "features"
   ]
  },
  {
   "cell_type": "code",
   "execution_count": 192,
   "id": "0663c1bb-5b23-4232-aa37-8019c328e5ff",
   "metadata": {},
   "outputs": [],
   "source": [
    "X = df[features]\n",
    "y = df['Y']\n",
    "X_train, X_test, y_train, y_test = train_test_split(X, y, test_size=0.2, stratify=y, random_state=23) "
   ]
  },
  {
   "cell_type": "code",
   "execution_count": 194,
   "id": "907ea048-8c72-44db-a3ce-6556a73a2fec",
   "metadata": {},
   "outputs": [],
   "source": [
    "model_RF = RandomForestClassifier(random_state=23)\n",
    "model_RF.fit(X_train, y_train)\n",
    "y_pred_RF = model_RF.predict(X_test)"
   ]
  },
  {
   "cell_type": "code",
   "execution_count": 196,
   "id": "64800404-b752-4fbb-a9a3-92fa2921385e",
   "metadata": {},
   "outputs": [
    {
     "name": "stdout",
     "output_type": "stream",
     "text": [
      "Random Forest Accuracy: 0.5\n",
      "              precision    recall  f1-score   support\n",
      "\n",
      "           0       0.45      0.42      0.43        12\n",
      "           1       0.53      0.57      0.55        14\n",
      "\n",
      "    accuracy                           0.50        26\n",
      "   macro avg       0.49      0.49      0.49        26\n",
      "weighted avg       0.50      0.50      0.50        26\n",
      "\n"
     ]
    }
   ],
   "source": [
    "print(\"Random Forest Accuracy:\", round(accuracy_score(y_test, y_pred_RF), 3))\n",
    "print(classification_report(y_test, y_pred_RF))"
   ]
  },
  {
   "cell_type": "code",
   "execution_count": null,
   "id": "8f38f6f1-ea4c-40d8-9428-27eab5063d3e",
   "metadata": {},
   "outputs": [],
   "source": []
  },
  {
   "cell_type": "code",
   "execution_count": null,
   "id": "52183b38-1900-48ff-b0b1-c5a31bb00ee2",
   "metadata": {},
   "outputs": [],
   "source": []
  },
  {
   "cell_type": "code",
   "execution_count": null,
   "id": "e803b49d-8304-42d1-befa-ffae5f2bcc78",
   "metadata": {},
   "outputs": [],
   "source": []
  },
  {
   "cell_type": "code",
   "execution_count": null,
   "id": "3b6806b8-9e76-4827-b082-edce3cab2c95",
   "metadata": {},
   "outputs": [],
   "source": []
  },
  {
   "cell_type": "code",
   "execution_count": null,
   "id": "376db298-c2fd-4316-b243-643da5d4569f",
   "metadata": {},
   "outputs": [],
   "source": [
    "from sklearn.ensemble import AdaBoostClassifier\n",
    "from sklearn.tree import DecisionTreeClassifier"
   ]
  },
  {
   "cell_type": "code",
   "execution_count": null,
   "id": "96fbd4e4-6631-41cb-938d-eb647984bad9",
   "metadata": {},
   "outputs": [],
   "source": [
    "model_base = DecisionTreeClassifier(max_depth=5, random_state=23)\n",
    "model_ABC = AdaBoostClassifier(estimator=model_base, n_estimators=100, random_state=23)\n",
    "model_ABC.fit(X_train, y_train)\n",
    "y_pred_ABC = model_ABC.predict(X_test)\n",
    "abc_accuracy = accuracy_score(y_test, y_pred_ABC)\n",
    "print(f'AdaBoost accuracy:\\t{abc_accuracy*100:.2f} %')"
   ]
  },
  {
   "cell_type": "code",
   "execution_count": null,
   "id": "643224aa-395c-4e3e-865b-3e67b604ba26",
   "metadata": {},
   "outputs": [],
   "source": []
  },
  {
   "cell_type": "code",
   "execution_count": null,
   "id": "f5499102-1972-4635-bf6e-b484316d3d4b",
   "metadata": {},
   "outputs": [],
   "source": [
    "from sklearn.model_selection import RandomizedSearchCV\n",
    "from sklearn.tree import DecisionTreeClassifier\n",
    "from sklearn.pipeline import Pipeline\n",
    "from scipy.stats import randint, uniform\n",
    "from sklearn.metrics import classification_report\n",
    "import numpy as np\n"
   ]
  },
  {
   "cell_type": "code",
   "execution_count": null,
   "id": "3258ff84-f978-4f55-9ad1-64f77369f018",
   "metadata": {},
   "outputs": [],
   "source": [
    "# Define base estimator and full model\n",
    "model_base = DecisionTreeClassifier(max_depth=1, random_state=23)\n",
    "model_ABC = AdaBoostClassifier(estimator=model_base, random_state=23, algorithm='SAMME')\n",
    "\n",
    "# Parameter distribution\n",
    "param_dist = {\n",
    "    #'estimator__n_estimators': randint(10, 100),      # RF trees\n",
    "    'estimator__max_depth': randint(1, 4),            # RF depth\n",
    "    'n_estimators': randint(30, 150),                      # AdaBoost estimators\n",
    "    'learning_rate': uniform(0.01, 1.0)           # AdaBoost learning rate\n",
    "}\n",
    "\n",
    "# RandomizedSearchCV\n",
    "random_search = RandomizedSearchCV(\n",
    "    estimator=model_ABC,\n",
    "    param_distributions=param_dist,\n",
    "    n_iter=40,\n",
    "    cv=5,\n",
    "    scoring='accuracy',\n",
    "    n_jobs=-1,\n",
    "    random_state=23,\n",
    "    verbose=2\n",
    ")\n",
    "\n",
    "\n"
   ]
  },
  {
   "cell_type": "code",
   "execution_count": null,
   "id": "33bf199d-47c7-415b-be2d-be09965bf985",
   "metadata": {},
   "outputs": [],
   "source": [
    "# Fit search\n",
    "random_search.fit(X_train, y_train)\n",
    "\n"
   ]
  },
  {
   "cell_type": "code",
   "execution_count": null,
   "id": "449a0477-45b0-4377-9545-1052510b64eb",
   "metadata": {},
   "outputs": [],
   "source": [
    "# Evaluate best model\n",
    "best_model = random_search.best_estimator_\n",
    "y_pred = best_model.predict(X_test)\n",
    "accuracy = accuracy_score(y_test, y_pred)\n",
    "\n",
    "print(\"\\n✅ Best parameters found:\")\n",
    "print(random_search.best_params_)\n",
    "print(f\"\\n🎯 Test Accuracy: {accuracy*100:.2f}%\")\n",
    "print(\"\\n📊 Classification Report:\\n\", classification_report(y_test, y_pred))"
   ]
  },
  {
   "cell_type": "code",
   "execution_count": null,
   "id": "d8041b94-a7dd-4d8d-9764-f5e87ace632c",
   "metadata": {},
   "outputs": [],
   "source": [
    "# Plotting the scores by model\n",
    "plt.figure(figsize=(10, 6))\n",
    "\n",
    "plt.plot(depths, rfc_scores, 's-', label='Random Forest')\n",
    "plt.plot(depths, abc_scores, '^-', label='AdaBoost')\n",
    "\n",
    "plt.xlabel('max Depth')\n",
    "plt.ylabel('Accuracy Score')\n",
    "plt.title('Comparison of Model Accuracy Scores at Different Max Depth Values')\n",
    "plt.legend()\n",
    "plt.grid(True)\n",
    "\n",
    "plt.show()\n",
    "     \n"
   ]
  },
  {
   "cell_type": "code",
   "execution_count": null,
   "id": "e5a52b93-f13c-4cee-9ebd-e52c60471f32",
   "metadata": {},
   "outputs": [],
   "source": [
    "from sklearn.model_selection import RandomizedSearchCV\n",
    "from sklearn.pipeline import Pipeline\n",
    "from scipy.stats import randint\n",
    "\n",
    "# Base estimator\n",
    "rf = RandomForestClassifier(random_state=23)\n",
    "\n",
    "# Full AdaBoost model\n",
    "model = AdaBoostClassifier(base_estimator=rf, random_state=23)\n",
    "\n",
    "param_dist = {\n",
    "    'base_estimator__n_estimators': randint(10, 100),\n",
    "    'base_estimator__max_depth': randint(2, 6),\n",
    "    'n_estimators': randint(50, 150),\n",
    "    'learning_rate': [0.01, 0.05, 0.1, 0.5, 1.0]\n",
    "}\n",
    "\n",
    "random_search = RandomizedSearchCV(\n",
    "    model,\n",
    "    param_distributions=param_dist,\n",
    "    n_iter=30,\n",
    "    cv=5,\n",
    "    scoring='accuracy',\n",
    "    random_state=42,\n",
    "    n_jobs=-1\n",
    ")\n",
    "\n",
    "random_search.fit(X, y)\n",
    "\n",
    "print(\"Best params:\", random_search.best_params_)\n",
    "print(\"Best CV score:\", random_search.best_score_)"
   ]
  },
  {
   "cell_type": "code",
   "execution_count": null,
   "id": "bc45c23d-c188-47bf-a5f3-20f47d1e3e50",
   "metadata": {},
   "outputs": [],
   "source": []
  },
  {
   "cell_type": "code",
   "execution_count": 181,
   "id": "115d7be2-dda8-4a5b-9091-ffe660d207d4",
   "metadata": {},
   "outputs": [],
   "source": [
    "# Define model and param search space\n",
    "model = RandomForestClassifier(random_state=23)\n",
    "\n",
    "param_dist = {\n",
    "    \"n_estimators\": randint(10, 150),\n",
    "    \"max_depth\": randint(2, 10),\n",
    "    \"min_samples_split\": randint(2, 10),\n",
    "    \"min_samples_leaf\": randint(1, 10),\n",
    "    \"max_features\": [\"sqrt\", \"log2\", None]\n",
    "}"
   ]
  },
  {
   "cell_type": "code",
   "execution_count": 183,
   "id": "948ef55b-6f8d-47a7-929d-88c2fc30e891",
   "metadata": {},
   "outputs": [],
   "source": [
    "search = RandomizedSearchCV(\n",
    "    estimator=model,\n",
    "    param_distributions=param_dist,\n",
    "    n_iter=40,\n",
    "    scoring=\"accuracy\",\n",
    "    cv=5,\n",
    "    n_jobs=-1,\n",
    "    verbose=2,\n",
    "    random_state=23\n",
    ")\n"
   ]
  },
  {
   "cell_type": "code",
   "execution_count": 185,
   "id": "1d0e23c1-0f2d-47e5-9954-2f21a562ddba",
   "metadata": {},
   "outputs": [
    {
     "name": "stdout",
     "output_type": "stream",
     "text": [
      "Fitting 5 folds for each of 40 candidates, totalling 200 fits\n"
     ]
    }
   ],
   "source": [
    "search.fit(X_train, y_train)\n",
    "best_model = search.best_estimator_\n"
   ]
  },
  {
   "cell_type": "code",
   "execution_count": 157,
   "id": "6582d127-af21-452e-a313-1664926f09e7",
   "metadata": {},
   "outputs": [
    {
     "name": "stdout",
     "output_type": "stream",
     "text": [
      "Accuracy: 0.462\n",
      "\n",
      "Classification Report:\n",
      "               precision    recall  f1-score   support\n",
      "\n",
      "           0       0.42      0.42      0.42        12\n",
      "           1       0.50      0.50      0.50        14\n",
      "\n",
      "    accuracy                           0.46        26\n",
      "   macro avg       0.46      0.46      0.46        26\n",
      "weighted avg       0.46      0.46      0.46        26\n",
      "\n"
     ]
    },
    {
     "ename": "NameError",
     "evalue": "name 'search' is not defined",
     "output_type": "error",
     "traceback": [
      "\u001b[1;31m---------------------------------------------------------------------------\u001b[0m",
      "\u001b[1;31mNameError\u001b[0m                                 Traceback (most recent call last)",
      "Cell \u001b[1;32mIn[157], line 4\u001b[0m\n\u001b[0;32m      2\u001b[0m \u001b[38;5;28mprint\u001b[39m(\u001b[38;5;124m\"\u001b[39m\u001b[38;5;124mAccuracy:\u001b[39m\u001b[38;5;124m\"\u001b[39m, \u001b[38;5;28mround\u001b[39m(accuracy_score(y_test, y_pred), \u001b[38;5;241m3\u001b[39m))\n\u001b[0;32m      3\u001b[0m \u001b[38;5;28mprint\u001b[39m(\u001b[38;5;124m\"\u001b[39m\u001b[38;5;130;01m\\n\u001b[39;00m\u001b[38;5;124mClassification Report:\u001b[39m\u001b[38;5;130;01m\\n\u001b[39;00m\u001b[38;5;124m\"\u001b[39m, classification_report(y_test, y_pred))\n\u001b[1;32m----> 4\u001b[0m \u001b[38;5;28mprint\u001b[39m(\u001b[38;5;124m\"\u001b[39m\u001b[38;5;124mBest Params:\u001b[39m\u001b[38;5;124m\"\u001b[39m, \u001b[43msearch\u001b[49m\u001b[38;5;241m.\u001b[39mbest_params_)\n",
      "\u001b[1;31mNameError\u001b[0m: name 'search' is not defined"
     ]
    }
   ],
   "source": [
    "y_pred = best_model.predict(X_test)\n",
    "print(\"Accuracy:\", round(accuracy_score(y_test, y_pred), 3))\n",
    "print(\"\\nClassification Report:\\n\", classification_report(y_test, y_pred))\n",
    "print(\"Best Params:\", search.best_params_)"
   ]
  },
  {
   "cell_type": "code",
   "execution_count": null,
   "id": "1a00d5c9-141a-4604-a87d-9ca16129c3fc",
   "metadata": {},
   "outputs": [],
   "source": []
  },
  {
   "cell_type": "code",
   "execution_count": null,
   "id": "f1091ec9-34fb-4c0e-aad2-02e5a80b663e",
   "metadata": {},
   "outputs": [],
   "source": []
  },
  {
   "cell_type": "code",
   "execution_count": null,
   "id": "40bccda3-a4e6-4f6d-8376-a546805d5c7c",
   "metadata": {},
   "outputs": [],
   "source": []
  },
  {
   "cell_type": "code",
   "execution_count": null,
   "id": "6037c65d-2732-4b47-b4d6-e119732badcb",
   "metadata": {},
   "outputs": [],
   "source": []
  },
  {
   "cell_type": "code",
   "execution_count": null,
   "id": "085a5690-207d-406d-bd25-1e29c45d07d2",
   "metadata": {},
   "outputs": [],
   "source": []
  },
  {
   "cell_type": "code",
   "execution_count": null,
   "id": "ea8d3513-285b-4afe-b0c3-d37210b8d456",
   "metadata": {},
   "outputs": [],
   "source": []
  },
  {
   "cell_type": "code",
   "execution_count": null,
   "id": "b60d0d50-f8bf-4eb0-a018-fb1da0c2ef4c",
   "metadata": {},
   "outputs": [],
   "source": [
    "print(\"Random Forest Accuracy:\", round(accuracy_score(y_test, y_pred_RF), 3))\n",
    "print(classification_report(y_test, y_pred_RF))"
   ]
  },
  {
   "cell_type": "code",
   "execution_count": null,
   "id": "ab187bca-8be9-4fa9-83f6-106e06ab6b83",
   "metadata": {},
   "outputs": [],
   "source": []
  },
  {
   "cell_type": "markdown",
   "id": "cb3d45af-895e-4d9f-9962-ce9073c2fed7",
   "metadata": {},
   "source": [
    "#### Interaction Terms Between Strong Features"
   ]
  },
  {
   "cell_type": "code",
   "execution_count": null,
   "id": "cace29d9-8fa3-4cbb-b0b8-db87d4aa91ab",
   "metadata": {},
   "outputs": [],
   "source": [
    "df['X1*X5'] = df['X1'] * df['X5']\n",
    "df['X5_minus_X6'] = df['X5'] - df['X6']"
   ]
  },
  {
   "cell_type": "code",
   "execution_count": null,
   "id": "b73c3fd0-fbb3-43fa-891e-8d8bf75e6789",
   "metadata": {},
   "outputs": [],
   "source": [
    "features += ['X1*X5', 'X5_minus_X6']"
   ]
  },
  {
   "cell_type": "code",
   "execution_count": null,
   "id": "ef51146d-10ce-4203-ac76-5560eceef4f8",
   "metadata": {},
   "outputs": [],
   "source": [
    "X = df[features]\n",
    "y = df['Y']\n",
    "X_train, X_test, y_train, y_test = train_test_split(X, y, test_size=0.2, stratify=y, random_state=23) "
   ]
  },
  {
   "cell_type": "code",
   "execution_count": null,
   "id": "7ba7ccee-359f-41e1-92a5-b3e66cc07b76",
   "metadata": {},
   "outputs": [],
   "source": [
    "model_RF = RandomForestClassifier(random_state=23)\n",
    "model_RF.fit(X_train, y_train)\n",
    "y_pred_RF = model_RF.predict(X_test)"
   ]
  },
  {
   "cell_type": "code",
   "execution_count": null,
   "id": "9ec33bf9-159f-4ed1-bff3-ffde846afe33",
   "metadata": {},
   "outputs": [],
   "source": [
    "print(\"Random Forest Accuracy:\", round(accuracy_score(y_test, y_pred_RF), 3))\n",
    "print(classification_report(y_test, y_pred_RF))"
   ]
  },
  {
   "cell_type": "markdown",
   "id": "fd969905-a6a8-4db1-b6e1-dc0779f43096",
   "metadata": {},
   "source": [
    "#### Drop Low-Correlation Features"
   ]
  },
  {
   "cell_type": "code",
   "execution_count": null,
   "id": "be52bf9f-880b-463e-a6c9-e6e7eed42b19",
   "metadata": {},
   "outputs": [],
   "source": [
    "X = df.drop(columns=['Y','X2', 'X4'])"
   ]
  },
  {
   "cell_type": "code",
   "execution_count": null,
   "id": "34b90797-6a25-46b5-ac18-cac0891367e0",
   "metadata": {},
   "outputs": [],
   "source": [
    "X_train, X_test, y_train, y_test = train_test_split(X, y, test_size=0.2, stratify=y, random_state=23) "
   ]
  },
  {
   "cell_type": "code",
   "execution_count": null,
   "id": "0f6c0eef-ad1f-4213-bd3d-19d5d270b8d7",
   "metadata": {},
   "outputs": [],
   "source": [
    "model_RF = RandomForestClassifier(random_state=23)\n",
    "model_RF.fit(X_train, y_train)\n",
    "y_pred_RF = model_RF.predict(X_test)"
   ]
  },
  {
   "cell_type": "code",
   "execution_count": null,
   "id": "8c18f8e3-7e0d-4e60-8609-6e4863a8ecea",
   "metadata": {},
   "outputs": [],
   "source": [
    "print(\"Random Forest Accuracy:\", round(accuracy_score(y_test, y_pred_RF), 3))\n",
    "print(classification_report(y_test, y_pred_RF))"
   ]
  },
  {
   "cell_type": "code",
   "execution_count": null,
   "id": "ec2c5784-672e-4100-adc1-33b5dd832e79",
   "metadata": {},
   "outputs": [],
   "source": []
  },
  {
   "cell_type": "code",
   "execution_count": null,
   "id": "6f2a3bd8-86ef-43a1-84d6-8fa1a6d133e6",
   "metadata": {},
   "outputs": [],
   "source": [
    "X.info()"
   ]
  },
  {
   "cell_type": "markdown",
   "id": "0f38a98a-6ca1-4621-980f-b816962747d0",
   "metadata": {},
   "source": [
    "## Feature Importance\n",
    "Using Random Forest, feature importances, and correlation-based analysis, we concluded that:\n",
    "\n",
    "Most important features:\n",
    "\n",
    "  **X1** (On-time delivery)\n",
    "  \n",
    "  **X5** (Courier satisfaction)\n",
    "  \n",
    "  **X6** (App usability)\n",
    "\n",
    "Least important features:\n",
    "\n",
    "   **X2** (Contents as expected)\n",
    "   \n",
    "   **X4** (Price satisfaction)\n",
    "   \n",
    "**These could be considered for removal in future surveys without significant loss in predictive power.**"
   ]
  },
  {
   "cell_type": "code",
   "execution_count": null,
   "id": "1dc38c2f-076e-4faf-a620-5d4176583d74",
   "metadata": {},
   "outputs": [],
   "source": []
  },
  {
   "cell_type": "code",
   "execution_count": null,
   "id": "8c9ea422-ce2c-45c2-b902-70b489fe97ad",
   "metadata": {},
   "outputs": [],
   "source": [
    "from sklearn.tree import plot_tree\n",
    "\n",
    "plt.figure(figsize=(20, 10))\n",
    "plot_tree(\n",
    "    model_RF.estimators_[0],               # One tree from the forest\n",
    "    feature_names=X.columns,         # Show feature names\n",
    "    class_names=['Unhappy', 'Happy'],\n",
    "    filled=True, rounded=True, fontsize=10\n",
    ")\n",
    "plt.title(\"Decision Tree from Random Forest\")\n",
    "plt.show()\n"
   ]
  },
  {
   "cell_type": "code",
   "execution_count": null,
   "id": "61bae34a-d389-4793-b53d-241c2545eda3",
   "metadata": {},
   "outputs": [],
   "source": [
    "score_progression = [.538, .577, .615, .962]\n",
    "feature_eng = ['No Feature Eng', 'Weigthed sum(X1, X5, X6)', 'Binary Flags', 'Drop Low Correlation feat. (X2, X4)']\n",
    "plt.figure(figsize=(14,7))\n",
    "plt.plot(feature_eng, score_progression, marker='o', linestyle='-', color='steelblue')\n",
    "# Add point labels\n",
    "for i, score in enumerate(score_progression):\n",
    "    plt.text(i, score + 0.01, f\"{score:.3f}\", ha='center', va='bottom', fontsize=10, fontweight='bold')\n",
    "\n",
    "plt.title(\"Accuracy Progression with Feature Engineering\")\n",
    "plt.ylabel(\"Accuracy\")\n",
    "plt.ylim(0.5, 1.05)\n",
    "plt.grid(axis='y', linestyle='--', alpha=0.5)\n",
    "plt.tight_layout()\n",
    "plt.show()"
   ]
  },
  {
   "cell_type": "markdown",
   "id": "24a97387-9210-493e-9328-58d23ec26394",
   "metadata": {},
   "source": [
    "#### We visualized how accuracy improved step by step as feature engineering evolved. Notably, the final boost came when we dropped the low-correlation features X2 and X4, leading to a dramatic leap in accuracy, effectively unlocking the model’s full predictive potential. This highlights the importance of eliminating weak or noisy signals when working with compact, structured data."
   ]
  },
  {
   "cell_type": "code",
   "execution_count": null,
   "id": "ddf12a1d-4087-4c17-8ae3-9546539922a2",
   "metadata": {},
   "outputs": [],
   "source": []
  }
 ],
 "metadata": {
  "kernelspec": {
   "display_name": "NLP1-env",
   "language": "python",
   "name": "nlp1-env"
  },
  "language_info": {
   "codemirror_mode": {
    "name": "ipython",
    "version": 3
   },
   "file_extension": ".py",
   "mimetype": "text/x-python",
   "name": "python",
   "nbconvert_exporter": "python",
   "pygments_lexer": "ipython3",
   "version": "3.12.7"
  }
 },
 "nbformat": 4,
 "nbformat_minor": 5
}
